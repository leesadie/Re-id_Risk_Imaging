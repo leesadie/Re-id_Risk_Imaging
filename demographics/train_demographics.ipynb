{
 "cells": [
  {
   "cell_type": "markdown",
   "id": "e84b315c",
   "metadata": {},
   "source": [
    "# Predict demographics from chest x-rays"
   ]
  },
  {
   "cell_type": "markdown",
   "id": "eb96817b",
   "metadata": {},
   "source": [
    "## Imports and setup"
   ]
  },
  {
   "cell_type": "code",
   "execution_count": 5,
   "id": "65ec8b49",
   "metadata": {},
   "outputs": [
    {
     "name": "stderr",
     "output_type": "stream",
     "text": [
      "/opt/anaconda3/envs/reid-attack/lib/python3.11/site-packages/torchvision/io/image.py:14: UserWarning: Failed to load image Python extension: 'dlopen(/opt/anaconda3/envs/reid-attack/lib/python3.11/site-packages/torchvision/image.so, 0x0006): Library not loaded: @rpath/libjpeg.9.dylib\n",
      "  Referenced from: <EB3FF92A-5EB1-3EE8-AF8B-5923C1265422> /opt/anaconda3/envs/reid-attack/lib/python3.11/site-packages/torchvision/image.so\n",
      "  Reason: tried: '/opt/anaconda3/envs/reid-attack/lib/python3.11/site-packages/torchvision/../../../libjpeg.9.dylib' (no such file), '/opt/anaconda3/envs/reid-attack/lib/python3.11/site-packages/torchvision/../../../libjpeg.9.dylib' (no such file), '/opt/anaconda3/envs/reid-attack/lib/python3.11/lib-dynload/../../libjpeg.9.dylib' (no such file), '/opt/anaconda3/envs/reid-attack/bin/../lib/libjpeg.9.dylib' (no such file)'If you don't plan on using image functionality from `torchvision.io`, you can ignore this warning. Otherwise, there might be something wrong with your environment. Did you have `libjpeg` or `libpng` installed before building `torchvision` from source?\n",
      "  warn(\n"
     ]
    }
   ],
   "source": [
    "import pandas as pd\n",
    "from PIL import Image\n",
    "import numpy as np\n",
    "\n",
    "import torch\n",
    "import torch.nn as nn\n",
    "import torch.nn.functional as F\n",
    "import torchvision.models as models\n",
    "from torch.utils.data import Dataset, DataLoader\n",
    "from torchvision import transforms\n",
    "\n",
    "from tqdm import tqdm\n",
    "import os\n",
    "import random\n",
    "import glob"
   ]
  },
  {
   "cell_type": "code",
   "execution_count": 6,
   "id": "68b2c58b",
   "metadata": {},
   "outputs": [],
   "source": [
    "# Set seeds\n",
    "\n",
    "def set_seed(seed=42):\n",
    "    torch.manual_seed(seed)\n",
    "    np.random.seed(seed)\n",
    "    random.seed(seed)\n",
    "    torch.backends.cudnn.deterministic = True\n",
    "    torch.backends.cudnn.benchmark = False\n",
    "\n",
    "set_seed()"
   ]
  },
  {
   "cell_type": "code",
   "execution_count": 7,
   "id": "82b0c08e",
   "metadata": {},
   "outputs": [],
   "source": [
    "device = torch.device( \"mps\" if torch.backends.mps.is_available() else \"cpu\")"
   ]
  },
  {
   "cell_type": "markdown",
   "id": "bedf69be",
   "metadata": {},
   "source": [
    "## Load data"
   ]
  },
  {
   "cell_type": "code",
   "execution_count": 8,
   "id": "a96fc734",
   "metadata": {},
   "outputs": [
    {
     "data": {
      "text/html": [
       "<div>\n",
       "<style scoped>\n",
       "    .dataframe tbody tr th:only-of-type {\n",
       "        vertical-align: middle;\n",
       "    }\n",
       "\n",
       "    .dataframe tbody tr th {\n",
       "        vertical-align: top;\n",
       "    }\n",
       "\n",
       "    .dataframe thead th {\n",
       "        text-align: right;\n",
       "    }\n",
       "</style>\n",
       "<table border=\"1\" class=\"dataframe\">\n",
       "  <thead>\n",
       "    <tr style=\"text-align: right;\">\n",
       "      <th></th>\n",
       "      <th>Image Index</th>\n",
       "      <th>Finding Labels</th>\n",
       "      <th>Follow-up #</th>\n",
       "      <th>Patient ID</th>\n",
       "      <th>Patient Age</th>\n",
       "      <th>Patient Sex</th>\n",
       "      <th>View Position</th>\n",
       "      <th>OriginalImage[Width</th>\n",
       "      <th>Height]</th>\n",
       "      <th>OriginalImagePixelSpacing[x</th>\n",
       "      <th>y]</th>\n",
       "      <th>AgeBin</th>\n",
       "      <th>BinCenter</th>\n",
       "    </tr>\n",
       "  </thead>\n",
       "  <tbody>\n",
       "    <tr>\n",
       "      <th>0</th>\n",
       "      <td>00000001_000.png</td>\n",
       "      <td>Cardiomegaly</td>\n",
       "      <td>0</td>\n",
       "      <td>1</td>\n",
       "      <td>57</td>\n",
       "      <td>1</td>\n",
       "      <td>PA</td>\n",
       "      <td>2682</td>\n",
       "      <td>2749</td>\n",
       "      <td>0.143</td>\n",
       "      <td>0.143</td>\n",
       "      <td>4.0</td>\n",
       "      <td>55.0</td>\n",
       "    </tr>\n",
       "    <tr>\n",
       "      <th>1</th>\n",
       "      <td>00000001_001.png</td>\n",
       "      <td>Cardiomegaly|Emphysema</td>\n",
       "      <td>1</td>\n",
       "      <td>1</td>\n",
       "      <td>58</td>\n",
       "      <td>1</td>\n",
       "      <td>PA</td>\n",
       "      <td>2894</td>\n",
       "      <td>2729</td>\n",
       "      <td>0.143</td>\n",
       "      <td>0.143</td>\n",
       "      <td>4.0</td>\n",
       "      <td>55.0</td>\n",
       "    </tr>\n",
       "    <tr>\n",
       "      <th>2</th>\n",
       "      <td>00000001_002.png</td>\n",
       "      <td>Cardiomegaly|Effusion</td>\n",
       "      <td>2</td>\n",
       "      <td>1</td>\n",
       "      <td>58</td>\n",
       "      <td>1</td>\n",
       "      <td>PA</td>\n",
       "      <td>2500</td>\n",
       "      <td>2048</td>\n",
       "      <td>0.168</td>\n",
       "      <td>0.168</td>\n",
       "      <td>4.0</td>\n",
       "      <td>55.0</td>\n",
       "    </tr>\n",
       "    <tr>\n",
       "      <th>3</th>\n",
       "      <td>00000002_000.png</td>\n",
       "      <td>No Finding</td>\n",
       "      <td>0</td>\n",
       "      <td>2</td>\n",
       "      <td>80</td>\n",
       "      <td>1</td>\n",
       "      <td>PA</td>\n",
       "      <td>2500</td>\n",
       "      <td>2048</td>\n",
       "      <td>0.171</td>\n",
       "      <td>0.171</td>\n",
       "      <td>6.0</td>\n",
       "      <td>75.0</td>\n",
       "    </tr>\n",
       "    <tr>\n",
       "      <th>4</th>\n",
       "      <td>00000003_001.png</td>\n",
       "      <td>Hernia</td>\n",
       "      <td>0</td>\n",
       "      <td>3</td>\n",
       "      <td>74</td>\n",
       "      <td>0</td>\n",
       "      <td>PA</td>\n",
       "      <td>2500</td>\n",
       "      <td>2048</td>\n",
       "      <td>0.168</td>\n",
       "      <td>0.168</td>\n",
       "      <td>6.0</td>\n",
       "      <td>75.0</td>\n",
       "    </tr>\n",
       "  </tbody>\n",
       "</table>\n",
       "</div>"
      ],
      "text/plain": [
       "        Image Index          Finding Labels  Follow-up #  Patient ID  \\\n",
       "0  00000001_000.png            Cardiomegaly            0           1   \n",
       "1  00000001_001.png  Cardiomegaly|Emphysema            1           1   \n",
       "2  00000001_002.png   Cardiomegaly|Effusion            2           1   \n",
       "3  00000002_000.png              No Finding            0           2   \n",
       "4  00000003_001.png                  Hernia            0           3   \n",
       "\n",
       "   Patient Age  Patient Sex View Position  OriginalImage[Width  Height]  \\\n",
       "0           57            1            PA                 2682     2749   \n",
       "1           58            1            PA                 2894     2729   \n",
       "2           58            1            PA                 2500     2048   \n",
       "3           80            1            PA                 2500     2048   \n",
       "4           74            0            PA                 2500     2048   \n",
       "\n",
       "   OriginalImagePixelSpacing[x     y]  AgeBin  BinCenter  \n",
       "0                        0.143  0.143     4.0       55.0  \n",
       "1                        0.143  0.143     4.0       55.0  \n",
       "2                        0.168  0.168     4.0       55.0  \n",
       "3                        0.171  0.171     6.0       75.0  \n",
       "4                        0.168  0.168     6.0       75.0  "
      ]
     },
     "execution_count": 8,
     "metadata": {},
     "output_type": "execute_result"
    }
   ],
   "source": [
    "# Clean dataframe\n",
    "\n",
    "df = pd.read_csv('../data/NIH_Chest_Full/Data_Entry_2017_v2020.csv')\n",
    "\n",
    "# Dropping NAs in sex and age\n",
    "df = df.dropna(subset=[\"Patient Sex\", \"Patient Age\"])\n",
    "\n",
    "# Map sex to binary\n",
    "df['Patient Sex'] = df['Patient Sex'].map({\"M\": 1, \"F\": 0})\n",
    "\n",
    "# Bin age\n",
    "age_bins = [0, 20, 30, 40, 50, 60, 70, 80, 90, 100]\n",
    "bin_centers = [10, 25, 35, 45, 55, 65, 75, 85, 95]\n",
    "# Non-inclusive - age 20 is in first bin not second\n",
    "df[\"AgeBin\"] = pd.cut(df[\"Patient Age\"], bins=age_bins, labels=False)\n",
    "df[\"BinCenter\"] = df[\"AgeBin\"].apply(lambda x: bin_centers[int(x)] if pd.notnull(x) else np.nan)\n",
    "df = df.dropna(subset=['AgeBin'])\n",
    "\n",
    "df.head()"
   ]
  },
  {
   "cell_type": "code",
   "execution_count": 9,
   "id": "f4e91d81",
   "metadata": {},
   "outputs": [
    {
     "data": {
      "text/html": [
       "<div>\n",
       "<style scoped>\n",
       "    .dataframe tbody tr th:only-of-type {\n",
       "        vertical-align: middle;\n",
       "    }\n",
       "\n",
       "    .dataframe tbody tr th {\n",
       "        vertical-align: top;\n",
       "    }\n",
       "\n",
       "    .dataframe thead th {\n",
       "        text-align: right;\n",
       "    }\n",
       "</style>\n",
       "<table border=\"1\" class=\"dataframe\">\n",
       "  <thead>\n",
       "    <tr style=\"text-align: right;\">\n",
       "      <th></th>\n",
       "      <th>Image Index</th>\n",
       "      <th>Finding Labels</th>\n",
       "      <th>Follow-up #</th>\n",
       "      <th>Patient ID</th>\n",
       "      <th>Patient Age</th>\n",
       "      <th>Patient Sex</th>\n",
       "      <th>View Position</th>\n",
       "      <th>OriginalImage[Width</th>\n",
       "      <th>Height]</th>\n",
       "      <th>OriginalImagePixelSpacing[x</th>\n",
       "      <th>y]</th>\n",
       "      <th>AgeBin</th>\n",
       "      <th>BinCenter</th>\n",
       "      <th>Path</th>\n",
       "    </tr>\n",
       "  </thead>\n",
       "  <tbody>\n",
       "    <tr>\n",
       "      <th>0</th>\n",
       "      <td>00000001_000.png</td>\n",
       "      <td>Cardiomegaly</td>\n",
       "      <td>0</td>\n",
       "      <td>1</td>\n",
       "      <td>57</td>\n",
       "      <td>1</td>\n",
       "      <td>PA</td>\n",
       "      <td>2682</td>\n",
       "      <td>2749</td>\n",
       "      <td>0.143</td>\n",
       "      <td>0.143</td>\n",
       "      <td>4.0</td>\n",
       "      <td>55.0</td>\n",
       "      <td>../data/NIH_Chest_Full/images_001/images/00000...</td>\n",
       "    </tr>\n",
       "    <tr>\n",
       "      <th>1</th>\n",
       "      <td>00000001_001.png</td>\n",
       "      <td>Cardiomegaly|Emphysema</td>\n",
       "      <td>1</td>\n",
       "      <td>1</td>\n",
       "      <td>58</td>\n",
       "      <td>1</td>\n",
       "      <td>PA</td>\n",
       "      <td>2894</td>\n",
       "      <td>2729</td>\n",
       "      <td>0.143</td>\n",
       "      <td>0.143</td>\n",
       "      <td>4.0</td>\n",
       "      <td>55.0</td>\n",
       "      <td>../data/NIH_Chest_Full/images_001/images/00000...</td>\n",
       "    </tr>\n",
       "    <tr>\n",
       "      <th>2</th>\n",
       "      <td>00000001_002.png</td>\n",
       "      <td>Cardiomegaly|Effusion</td>\n",
       "      <td>2</td>\n",
       "      <td>1</td>\n",
       "      <td>58</td>\n",
       "      <td>1</td>\n",
       "      <td>PA</td>\n",
       "      <td>2500</td>\n",
       "      <td>2048</td>\n",
       "      <td>0.168</td>\n",
       "      <td>0.168</td>\n",
       "      <td>4.0</td>\n",
       "      <td>55.0</td>\n",
       "      <td>../data/NIH_Chest_Full/images_001/images/00000...</td>\n",
       "    </tr>\n",
       "    <tr>\n",
       "      <th>3</th>\n",
       "      <td>00000002_000.png</td>\n",
       "      <td>No Finding</td>\n",
       "      <td>0</td>\n",
       "      <td>2</td>\n",
       "      <td>80</td>\n",
       "      <td>1</td>\n",
       "      <td>PA</td>\n",
       "      <td>2500</td>\n",
       "      <td>2048</td>\n",
       "      <td>0.171</td>\n",
       "      <td>0.171</td>\n",
       "      <td>6.0</td>\n",
       "      <td>75.0</td>\n",
       "      <td>../data/NIH_Chest_Full/images_001/images/00000...</td>\n",
       "    </tr>\n",
       "    <tr>\n",
       "      <th>4</th>\n",
       "      <td>00000003_001.png</td>\n",
       "      <td>Hernia</td>\n",
       "      <td>0</td>\n",
       "      <td>3</td>\n",
       "      <td>74</td>\n",
       "      <td>0</td>\n",
       "      <td>PA</td>\n",
       "      <td>2500</td>\n",
       "      <td>2048</td>\n",
       "      <td>0.168</td>\n",
       "      <td>0.168</td>\n",
       "      <td>6.0</td>\n",
       "      <td>75.0</td>\n",
       "      <td>../data/NIH_Chest_Full/images_001/images/00000...</td>\n",
       "    </tr>\n",
       "  </tbody>\n",
       "</table>\n",
       "</div>"
      ],
      "text/plain": [
       "        Image Index          Finding Labels  Follow-up #  Patient ID  \\\n",
       "0  00000001_000.png            Cardiomegaly            0           1   \n",
       "1  00000001_001.png  Cardiomegaly|Emphysema            1           1   \n",
       "2  00000001_002.png   Cardiomegaly|Effusion            2           1   \n",
       "3  00000002_000.png              No Finding            0           2   \n",
       "4  00000003_001.png                  Hernia            0           3   \n",
       "\n",
       "   Patient Age  Patient Sex View Position  OriginalImage[Width  Height]  \\\n",
       "0           57            1            PA                 2682     2749   \n",
       "1           58            1            PA                 2894     2729   \n",
       "2           58            1            PA                 2500     2048   \n",
       "3           80            1            PA                 2500     2048   \n",
       "4           74            0            PA                 2500     2048   \n",
       "\n",
       "   OriginalImagePixelSpacing[x     y]  AgeBin  BinCenter  \\\n",
       "0                        0.143  0.143     4.0       55.0   \n",
       "1                        0.143  0.143     4.0       55.0   \n",
       "2                        0.168  0.168     4.0       55.0   \n",
       "3                        0.171  0.171     6.0       75.0   \n",
       "4                        0.168  0.168     6.0       75.0   \n",
       "\n",
       "                                                Path  \n",
       "0  ../data/NIH_Chest_Full/images_001/images/00000...  \n",
       "1  ../data/NIH_Chest_Full/images_001/images/00000...  \n",
       "2  ../data/NIH_Chest_Full/images_001/images/00000...  \n",
       "3  ../data/NIH_Chest_Full/images_001/images/00000...  \n",
       "4  ../data/NIH_Chest_Full/images_001/images/00000...  "
      ]
     },
     "execution_count": 9,
     "metadata": {},
     "output_type": "execute_result"
    }
   ],
   "source": [
    "# Add full image path to dataframe\n",
    "\n",
    "image_dirs = glob.glob('../data/NIH_Chest_Full/images_*/images/')\n",
    "image_map = {}\n",
    "for d in image_dirs:\n",
    "    for f in os.listdir(d):\n",
    "        if f.endswith(\".png\"):\n",
    "            image_map[f] = os.path.join(d, f)\n",
    "\n",
    "df[\"Path\"] = df[\"Image Index\"].map(image_map)\n",
    "df.head()"
   ]
  },
  {
   "cell_type": "code",
   "execution_count": 10,
   "id": "26b91239",
   "metadata": {},
   "outputs": [
    {
     "name": "stdout",
     "output_type": "stream",
     "text": [
      "Train set size: 89898\n",
      "Val set size 22208\n"
     ]
    }
   ],
   "source": [
    "# Split per patient\n",
    "from sklearn.model_selection import GroupShuffleSplit\n",
    "\n",
    "split = GroupShuffleSplit(test_size=0.2, random_state=42, n_splits=1)\n",
    "train_idx, val_idx = next(split.split(df, groups=df[\"Patient ID\"]))\n",
    "\n",
    "train_df = df.iloc[train_idx].reset_index(drop=True)\n",
    "val_df = df.iloc[val_idx].reset_index(drop=True)\n",
    "\n",
    "print(\"Train set size:\", len(train_df))\n",
    "print(\"Val set size\", len(val_df))"
   ]
  },
  {
   "cell_type": "code",
   "execution_count": 11,
   "id": "5b8d8e33",
   "metadata": {},
   "outputs": [
    {
     "name": "stdout",
     "output_type": "stream",
     "text": [
      "AgeBin\n",
      "4.0    22107\n",
      "3.0    17951\n",
      "5.0    13994\n",
      "2.0    13599\n",
      "1.0    10575\n",
      "0.0     6522\n",
      "6.0     4480\n",
      "7.0      639\n",
      "8.0       31\n",
      "Name: count, dtype: int64\n"
     ]
    }
   ],
   "source": [
    "# Check class imbalance\n",
    "\n",
    "print(train_df['AgeBin'].value_counts())"
   ]
  },
  {
   "cell_type": "code",
   "execution_count": 12,
   "id": "2506223c",
   "metadata": {},
   "outputs": [],
   "source": [
    "# Add oversampling for rare bins in train set\n",
    "\n",
    "from torch.utils.data import WeightedRandomSampler\n",
    "\n",
    "# Create weights per sample\n",
    "age_counts = train_df['AgeBin'].value_counts().sort_index()\n",
    "num_bins = 9\n",
    "age_counts = age_counts.reindex(range(num_bins), fill_value=1)\n",
    "weights_per_bin = 1.0 / age_counts\n",
    "sample_weights = train_df['AgeBin'].apply(lambda x: weights_per_bin.loc[int(x)])\n",
    "\n",
    "sampler = WeightedRandomSampler(\n",
    "    weights=sample_weights.values,\n",
    "    num_samples=len(sample_weights),\n",
    "    replacement=True\n",
    ")"
   ]
  },
  {
   "cell_type": "code",
   "execution_count": 13,
   "id": "4c00e66e",
   "metadata": {},
   "outputs": [],
   "source": [
    "from dataset import DemographicDataset\n",
    "\n",
    "transform = transforms.Compose([\n",
    "    transforms.Resize((128, 128)),\n",
    "    transforms.ToTensor(),\n",
    "    transforms.Normalize([0.5], [0.5])\n",
    "])\n",
    "\n",
    "train_ds = DemographicDataset(\n",
    "    train_df,\n",
    "    transform=transform\n",
    ")\n",
    "\n",
    "val_ds = DemographicDataset(\n",
    "    val_df,\n",
    "    transform=transform\n",
    ")\n",
    "\n",
    "train_loader = DataLoader(train_ds, batch_size=32, sampler=sampler, num_workers=4, pin_memory=True)\n",
    "val_loader = DataLoader(val_ds, batch_size=32, shuffle=False)"
   ]
  },
  {
   "cell_type": "markdown",
   "id": "1480fe85",
   "metadata": {},
   "source": [
    "## Train model"
   ]
  },
  {
   "cell_type": "code",
   "execution_count": 14,
   "id": "9fed8ef1",
   "metadata": {},
   "outputs": [],
   "source": [
    "class DemographicModel(nn.Module):\n",
    "    def __init__(self, backbone=None):\n",
    "        super().__init__()\n",
    "\n",
    "        # Pre-trained DenseNet121 from torchvision\n",
    "        if backbone is None:\n",
    "            base = models.densenet121(pretrained=True)\n",
    "            self.feature_extractor = nn.Sequential(*list(base.features.children()))\n",
    "            feature_dim = 1024 # final DenseNet121 feature size\n",
    "        else:\n",
    "            self.feature_extractor = backbone.features\n",
    "            feature_dim = backbone.features.denseblock4.denselayer16.norm2.num_features\n",
    "\n",
    "        self.avgpool = nn.AdaptiveAvgPool2d((1, 1))\n",
    "        self.dropout = nn.Dropout(p=0.5)\n",
    "\n",
    "        # task heads\n",
    "        self.age_head = nn.Linear(feature_dim, 1) # Regression for continuous age\n",
    "        self.sex_head = nn.Linear(feature_dim, 1) # Binary classification\n",
    "\n",
    "    def forward(self, x):\n",
    "        x = self.feature_extractor(x)\n",
    "        x = self.avgpool(x)\n",
    "        x = torch.flatten(x, 1)\n",
    "        x = self.dropout(x)\n",
    "\n",
    "        age_pred = self.age_head(x).squeeze(1)\n",
    "        sex_prob = torch.sigmoid(self.sex_head(x)) # binary\n",
    "\n",
    "        return age_pred, sex_prob"
   ]
  },
  {
   "cell_type": "code",
   "execution_count": 12,
   "id": "8e1d1b03",
   "metadata": {},
   "outputs": [],
   "source": [
    "# Use class weights for age loss\n",
    "\n",
    "age_counts = train_df['AgeBin'].value_counts().sort_index()\n",
    "total = age_counts.sum()\n",
    "class_weights = total / (len(age_counts) * age_counts)\n",
    "class_weights = torch.tensor(class_weights.values, dtype=torch.float32).to(device)"
   ]
  },
  {
   "cell_type": "code",
   "execution_count": 18,
   "id": "c34578af",
   "metadata": {},
   "outputs": [],
   "source": [
    "def multi_task_metrics(age_preds, age_targets, sex_probs, sex_targets):\n",
    "\n",
    "    # Losses\n",
    "    age_loss = F.mse_loss(age_preds, age_targets)\n",
    "    sex_loss = F.binary_cross_entropy(sex_probs.view(-1), sex_targets.float())\n",
    "    total_loss = age_loss + sex_loss\n",
    "\n",
    "    # Classification accuracy\n",
    "    acc_sex = (sex_probs.view(-1) >= 0.5).eq(sex_targets).float().mean().item()\n",
    "\n",
    "    # Regression MAE\n",
    "    mae_age = F.l1_loss(age_preds, age_targets).item()\n",
    "\n",
    "    loss_dict = {\n",
    "        \"age\": age_loss.item(),\n",
    "        \"sex\": sex_loss.item()\n",
    "    }\n",
    "\n",
    "    acc_dict = {\n",
    "        \"age_mae\": mae_age,\n",
    "        \"sex\": acc_sex\n",
    "    }\n",
    "\n",
    "    return total_loss, loss_dict, acc_dict"
   ]
  },
  {
   "cell_type": "code",
   "execution_count": 24,
   "id": "8fc3e986",
   "metadata": {},
   "outputs": [],
   "source": [
    "def train(model, dataloader, optimizer, device):\n",
    "    model.train()\n",
    "    n_batches = 0\n",
    "    losses = {\"age\": 0, \"sex\": 0}\n",
    "    metrics = {\"age_mae\": 0, \"sex\": 0}\n",
    "    total_loss = 0\n",
    "\n",
    "    for images, age_bin, sex, age_true in tqdm(dataloader):\n",
    "        images = images.to(device)\n",
    "        age_true = age_true.to(device)\n",
    "        sex = sex.to(device)\n",
    "\n",
    "        optimizer.zero_grad()\n",
    "        age_logits, sex_probs= model(images)\n",
    "        loss, loss_dict, acc_dict = multi_task_metrics(\n",
    "            age_logits, age_true, sex_probs, sex\n",
    "        )\n",
    "        \n",
    "        loss.backward()\n",
    "        optimizer.step()\n",
    "\n",
    "        total_loss += loss.item()\n",
    "        for k in losses:\n",
    "            losses[k] += loss_dict[k]\n",
    "        for k in metrics:\n",
    "            metrics[k] += acc_dict[k]\n",
    "        n_batches += 1\n",
    "\n",
    "    # average over batches\n",
    "    for k in losses:\n",
    "        losses[k] /= n_batches\n",
    "    for k in metrics:\n",
    "        metrics[k] /= n_batches\n",
    "\n",
    "    return total_loss / n_batches, losses, metrics"
   ]
  },
  {
   "cell_type": "code",
   "execution_count": 27,
   "id": "62daff67",
   "metadata": {},
   "outputs": [],
   "source": [
    "from sklearn.metrics import roc_auc_score, mean_absolute_error, root_mean_squared_error, r2_score\n",
    "\n",
    "def evaluate(model, dataloader, device):\n",
    "    model.eval()\n",
    "    n_batches = 0\n",
    "\n",
    "    losses = {\"age\": 0, \"sex\": 0}\n",
    "    metrics = {\"age_mae\": 0,\"sex\": 0}\n",
    "    total_loss = 0\n",
    "\n",
    "    # store all predictions and labels for AUC\n",
    "    all_probs = {\"sex\": []}\n",
    "    all_targets = {\"sex\": []}\n",
    "    all_preds = []\n",
    "    all_actuals = []\n",
    "\n",
    "    with torch.no_grad():\n",
    "        for images, age_bin, sex, age_true in dataloader:\n",
    "            images = images.to(device)\n",
    "            age_bin = age_bin.to(device)\n",
    "            sex = sex.to(device)\n",
    "            age_true = age_true.to(device)\n",
    "\n",
    "            age_preds, sex_probs = model(images)\n",
    "\n",
    "            # Save age preds and targets\n",
    "            all_preds.append(age_preds.cpu())\n",
    "            all_actuals.append(age_true.cpu())\n",
    "\n",
    "            loss, loss_dict, acc_dict = multi_task_metrics(\n",
    "                age_preds, age_true, sex_probs, sex\n",
    "            )\n",
    "            \n",
    "            total_loss += loss.item()\n",
    "            for k in losses:\n",
    "                losses[k] += loss_dict[k]\n",
    "            for k in metrics:\n",
    "                metrics[k] += acc_dict[k]\n",
    "\n",
    "            # Save probabilities and targets for AUC\n",
    "            all_probs[\"sex\"].extend(sex_probs.view(-1).cpu().numpy())\n",
    "            all_targets[\"sex\"].extend(sex.cpu().numpy())\n",
    "\n",
    "            n_batches += 1\n",
    "\n",
    "    for k in losses:\n",
    "        losses[k] /= n_batches\n",
    "    for k in metrics:\n",
    "        metrics[k] /= n_batches\n",
    "\n",
    "    # compute AUCs\n",
    "    aucs = {}\n",
    "    for k in [\"sex\"]:\n",
    "        try:\n",
    "            auc = roc_auc_score(all_targets[k], all_probs[k])\n",
    "        except ValueError:\n",
    "            auc = float(\"nan\") # AUC not computable if only 1 class present (e.g. during early epochs)\n",
    "        aucs[k] = auc\n",
    "\n",
    "    # compute MAE and RMSE\n",
    "    predicted_ages = torch.cat(all_preds)\n",
    "    true_ages = torch.cat(all_actuals)\n",
    "    pred_np = predicted_ages.numpy()\n",
    "    true_np = true_ages.numpy()\n",
    "    mae = mean_absolute_error(true_np, pred_np)\n",
    "    rmse = root_mean_squared_error(true_np, pred_np)\n",
    "    r2 = r2_score(true_np, pred_np)\n",
    "\n",
    "    return total_loss / n_batches, losses, metrics, aucs, mae, rmse, r2"
   ]
  },
  {
   "cell_type": "code",
   "execution_count": 28,
   "id": "b5e123c2",
   "metadata": {},
   "outputs": [
    {
     "name": "stderr",
     "output_type": "stream",
     "text": [
      "/opt/anaconda3/envs/reid-attack/lib/python3.11/site-packages/torchvision/models/_utils.py:208: UserWarning: The parameter 'pretrained' is deprecated since 0.13 and may be removed in the future, please use 'weights' instead.\n",
      "  warnings.warn(\n",
      "/opt/anaconda3/envs/reid-attack/lib/python3.11/site-packages/torchvision/models/_utils.py:223: UserWarning: Arguments other than a weight enum or `None` for 'weights' are deprecated since 0.13 and may be removed in the future. The current behavior is equivalent to passing `weights=DenseNet121_Weights.IMAGENET1K_V1`. You can also use `weights=DenseNet121_Weights.DEFAULT` to get the most up-to-date weights.\n",
      "  warnings.warn(msg)\n"
     ]
    },
    {
     "name": "stdout",
     "output_type": "stream",
     "text": [
      "\n",
      "Epoch 1/10\n"
     ]
    },
    {
     "name": "stderr",
     "output_type": "stream",
     "text": [
      "  0%|          | 0/2810 [00:00<?, ?it/s]/opt/anaconda3/envs/reid-attack/lib/python3.11/site-packages/torchvision/io/image.py:14: UserWarning: Failed to load image Python extension: 'dlopen(/opt/anaconda3/envs/reid-attack/lib/python3.11/site-packages/torchvision/image.so, 0x0006): Library not loaded: @rpath/libjpeg.9.dylib\n",
      "  Referenced from: <EB3FF92A-5EB1-3EE8-AF8B-5923C1265422> /opt/anaconda3/envs/reid-attack/lib/python3.11/site-packages/torchvision/image.so\n",
      "  Reason: tried: '/opt/anaconda3/envs/reid-attack/lib/python3.11/site-packages/torchvision/../../../libjpeg.9.dylib' (no such file), '/opt/anaconda3/envs/reid-attack/lib/python3.11/site-packages/torchvision/../../../libjpeg.9.dylib' (no such file), '/opt/anaconda3/envs/reid-attack/lib/python3.11/lib-dynload/../../libjpeg.9.dylib' (no such file), '/opt/anaconda3/envs/reid-attack/bin/../lib/libjpeg.9.dylib' (no such file)'If you don't plan on using image functionality from `torchvision.io`, you can ignore this warning. Otherwise, there might be something wrong with your environment. Did you have `libjpeg` or `libpng` installed before building `torchvision` from source?\n",
      "  warn(\n",
      "/opt/anaconda3/envs/reid-attack/lib/python3.11/site-packages/torchvision/io/image.py:14: UserWarning: Failed to load image Python extension: 'dlopen(/opt/anaconda3/envs/reid-attack/lib/python3.11/site-packages/torchvision/image.so, 0x0006): Library not loaded: @rpath/libjpeg.9.dylib\n",
      "  Referenced from: <EB3FF92A-5EB1-3EE8-AF8B-5923C1265422> /opt/anaconda3/envs/reid-attack/lib/python3.11/site-packages/torchvision/image.so\n",
      "  Reason: tried: '/opt/anaconda3/envs/reid-attack/lib/python3.11/site-packages/torchvision/../../../libjpeg.9.dylib' (no such file), '/opt/anaconda3/envs/reid-attack/lib/python3.11/site-packages/torchvision/../../../libjpeg.9.dylib' (no such file), '/opt/anaconda3/envs/reid-attack/lib/python3.11/lib-dynload/../../libjpeg.9.dylib' (no such file), '/opt/anaconda3/envs/reid-attack/bin/../lib/libjpeg.9.dylib' (no such file)'If you don't plan on using image functionality from `torchvision.io`, you can ignore this warning. Otherwise, there might be something wrong with your environment. Did you have `libjpeg` or `libpng` installed before building `torchvision` from source?\n",
      "  warn(\n",
      "/opt/anaconda3/envs/reid-attack/lib/python3.11/site-packages/torchvision/io/image.py:14: UserWarning: Failed to load image Python extension: 'dlopen(/opt/anaconda3/envs/reid-attack/lib/python3.11/site-packages/torchvision/image.so, 0x0006): Library not loaded: @rpath/libjpeg.9.dylib\n",
      "  Referenced from: <EB3FF92A-5EB1-3EE8-AF8B-5923C1265422> /opt/anaconda3/envs/reid-attack/lib/python3.11/site-packages/torchvision/image.so\n",
      "  Reason: tried: '/opt/anaconda3/envs/reid-attack/lib/python3.11/site-packages/torchvision/../../../libjpeg.9.dylib' (no such file), '/opt/anaconda3/envs/reid-attack/lib/python3.11/site-packages/torchvision/../../../libjpeg.9.dylib' (no such file), '/opt/anaconda3/envs/reid-attack/lib/python3.11/lib-dynload/../../libjpeg.9.dylib' (no such file), '/opt/anaconda3/envs/reid-attack/bin/../lib/libjpeg.9.dylib' (no such file)'If you don't plan on using image functionality from `torchvision.io`, you can ignore this warning. Otherwise, there might be something wrong with your environment. Did you have `libjpeg` or `libpng` installed before building `torchvision` from source?\n",
      "  warn(\n",
      "/opt/anaconda3/envs/reid-attack/lib/python3.11/site-packages/torchvision/io/image.py:14: UserWarning: Failed to load image Python extension: 'dlopen(/opt/anaconda3/envs/reid-attack/lib/python3.11/site-packages/torchvision/image.so, 0x0006): Library not loaded: @rpath/libjpeg.9.dylib\n",
      "  Referenced from: <EB3FF92A-5EB1-3EE8-AF8B-5923C1265422> /opt/anaconda3/envs/reid-attack/lib/python3.11/site-packages/torchvision/image.so\n",
      "  Reason: tried: '/opt/anaconda3/envs/reid-attack/lib/python3.11/site-packages/torchvision/../../../libjpeg.9.dylib' (no such file), '/opt/anaconda3/envs/reid-attack/lib/python3.11/site-packages/torchvision/../../../libjpeg.9.dylib' (no such file), '/opt/anaconda3/envs/reid-attack/lib/python3.11/lib-dynload/../../libjpeg.9.dylib' (no such file), '/opt/anaconda3/envs/reid-attack/bin/../lib/libjpeg.9.dylib' (no such file)'If you don't plan on using image functionality from `torchvision.io`, you can ignore this warning. Otherwise, there might be something wrong with your environment. Did you have `libjpeg` or `libpng` installed before building `torchvision` from source?\n",
      "  warn(\n",
      "100%|██████████| 2810/2810 [12:44<00:00,  3.68it/s]\n"
     ]
    },
    {
     "name": "stdout",
     "output_type": "stream",
     "text": [
      "Train Loss: 746.2793\n",
      "Train Task Losses: {'age': 745.6582375183649, 'sex': 0.6211024531478135}\n",
      "Train Metrics:   {'age_mae': 20.347924501361373, 'sex': 0.6566770462591028}\n",
      "Val Loss: 59.0037\n",
      "Val Task Losses:  {'age': 58.45871188111539, 'sex': 0.5449580395170179}\n",
      "Val Metrics: {'age_mae': 5.930121812765468, 'sex': 0.7685068443804035}\n",
      "Val AUC:  {'sex': np.float64(0.9054344226706026)}\n",
      "Val MAE (age): 5.93\n",
      "Val RMSE (age): 7.65\n",
      "Val R^2 (age): 0.794\n",
      "\n",
      "Epoch 2/10\n"
     ]
    },
    {
     "name": "stderr",
     "output_type": "stream",
     "text": [
      "  0%|          | 0/2810 [00:00<?, ?it/s]/opt/anaconda3/envs/reid-attack/lib/python3.11/site-packages/torchvision/io/image.py:14: UserWarning: Failed to load image Python extension: 'dlopen(/opt/anaconda3/envs/reid-attack/lib/python3.11/site-packages/torchvision/image.so, 0x0006): Library not loaded: @rpath/libjpeg.9.dylib\n",
      "  Referenced from: <EB3FF92A-5EB1-3EE8-AF8B-5923C1265422> /opt/anaconda3/envs/reid-attack/lib/python3.11/site-packages/torchvision/image.so\n",
      "  Reason: tried: '/opt/anaconda3/envs/reid-attack/lib/python3.11/site-packages/torchvision/../../../libjpeg.9.dylib' (no such file), '/opt/anaconda3/envs/reid-attack/lib/python3.11/site-packages/torchvision/../../../libjpeg.9.dylib' (no such file), '/opt/anaconda3/envs/reid-attack/lib/python3.11/lib-dynload/../../libjpeg.9.dylib' (no such file), '/opt/anaconda3/envs/reid-attack/bin/../lib/libjpeg.9.dylib' (no such file)'If you don't plan on using image functionality from `torchvision.io`, you can ignore this warning. Otherwise, there might be something wrong with your environment. Did you have `libjpeg` or `libpng` installed before building `torchvision` from source?\n",
      "  warn(\n",
      "/opt/anaconda3/envs/reid-attack/lib/python3.11/site-packages/torchvision/io/image.py:14: UserWarning: Failed to load image Python extension: 'dlopen(/opt/anaconda3/envs/reid-attack/lib/python3.11/site-packages/torchvision/image.so, 0x0006): Library not loaded: @rpath/libjpeg.9.dylib\n",
      "  Referenced from: <EB3FF92A-5EB1-3EE8-AF8B-5923C1265422> /opt/anaconda3/envs/reid-attack/lib/python3.11/site-packages/torchvision/image.so\n",
      "  Reason: tried: '/opt/anaconda3/envs/reid-attack/lib/python3.11/site-packages/torchvision/../../../libjpeg.9.dylib' (no such file), '/opt/anaconda3/envs/reid-attack/lib/python3.11/site-packages/torchvision/../../../libjpeg.9.dylib' (no such file), '/opt/anaconda3/envs/reid-attack/lib/python3.11/lib-dynload/../../libjpeg.9.dylib' (no such file), '/opt/anaconda3/envs/reid-attack/bin/../lib/libjpeg.9.dylib' (no such file)'If you don't plan on using image functionality from `torchvision.io`, you can ignore this warning. Otherwise, there might be something wrong with your environment. Did you have `libjpeg` or `libpng` installed before building `torchvision` from source?\n",
      "  warn(\n",
      "/opt/anaconda3/envs/reid-attack/lib/python3.11/site-packages/torchvision/io/image.py:14: UserWarning: Failed to load image Python extension: 'dlopen(/opt/anaconda3/envs/reid-attack/lib/python3.11/site-packages/torchvision/image.so, 0x0006): Library not loaded: @rpath/libjpeg.9.dylib\n",
      "  Referenced from: <EB3FF92A-5EB1-3EE8-AF8B-5923C1265422> /opt/anaconda3/envs/reid-attack/lib/python3.11/site-packages/torchvision/image.so\n",
      "  Reason: tried: '/opt/anaconda3/envs/reid-attack/lib/python3.11/site-packages/torchvision/../../../libjpeg.9.dylib' (no such file), '/opt/anaconda3/envs/reid-attack/lib/python3.11/site-packages/torchvision/../../../libjpeg.9.dylib' (no such file), '/opt/anaconda3/envs/reid-attack/lib/python3.11/lib-dynload/../../libjpeg.9.dylib' (no such file), '/opt/anaconda3/envs/reid-attack/bin/../lib/libjpeg.9.dylib' (no such file)'If you don't plan on using image functionality from `torchvision.io`, you can ignore this warning. Otherwise, there might be something wrong with your environment. Did you have `libjpeg` or `libpng` installed before building `torchvision` from source?\n",
      "  warn(\n",
      "/opt/anaconda3/envs/reid-attack/lib/python3.11/site-packages/torchvision/io/image.py:14: UserWarning: Failed to load image Python extension: 'dlopen(/opt/anaconda3/envs/reid-attack/lib/python3.11/site-packages/torchvision/image.so, 0x0006): Library not loaded: @rpath/libjpeg.9.dylib\n",
      "  Referenced from: <EB3FF92A-5EB1-3EE8-AF8B-5923C1265422> /opt/anaconda3/envs/reid-attack/lib/python3.11/site-packages/torchvision/image.so\n",
      "  Reason: tried: '/opt/anaconda3/envs/reid-attack/lib/python3.11/site-packages/torchvision/../../../libjpeg.9.dylib' (no such file), '/opt/anaconda3/envs/reid-attack/lib/python3.11/site-packages/torchvision/../../../libjpeg.9.dylib' (no such file), '/opt/anaconda3/envs/reid-attack/lib/python3.11/lib-dynload/../../libjpeg.9.dylib' (no such file), '/opt/anaconda3/envs/reid-attack/bin/../lib/libjpeg.9.dylib' (no such file)'If you don't plan on using image functionality from `torchvision.io`, you can ignore this warning. Otherwise, there might be something wrong with your environment. Did you have `libjpeg` or `libpng` installed before building `torchvision` from source?\n",
      "  warn(\n",
      "100%|██████████| 2810/2810 [12:45<00:00,  3.67it/s]\n"
     ]
    },
    {
     "name": "stdout",
     "output_type": "stream",
     "text": [
      "Train Loss: 54.8805\n",
      "Train Task Losses: {'age': 54.41673101954613, 'sex': 0.46373739541637515}\n",
      "Train Metrics:   {'age_mae': 5.766051079454796, 'sex': 0.8004670818505338}\n",
      "Val Loss: 56.6293\n",
      "Val Task Losses:  {'age': 56.27670500463986, 'sex': 0.35255080925284615}\n",
      "Val Metrics: {'age_mae': 5.805850303825796, 'sex': 0.8805835734870316}\n",
      "Val AUC:  {'sex': np.float64(0.9553444599947452)}\n",
      "Val MAE (age): 5.81\n",
      "Val RMSE (age): 7.50\n",
      "Val R^2 (age): 0.802\n",
      "\n",
      "Epoch 3/10\n"
     ]
    },
    {
     "name": "stderr",
     "output_type": "stream",
     "text": [
      "  0%|          | 0/2810 [00:00<?, ?it/s]/opt/anaconda3/envs/reid-attack/lib/python3.11/site-packages/torchvision/io/image.py:14: UserWarning: Failed to load image Python extension: 'dlopen(/opt/anaconda3/envs/reid-attack/lib/python3.11/site-packages/torchvision/image.so, 0x0006): Library not loaded: @rpath/libjpeg.9.dylib\n",
      "  Referenced from: <EB3FF92A-5EB1-3EE8-AF8B-5923C1265422> /opt/anaconda3/envs/reid-attack/lib/python3.11/site-packages/torchvision/image.so\n",
      "  Reason: tried: '/opt/anaconda3/envs/reid-attack/lib/python3.11/site-packages/torchvision/../../../libjpeg.9.dylib' (no such file), '/opt/anaconda3/envs/reid-attack/lib/python3.11/site-packages/torchvision/../../../libjpeg.9.dylib' (no such file), '/opt/anaconda3/envs/reid-attack/lib/python3.11/lib-dynload/../../libjpeg.9.dylib' (no such file), '/opt/anaconda3/envs/reid-attack/bin/../lib/libjpeg.9.dylib' (no such file)'If you don't plan on using image functionality from `torchvision.io`, you can ignore this warning. Otherwise, there might be something wrong with your environment. Did you have `libjpeg` or `libpng` installed before building `torchvision` from source?\n",
      "  warn(\n",
      "/opt/anaconda3/envs/reid-attack/lib/python3.11/site-packages/torchvision/io/image.py:14: UserWarning: Failed to load image Python extension: 'dlopen(/opt/anaconda3/envs/reid-attack/lib/python3.11/site-packages/torchvision/image.so, 0x0006): Library not loaded: @rpath/libjpeg.9.dylib\n",
      "  Referenced from: <EB3FF92A-5EB1-3EE8-AF8B-5923C1265422> /opt/anaconda3/envs/reid-attack/lib/python3.11/site-packages/torchvision/image.so\n",
      "  Reason: tried: '/opt/anaconda3/envs/reid-attack/lib/python3.11/site-packages/torchvision/../../../libjpeg.9.dylib' (no such file), '/opt/anaconda3/envs/reid-attack/lib/python3.11/site-packages/torchvision/../../../libjpeg.9.dylib' (no such file), '/opt/anaconda3/envs/reid-attack/lib/python3.11/lib-dynload/../../libjpeg.9.dylib' (no such file), '/opt/anaconda3/envs/reid-attack/bin/../lib/libjpeg.9.dylib' (no such file)'If you don't plan on using image functionality from `torchvision.io`, you can ignore this warning. Otherwise, there might be something wrong with your environment. Did you have `libjpeg` or `libpng` installed before building `torchvision` from source?\n",
      "  warn(\n",
      "/opt/anaconda3/envs/reid-attack/lib/python3.11/site-packages/torchvision/io/image.py:14: UserWarning: Failed to load image Python extension: 'dlopen(/opt/anaconda3/envs/reid-attack/lib/python3.11/site-packages/torchvision/image.so, 0x0006): Library not loaded: @rpath/libjpeg.9.dylib\n",
      "  Referenced from: <EB3FF92A-5EB1-3EE8-AF8B-5923C1265422> /opt/anaconda3/envs/reid-attack/lib/python3.11/site-packages/torchvision/image.so\n",
      "  Reason: tried: '/opt/anaconda3/envs/reid-attack/lib/python3.11/site-packages/torchvision/../../../libjpeg.9.dylib' (no such file), '/opt/anaconda3/envs/reid-attack/lib/python3.11/site-packages/torchvision/../../../libjpeg.9.dylib' (no such file), '/opt/anaconda3/envs/reid-attack/lib/python3.11/lib-dynload/../../libjpeg.9.dylib' (no such file), '/opt/anaconda3/envs/reid-attack/bin/../lib/libjpeg.9.dylib' (no such file)'If you don't plan on using image functionality from `torchvision.io`, you can ignore this warning. Otherwise, there might be something wrong with your environment. Did you have `libjpeg` or `libpng` installed before building `torchvision` from source?\n",
      "  warn(\n",
      "/opt/anaconda3/envs/reid-attack/lib/python3.11/site-packages/torchvision/io/image.py:14: UserWarning: Failed to load image Python extension: 'dlopen(/opt/anaconda3/envs/reid-attack/lib/python3.11/site-packages/torchvision/image.so, 0x0006): Library not loaded: @rpath/libjpeg.9.dylib\n",
      "  Referenced from: <EB3FF92A-5EB1-3EE8-AF8B-5923C1265422> /opt/anaconda3/envs/reid-attack/lib/python3.11/site-packages/torchvision/image.so\n",
      "  Reason: tried: '/opt/anaconda3/envs/reid-attack/lib/python3.11/site-packages/torchvision/../../../libjpeg.9.dylib' (no such file), '/opt/anaconda3/envs/reid-attack/lib/python3.11/site-packages/torchvision/../../../libjpeg.9.dylib' (no such file), '/opt/anaconda3/envs/reid-attack/lib/python3.11/lib-dynload/../../libjpeg.9.dylib' (no such file), '/opt/anaconda3/envs/reid-attack/bin/../lib/libjpeg.9.dylib' (no such file)'If you don't plan on using image functionality from `torchvision.io`, you can ignore this warning. Otherwise, there might be something wrong with your environment. Did you have `libjpeg` or `libpng` installed before building `torchvision` from source?\n",
      "  warn(\n",
      "100%|██████████| 2810/2810 [12:38<00:00,  3.70it/s]\n"
     ]
    },
    {
     "name": "stdout",
     "output_type": "stream",
     "text": [
      "Train Loss: 46.9848\n",
      "Train Task Losses: {'age': 46.64261416065311, 'sex': 0.34218848526371753}\n",
      "Train Metrics:   {'age_mae': 5.358576432156817, 'sex': 0.8580604982333675}\n",
      "Val Loss: 55.6882\n",
      "Val Task Losses:  {'age': 55.43800723071744, 'sex': 0.2501605822133056}\n",
      "Val Metrics: {'age_mae': 5.754204144395394, 'sex': 0.9182726945244957}\n",
      "Val AUC:  {'sex': np.float64(0.9731202139244342)}\n",
      "Val MAE (age): 5.75\n",
      "Val RMSE (age): 7.45\n",
      "Val R^2 (age): 0.805\n",
      "\n",
      "Epoch 4/10\n"
     ]
    },
    {
     "name": "stderr",
     "output_type": "stream",
     "text": [
      "  0%|          | 0/2810 [00:00<?, ?it/s]/opt/anaconda3/envs/reid-attack/lib/python3.11/site-packages/torchvision/io/image.py:14: UserWarning: Failed to load image Python extension: 'dlopen(/opt/anaconda3/envs/reid-attack/lib/python3.11/site-packages/torchvision/image.so, 0x0006): Library not loaded: @rpath/libjpeg.9.dylib\n",
      "  Referenced from: <EB3FF92A-5EB1-3EE8-AF8B-5923C1265422> /opt/anaconda3/envs/reid-attack/lib/python3.11/site-packages/torchvision/image.so\n",
      "  Reason: tried: '/opt/anaconda3/envs/reid-attack/lib/python3.11/site-packages/torchvision/../../../libjpeg.9.dylib' (no such file), '/opt/anaconda3/envs/reid-attack/lib/python3.11/site-packages/torchvision/../../../libjpeg.9.dylib' (no such file), '/opt/anaconda3/envs/reid-attack/lib/python3.11/lib-dynload/../../libjpeg.9.dylib' (no such file), '/opt/anaconda3/envs/reid-attack/bin/../lib/libjpeg.9.dylib' (no such file)'If you don't plan on using image functionality from `torchvision.io`, you can ignore this warning. Otherwise, there might be something wrong with your environment. Did you have `libjpeg` or `libpng` installed before building `torchvision` from source?\n",
      "  warn(\n",
      "/opt/anaconda3/envs/reid-attack/lib/python3.11/site-packages/torchvision/io/image.py:14: UserWarning: Failed to load image Python extension: 'dlopen(/opt/anaconda3/envs/reid-attack/lib/python3.11/site-packages/torchvision/image.so, 0x0006): Library not loaded: @rpath/libjpeg.9.dylib\n",
      "  Referenced from: <EB3FF92A-5EB1-3EE8-AF8B-5923C1265422> /opt/anaconda3/envs/reid-attack/lib/python3.11/site-packages/torchvision/image.so\n",
      "  Reason: tried: '/opt/anaconda3/envs/reid-attack/lib/python3.11/site-packages/torchvision/../../../libjpeg.9.dylib' (no such file), '/opt/anaconda3/envs/reid-attack/lib/python3.11/site-packages/torchvision/../../../libjpeg.9.dylib' (no such file), '/opt/anaconda3/envs/reid-attack/lib/python3.11/lib-dynload/../../libjpeg.9.dylib' (no such file), '/opt/anaconda3/envs/reid-attack/bin/../lib/libjpeg.9.dylib' (no such file)'If you don't plan on using image functionality from `torchvision.io`, you can ignore this warning. Otherwise, there might be something wrong with your environment. Did you have `libjpeg` or `libpng` installed before building `torchvision` from source?\n",
      "  warn(\n",
      "/opt/anaconda3/envs/reid-attack/lib/python3.11/site-packages/torchvision/io/image.py:14: UserWarning: Failed to load image Python extension: 'dlopen(/opt/anaconda3/envs/reid-attack/lib/python3.11/site-packages/torchvision/image.so, 0x0006): Library not loaded: @rpath/libjpeg.9.dylib\n",
      "  Referenced from: <EB3FF92A-5EB1-3EE8-AF8B-5923C1265422> /opt/anaconda3/envs/reid-attack/lib/python3.11/site-packages/torchvision/image.so\n",
      "  Reason: tried: '/opt/anaconda3/envs/reid-attack/lib/python3.11/site-packages/torchvision/../../../libjpeg.9.dylib' (no such file), '/opt/anaconda3/envs/reid-attack/lib/python3.11/site-packages/torchvision/../../../libjpeg.9.dylib' (no such file), '/opt/anaconda3/envs/reid-attack/lib/python3.11/lib-dynload/../../libjpeg.9.dylib' (no such file), '/opt/anaconda3/envs/reid-attack/bin/../lib/libjpeg.9.dylib' (no such file)'If you don't plan on using image functionality from `torchvision.io`, you can ignore this warning. Otherwise, there might be something wrong with your environment. Did you have `libjpeg` or `libpng` installed before building `torchvision` from source?\n",
      "  warn(\n",
      "/opt/anaconda3/envs/reid-attack/lib/python3.11/site-packages/torchvision/io/image.py:14: UserWarning: Failed to load image Python extension: 'dlopen(/opt/anaconda3/envs/reid-attack/lib/python3.11/site-packages/torchvision/image.so, 0x0006): Library not loaded: @rpath/libjpeg.9.dylib\n",
      "  Referenced from: <EB3FF92A-5EB1-3EE8-AF8B-5923C1265422> /opt/anaconda3/envs/reid-attack/lib/python3.11/site-packages/torchvision/image.so\n",
      "  Reason: tried: '/opt/anaconda3/envs/reid-attack/lib/python3.11/site-packages/torchvision/../../../libjpeg.9.dylib' (no such file), '/opt/anaconda3/envs/reid-attack/lib/python3.11/site-packages/torchvision/../../../libjpeg.9.dylib' (no such file), '/opt/anaconda3/envs/reid-attack/lib/python3.11/lib-dynload/../../libjpeg.9.dylib' (no such file), '/opt/anaconda3/envs/reid-attack/bin/../lib/libjpeg.9.dylib' (no such file)'If you don't plan on using image functionality from `torchvision.io`, you can ignore this warning. Otherwise, there might be something wrong with your environment. Did you have `libjpeg` or `libpng` installed before building `torchvision` from source?\n",
      "  warn(\n",
      "100%|██████████| 2810/2810 [12:56<00:00,  3.62it/s]\n"
     ]
    },
    {
     "name": "stdout",
     "output_type": "stream",
     "text": [
      "Train Loss: 43.6362\n",
      "Train Task Losses: {'age': 43.37045904071306, 'sex': 0.2657511972394702}\n",
      "Train Metrics:   {'age_mae': 5.182092065828127, 'sex': 0.8907339857778516}\n",
      "Val Loss: 47.4549\n",
      "Val Task Losses:  {'age': 47.27123062411371, 'sex': 0.18366396322213005}\n",
      "Val Metrics: {'age_mae': 5.278123281874643, 'sex': 0.9318263688760807}\n",
      "Val AUC:  {'sex': np.float64(0.9820818819020789)}\n",
      "Val MAE (age): 5.28\n",
      "Val RMSE (age): 6.88\n",
      "Val R^2 (age): 0.834\n",
      "\n",
      "Epoch 5/10\n"
     ]
    },
    {
     "name": "stderr",
     "output_type": "stream",
     "text": [
      "  0%|          | 0/2810 [00:00<?, ?it/s]/opt/anaconda3/envs/reid-attack/lib/python3.11/site-packages/torchvision/io/image.py:14: UserWarning: Failed to load image Python extension: 'dlopen(/opt/anaconda3/envs/reid-attack/lib/python3.11/site-packages/torchvision/image.so, 0x0006): Library not loaded: @rpath/libjpeg.9.dylib\n",
      "  Referenced from: <EB3FF92A-5EB1-3EE8-AF8B-5923C1265422> /opt/anaconda3/envs/reid-attack/lib/python3.11/site-packages/torchvision/image.so\n",
      "  Reason: tried: '/opt/anaconda3/envs/reid-attack/lib/python3.11/site-packages/torchvision/../../../libjpeg.9.dylib' (no such file), '/opt/anaconda3/envs/reid-attack/lib/python3.11/site-packages/torchvision/../../../libjpeg.9.dylib' (no such file), '/opt/anaconda3/envs/reid-attack/lib/python3.11/lib-dynload/../../libjpeg.9.dylib' (no such file), '/opt/anaconda3/envs/reid-attack/bin/../lib/libjpeg.9.dylib' (no such file)'If you don't plan on using image functionality from `torchvision.io`, you can ignore this warning. Otherwise, there might be something wrong with your environment. Did you have `libjpeg` or `libpng` installed before building `torchvision` from source?\n",
      "  warn(\n",
      "/opt/anaconda3/envs/reid-attack/lib/python3.11/site-packages/torchvision/io/image.py:14: UserWarning: Failed to load image Python extension: 'dlopen(/opt/anaconda3/envs/reid-attack/lib/python3.11/site-packages/torchvision/image.so, 0x0006): Library not loaded: @rpath/libjpeg.9.dylib\n",
      "  Referenced from: <EB3FF92A-5EB1-3EE8-AF8B-5923C1265422> /opt/anaconda3/envs/reid-attack/lib/python3.11/site-packages/torchvision/image.so\n",
      "  Reason: tried: '/opt/anaconda3/envs/reid-attack/lib/python3.11/site-packages/torchvision/../../../libjpeg.9.dylib' (no such file), '/opt/anaconda3/envs/reid-attack/lib/python3.11/site-packages/torchvision/../../../libjpeg.9.dylib' (no such file), '/opt/anaconda3/envs/reid-attack/lib/python3.11/lib-dynload/../../libjpeg.9.dylib' (no such file), '/opt/anaconda3/envs/reid-attack/bin/../lib/libjpeg.9.dylib' (no such file)'If you don't plan on using image functionality from `torchvision.io`, you can ignore this warning. Otherwise, there might be something wrong with your environment. Did you have `libjpeg` or `libpng` installed before building `torchvision` from source?\n",
      "  warn(\n",
      "/opt/anaconda3/envs/reid-attack/lib/python3.11/site-packages/torchvision/io/image.py:14: UserWarning: Failed to load image Python extension: 'dlopen(/opt/anaconda3/envs/reid-attack/lib/python3.11/site-packages/torchvision/image.so, 0x0006): Library not loaded: @rpath/libjpeg.9.dylib\n",
      "  Referenced from: <EB3FF92A-5EB1-3EE8-AF8B-5923C1265422> /opt/anaconda3/envs/reid-attack/lib/python3.11/site-packages/torchvision/image.so\n",
      "  Reason: tried: '/opt/anaconda3/envs/reid-attack/lib/python3.11/site-packages/torchvision/../../../libjpeg.9.dylib' (no such file), '/opt/anaconda3/envs/reid-attack/lib/python3.11/site-packages/torchvision/../../../libjpeg.9.dylib' (no such file), '/opt/anaconda3/envs/reid-attack/lib/python3.11/lib-dynload/../../libjpeg.9.dylib' (no such file), '/opt/anaconda3/envs/reid-attack/bin/../lib/libjpeg.9.dylib' (no such file)'If you don't plan on using image functionality from `torchvision.io`, you can ignore this warning. Otherwise, there might be something wrong with your environment. Did you have `libjpeg` or `libpng` installed before building `torchvision` from source?\n",
      "  warn(\n",
      "/opt/anaconda3/envs/reid-attack/lib/python3.11/site-packages/torchvision/io/image.py:14: UserWarning: Failed to load image Python extension: 'dlopen(/opt/anaconda3/envs/reid-attack/lib/python3.11/site-packages/torchvision/image.so, 0x0006): Library not loaded: @rpath/libjpeg.9.dylib\n",
      "  Referenced from: <EB3FF92A-5EB1-3EE8-AF8B-5923C1265422> /opt/anaconda3/envs/reid-attack/lib/python3.11/site-packages/torchvision/image.so\n",
      "  Reason: tried: '/opt/anaconda3/envs/reid-attack/lib/python3.11/site-packages/torchvision/../../../libjpeg.9.dylib' (no such file), '/opt/anaconda3/envs/reid-attack/lib/python3.11/site-packages/torchvision/../../../libjpeg.9.dylib' (no such file), '/opt/anaconda3/envs/reid-attack/lib/python3.11/lib-dynload/../../libjpeg.9.dylib' (no such file), '/opt/anaconda3/envs/reid-attack/bin/../lib/libjpeg.9.dylib' (no such file)'If you don't plan on using image functionality from `torchvision.io`, you can ignore this warning. Otherwise, there might be something wrong with your environment. Did you have `libjpeg` or `libpng` installed before building `torchvision` from source?\n",
      "  warn(\n",
      "100%|██████████| 2810/2810 [12:48<00:00,  3.66it/s]\n"
     ]
    },
    {
     "name": "stdout",
     "output_type": "stream",
     "text": [
      "Train Loss: 40.2371\n",
      "Train Task Losses: {'age': 40.003478532499265, 'sex': 0.23358133744673798}\n",
      "Train Metrics:   {'age_mae': 4.993164530258586, 'sex': 0.9053603202846975}\n",
      "Val Loss: 54.9330\n",
      "Val Task Losses:  {'age': 54.760057214357666, 'sex': 0.17298770532339425}\n",
      "Val Metrics: {'age_mae': 5.728615495244776, 'sex': 0.9370947406340058}\n",
      "Val AUC:  {'sex': np.float64(0.9837238320039758)}\n",
      "Val MAE (age): 5.73\n",
      "Val RMSE (age): 7.40\n",
      "Val R^2 (age): 0.807\n",
      "\n",
      "Epoch 6/10\n"
     ]
    },
    {
     "name": "stderr",
     "output_type": "stream",
     "text": [
      "  0%|          | 0/2810 [00:00<?, ?it/s]/opt/anaconda3/envs/reid-attack/lib/python3.11/site-packages/torchvision/io/image.py:14: UserWarning: Failed to load image Python extension: 'dlopen(/opt/anaconda3/envs/reid-attack/lib/python3.11/site-packages/torchvision/image.so, 0x0006): Library not loaded: @rpath/libjpeg.9.dylib\n",
      "  Referenced from: <EB3FF92A-5EB1-3EE8-AF8B-5923C1265422> /opt/anaconda3/envs/reid-attack/lib/python3.11/site-packages/torchvision/image.so\n",
      "  Reason: tried: '/opt/anaconda3/envs/reid-attack/lib/python3.11/site-packages/torchvision/../../../libjpeg.9.dylib' (no such file), '/opt/anaconda3/envs/reid-attack/lib/python3.11/site-packages/torchvision/../../../libjpeg.9.dylib' (no such file), '/opt/anaconda3/envs/reid-attack/lib/python3.11/lib-dynload/../../libjpeg.9.dylib' (no such file), '/opt/anaconda3/envs/reid-attack/bin/../lib/libjpeg.9.dylib' (no such file)'If you don't plan on using image functionality from `torchvision.io`, you can ignore this warning. Otherwise, there might be something wrong with your environment. Did you have `libjpeg` or `libpng` installed before building `torchvision` from source?\n",
      "  warn(\n",
      "/opt/anaconda3/envs/reid-attack/lib/python3.11/site-packages/torchvision/io/image.py:14: UserWarning: Failed to load image Python extension: 'dlopen(/opt/anaconda3/envs/reid-attack/lib/python3.11/site-packages/torchvision/image.so, 0x0006): Library not loaded: @rpath/libjpeg.9.dylib\n",
      "  Referenced from: <EB3FF92A-5EB1-3EE8-AF8B-5923C1265422> /opt/anaconda3/envs/reid-attack/lib/python3.11/site-packages/torchvision/image.so\n",
      "  Reason: tried: '/opt/anaconda3/envs/reid-attack/lib/python3.11/site-packages/torchvision/../../../libjpeg.9.dylib' (no such file), '/opt/anaconda3/envs/reid-attack/lib/python3.11/site-packages/torchvision/../../../libjpeg.9.dylib' (no such file), '/opt/anaconda3/envs/reid-attack/lib/python3.11/lib-dynload/../../libjpeg.9.dylib' (no such file), '/opt/anaconda3/envs/reid-attack/bin/../lib/libjpeg.9.dylib' (no such file)'If you don't plan on using image functionality from `torchvision.io`, you can ignore this warning. Otherwise, there might be something wrong with your environment. Did you have `libjpeg` or `libpng` installed before building `torchvision` from source?\n",
      "  warn(\n",
      "/opt/anaconda3/envs/reid-attack/lib/python3.11/site-packages/torchvision/io/image.py:14: UserWarning: Failed to load image Python extension: 'dlopen(/opt/anaconda3/envs/reid-attack/lib/python3.11/site-packages/torchvision/image.so, 0x0006): Library not loaded: @rpath/libjpeg.9.dylib\n",
      "  Referenced from: <EB3FF92A-5EB1-3EE8-AF8B-5923C1265422> /opt/anaconda3/envs/reid-attack/lib/python3.11/site-packages/torchvision/image.so\n",
      "  Reason: tried: '/opt/anaconda3/envs/reid-attack/lib/python3.11/site-packages/torchvision/../../../libjpeg.9.dylib' (no such file), '/opt/anaconda3/envs/reid-attack/lib/python3.11/site-packages/torchvision/../../../libjpeg.9.dylib' (no such file), '/opt/anaconda3/envs/reid-attack/lib/python3.11/lib-dynload/../../libjpeg.9.dylib' (no such file), '/opt/anaconda3/envs/reid-attack/bin/../lib/libjpeg.9.dylib' (no such file)'If you don't plan on using image functionality from `torchvision.io`, you can ignore this warning. Otherwise, there might be something wrong with your environment. Did you have `libjpeg` or `libpng` installed before building `torchvision` from source?\n",
      "  warn(\n",
      "/opt/anaconda3/envs/reid-attack/lib/python3.11/site-packages/torchvision/io/image.py:14: UserWarning: Failed to load image Python extension: 'dlopen(/opt/anaconda3/envs/reid-attack/lib/python3.11/site-packages/torchvision/image.so, 0x0006): Library not loaded: @rpath/libjpeg.9.dylib\n",
      "  Referenced from: <EB3FF92A-5EB1-3EE8-AF8B-5923C1265422> /opt/anaconda3/envs/reid-attack/lib/python3.11/site-packages/torchvision/image.so\n",
      "  Reason: tried: '/opt/anaconda3/envs/reid-attack/lib/python3.11/site-packages/torchvision/../../../libjpeg.9.dylib' (no such file), '/opt/anaconda3/envs/reid-attack/lib/python3.11/site-packages/torchvision/../../../libjpeg.9.dylib' (no such file), '/opt/anaconda3/envs/reid-attack/lib/python3.11/lib-dynload/../../libjpeg.9.dylib' (no such file), '/opt/anaconda3/envs/reid-attack/bin/../lib/libjpeg.9.dylib' (no such file)'If you don't plan on using image functionality from `torchvision.io`, you can ignore this warning. Otherwise, there might be something wrong with your environment. Did you have `libjpeg` or `libpng` installed before building `torchvision` from source?\n",
      "  warn(\n",
      "100%|██████████| 2810/2810 [12:48<00:00,  3.66it/s]\n"
     ]
    },
    {
     "name": "stdout",
     "output_type": "stream",
     "text": [
      "Train Loss: 38.9758\n",
      "Train Task Losses: {'age': 38.762848006618405, 'sex': 0.2129179768529439}\n",
      "Train Metrics:   {'age_mae': 4.9139655780113465, 'sex': 0.9139234875444839}\n",
      "Val Loss: 44.1460\n",
      "Val Task Losses:  {'age': 43.98602617645813, 'sex': 0.15992412638651898}\n",
      "Val Metrics: {'age_mae': 5.161512368694162, 'sex': 0.9379052593659942}\n",
      "Val AUC:  {'sex': np.float64(0.9868484089767607)}\n",
      "Val MAE (age): 5.16\n",
      "Val RMSE (age): 6.63\n",
      "Val R^2 (age): 0.845\n",
      "\n",
      "Epoch 7/10\n"
     ]
    },
    {
     "name": "stderr",
     "output_type": "stream",
     "text": [
      "  0%|          | 0/2810 [00:00<?, ?it/s]/opt/anaconda3/envs/reid-attack/lib/python3.11/site-packages/torchvision/io/image.py:14: UserWarning: Failed to load image Python extension: 'dlopen(/opt/anaconda3/envs/reid-attack/lib/python3.11/site-packages/torchvision/image.so, 0x0006): Library not loaded: @rpath/libjpeg.9.dylib\n",
      "  Referenced from: <EB3FF92A-5EB1-3EE8-AF8B-5923C1265422> /opt/anaconda3/envs/reid-attack/lib/python3.11/site-packages/torchvision/image.so\n",
      "  Reason: tried: '/opt/anaconda3/envs/reid-attack/lib/python3.11/site-packages/torchvision/../../../libjpeg.9.dylib' (no such file), '/opt/anaconda3/envs/reid-attack/lib/python3.11/site-packages/torchvision/../../../libjpeg.9.dylib' (no such file), '/opt/anaconda3/envs/reid-attack/lib/python3.11/lib-dynload/../../libjpeg.9.dylib' (no such file), '/opt/anaconda3/envs/reid-attack/bin/../lib/libjpeg.9.dylib' (no such file)'If you don't plan on using image functionality from `torchvision.io`, you can ignore this warning. Otherwise, there might be something wrong with your environment. Did you have `libjpeg` or `libpng` installed before building `torchvision` from source?\n",
      "  warn(\n",
      "/opt/anaconda3/envs/reid-attack/lib/python3.11/site-packages/torchvision/io/image.py:14: UserWarning: Failed to load image Python extension: 'dlopen(/opt/anaconda3/envs/reid-attack/lib/python3.11/site-packages/torchvision/image.so, 0x0006): Library not loaded: @rpath/libjpeg.9.dylib\n",
      "  Referenced from: <EB3FF92A-5EB1-3EE8-AF8B-5923C1265422> /opt/anaconda3/envs/reid-attack/lib/python3.11/site-packages/torchvision/image.so\n",
      "  Reason: tried: '/opt/anaconda3/envs/reid-attack/lib/python3.11/site-packages/torchvision/../../../libjpeg.9.dylib' (no such file), '/opt/anaconda3/envs/reid-attack/lib/python3.11/site-packages/torchvision/../../../libjpeg.9.dylib' (no such file), '/opt/anaconda3/envs/reid-attack/lib/python3.11/lib-dynload/../../libjpeg.9.dylib' (no such file), '/opt/anaconda3/envs/reid-attack/bin/../lib/libjpeg.9.dylib' (no such file)'If you don't plan on using image functionality from `torchvision.io`, you can ignore this warning. Otherwise, there might be something wrong with your environment. Did you have `libjpeg` or `libpng` installed before building `torchvision` from source?\n",
      "  warn(\n",
      "/opt/anaconda3/envs/reid-attack/lib/python3.11/site-packages/torchvision/io/image.py:14: UserWarning: Failed to load image Python extension: 'dlopen(/opt/anaconda3/envs/reid-attack/lib/python3.11/site-packages/torchvision/image.so, 0x0006): Library not loaded: @rpath/libjpeg.9.dylib\n",
      "  Referenced from: <EB3FF92A-5EB1-3EE8-AF8B-5923C1265422> /opt/anaconda3/envs/reid-attack/lib/python3.11/site-packages/torchvision/image.so\n",
      "  Reason: tried: '/opt/anaconda3/envs/reid-attack/lib/python3.11/site-packages/torchvision/../../../libjpeg.9.dylib' (no such file), '/opt/anaconda3/envs/reid-attack/lib/python3.11/site-packages/torchvision/../../../libjpeg.9.dylib' (no such file), '/opt/anaconda3/envs/reid-attack/lib/python3.11/lib-dynload/../../libjpeg.9.dylib' (no such file), '/opt/anaconda3/envs/reid-attack/bin/../lib/libjpeg.9.dylib' (no such file)'If you don't plan on using image functionality from `torchvision.io`, you can ignore this warning. Otherwise, there might be something wrong with your environment. Did you have `libjpeg` or `libpng` installed before building `torchvision` from source?\n",
      "  warn(\n",
      "/opt/anaconda3/envs/reid-attack/lib/python3.11/site-packages/torchvision/io/image.py:14: UserWarning: Failed to load image Python extension: 'dlopen(/opt/anaconda3/envs/reid-attack/lib/python3.11/site-packages/torchvision/image.so, 0x0006): Library not loaded: @rpath/libjpeg.9.dylib\n",
      "  Referenced from: <EB3FF92A-5EB1-3EE8-AF8B-5923C1265422> /opt/anaconda3/envs/reid-attack/lib/python3.11/site-packages/torchvision/image.so\n",
      "  Reason: tried: '/opt/anaconda3/envs/reid-attack/lib/python3.11/site-packages/torchvision/../../../libjpeg.9.dylib' (no such file), '/opt/anaconda3/envs/reid-attack/lib/python3.11/site-packages/torchvision/../../../libjpeg.9.dylib' (no such file), '/opt/anaconda3/envs/reid-attack/lib/python3.11/lib-dynload/../../libjpeg.9.dylib' (no such file), '/opt/anaconda3/envs/reid-attack/bin/../lib/libjpeg.9.dylib' (no such file)'If you don't plan on using image functionality from `torchvision.io`, you can ignore this warning. Otherwise, there might be something wrong with your environment. Did you have `libjpeg` or `libpng` installed before building `torchvision` from source?\n",
      "  warn(\n",
      "100%|██████████| 2810/2810 [13:16<00:00,  3.53it/s]\n"
     ]
    },
    {
     "name": "stdout",
     "output_type": "stream",
     "text": [
      "Train Loss: 37.7130\n",
      "Train Task Losses: {'age': 37.515029742624414, 'sex': 0.19794854459707423}\n",
      "Train Metrics:   {'age_mae': 4.848468172507778, 'sex': 0.9203514234875445}\n",
      "Val Loss: 47.4956\n",
      "Val Task Losses:  {'age': 47.34697972250947, 'sex': 0.14866893690130445}\n",
      "Val Metrics: {'age_mae': 5.2917806580018585, 'sex': 0.9421379682997119}\n",
      "Val AUC:  {'sex': np.float64(0.987103353241464)}\n",
      "Val MAE (age): 5.29\n",
      "Val RMSE (age): 6.88\n",
      "Val R^2 (age): 0.833\n",
      "\n",
      "Epoch 8/10\n"
     ]
    },
    {
     "name": "stderr",
     "output_type": "stream",
     "text": [
      "  0%|          | 0/2810 [00:00<?, ?it/s]/opt/anaconda3/envs/reid-attack/lib/python3.11/site-packages/torchvision/io/image.py:14: UserWarning: Failed to load image Python extension: 'dlopen(/opt/anaconda3/envs/reid-attack/lib/python3.11/site-packages/torchvision/image.so, 0x0006): Library not loaded: @rpath/libjpeg.9.dylib\n",
      "  Referenced from: <EB3FF92A-5EB1-3EE8-AF8B-5923C1265422> /opt/anaconda3/envs/reid-attack/lib/python3.11/site-packages/torchvision/image.so\n",
      "  Reason: tried: '/opt/anaconda3/envs/reid-attack/lib/python3.11/site-packages/torchvision/../../../libjpeg.9.dylib' (no such file), '/opt/anaconda3/envs/reid-attack/lib/python3.11/site-packages/torchvision/../../../libjpeg.9.dylib' (no such file), '/opt/anaconda3/envs/reid-attack/lib/python3.11/lib-dynload/../../libjpeg.9.dylib' (no such file), '/opt/anaconda3/envs/reid-attack/bin/../lib/libjpeg.9.dylib' (no such file)'If you don't plan on using image functionality from `torchvision.io`, you can ignore this warning. Otherwise, there might be something wrong with your environment. Did you have `libjpeg` or `libpng` installed before building `torchvision` from source?\n",
      "  warn(\n",
      "/opt/anaconda3/envs/reid-attack/lib/python3.11/site-packages/torchvision/io/image.py:14: UserWarning: Failed to load image Python extension: 'dlopen(/opt/anaconda3/envs/reid-attack/lib/python3.11/site-packages/torchvision/image.so, 0x0006): Library not loaded: @rpath/libjpeg.9.dylib\n",
      "  Referenced from: <EB3FF92A-5EB1-3EE8-AF8B-5923C1265422> /opt/anaconda3/envs/reid-attack/lib/python3.11/site-packages/torchvision/image.so\n",
      "  Reason: tried: '/opt/anaconda3/envs/reid-attack/lib/python3.11/site-packages/torchvision/../../../libjpeg.9.dylib' (no such file), '/opt/anaconda3/envs/reid-attack/lib/python3.11/site-packages/torchvision/../../../libjpeg.9.dylib' (no such file), '/opt/anaconda3/envs/reid-attack/lib/python3.11/lib-dynload/../../libjpeg.9.dylib' (no such file), '/opt/anaconda3/envs/reid-attack/bin/../lib/libjpeg.9.dylib' (no such file)'If you don't plan on using image functionality from `torchvision.io`, you can ignore this warning. Otherwise, there might be something wrong with your environment. Did you have `libjpeg` or `libpng` installed before building `torchvision` from source?\n",
      "  warn(\n",
      "/opt/anaconda3/envs/reid-attack/lib/python3.11/site-packages/torchvision/io/image.py:14: UserWarning: Failed to load image Python extension: 'dlopen(/opt/anaconda3/envs/reid-attack/lib/python3.11/site-packages/torchvision/image.so, 0x0006): Library not loaded: @rpath/libjpeg.9.dylib\n",
      "  Referenced from: <EB3FF92A-5EB1-3EE8-AF8B-5923C1265422> /opt/anaconda3/envs/reid-attack/lib/python3.11/site-packages/torchvision/image.so\n",
      "  Reason: tried: '/opt/anaconda3/envs/reid-attack/lib/python3.11/site-packages/torchvision/../../../libjpeg.9.dylib' (no such file), '/opt/anaconda3/envs/reid-attack/lib/python3.11/site-packages/torchvision/../../../libjpeg.9.dylib' (no such file), '/opt/anaconda3/envs/reid-attack/lib/python3.11/lib-dynload/../../libjpeg.9.dylib' (no such file), '/opt/anaconda3/envs/reid-attack/bin/../lib/libjpeg.9.dylib' (no such file)'If you don't plan on using image functionality from `torchvision.io`, you can ignore this warning. Otherwise, there might be something wrong with your environment. Did you have `libjpeg` or `libpng` installed before building `torchvision` from source?\n",
      "  warn(\n",
      "/opt/anaconda3/envs/reid-attack/lib/python3.11/site-packages/torchvision/io/image.py:14: UserWarning: Failed to load image Python extension: 'dlopen(/opt/anaconda3/envs/reid-attack/lib/python3.11/site-packages/torchvision/image.so, 0x0006): Library not loaded: @rpath/libjpeg.9.dylib\n",
      "  Referenced from: <EB3FF92A-5EB1-3EE8-AF8B-5923C1265422> /opt/anaconda3/envs/reid-attack/lib/python3.11/site-packages/torchvision/image.so\n",
      "  Reason: tried: '/opt/anaconda3/envs/reid-attack/lib/python3.11/site-packages/torchvision/../../../libjpeg.9.dylib' (no such file), '/opt/anaconda3/envs/reid-attack/lib/python3.11/site-packages/torchvision/../../../libjpeg.9.dylib' (no such file), '/opt/anaconda3/envs/reid-attack/lib/python3.11/lib-dynload/../../libjpeg.9.dylib' (no such file), '/opt/anaconda3/envs/reid-attack/bin/../lib/libjpeg.9.dylib' (no such file)'If you don't plan on using image functionality from `torchvision.io`, you can ignore this warning. Otherwise, there might be something wrong with your environment. Did you have `libjpeg` or `libpng` installed before building `torchvision` from source?\n",
      "  warn(\n",
      "100%|██████████| 2810/2810 [13:04<00:00,  3.58it/s]\n"
     ]
    },
    {
     "name": "stdout",
     "output_type": "stream",
     "text": [
      "Train Loss: 36.2310\n",
      "Train Task Losses: {'age': 36.051463888378755, 'sex': 0.17956708283677325}\n",
      "Train Metrics:   {'age_mae': 4.756861773377212, 'sex': 0.9279114768810544}\n",
      "Val Loss: 45.7865\n",
      "Val Task Losses:  {'age': 45.652968315981994, 'sex': 0.13357067730288513}\n",
      "Val Metrics: {'age_mae': 5.177664812085264, 'sex': 0.9477215417867435}\n",
      "Val AUC:  {'sex': np.float64(0.9891556420511091)}\n",
      "Val MAE (age): 5.18\n",
      "Val RMSE (age): 6.76\n",
      "Val R^2 (age): 0.839\n",
      "\n",
      "Epoch 9/10\n"
     ]
    },
    {
     "name": "stderr",
     "output_type": "stream",
     "text": [
      "  0%|          | 0/2810 [00:00<?, ?it/s]/opt/anaconda3/envs/reid-attack/lib/python3.11/site-packages/torchvision/io/image.py:14: UserWarning: Failed to load image Python extension: 'dlopen(/opt/anaconda3/envs/reid-attack/lib/python3.11/site-packages/torchvision/image.so, 0x0006): Library not loaded: @rpath/libjpeg.9.dylib\n",
      "  Referenced from: <EB3FF92A-5EB1-3EE8-AF8B-5923C1265422> /opt/anaconda3/envs/reid-attack/lib/python3.11/site-packages/torchvision/image.so\n",
      "  Reason: tried: '/opt/anaconda3/envs/reid-attack/lib/python3.11/site-packages/torchvision/../../../libjpeg.9.dylib' (no such file), '/opt/anaconda3/envs/reid-attack/lib/python3.11/site-packages/torchvision/../../../libjpeg.9.dylib' (no such file), '/opt/anaconda3/envs/reid-attack/lib/python3.11/lib-dynload/../../libjpeg.9.dylib' (no such file), '/opt/anaconda3/envs/reid-attack/bin/../lib/libjpeg.9.dylib' (no such file)'If you don't plan on using image functionality from `torchvision.io`, you can ignore this warning. Otherwise, there might be something wrong with your environment. Did you have `libjpeg` or `libpng` installed before building `torchvision` from source?\n",
      "  warn(\n",
      "/opt/anaconda3/envs/reid-attack/lib/python3.11/site-packages/torchvision/io/image.py:14: UserWarning: Failed to load image Python extension: 'dlopen(/opt/anaconda3/envs/reid-attack/lib/python3.11/site-packages/torchvision/image.so, 0x0006): Library not loaded: @rpath/libjpeg.9.dylib\n",
      "  Referenced from: <EB3FF92A-5EB1-3EE8-AF8B-5923C1265422> /opt/anaconda3/envs/reid-attack/lib/python3.11/site-packages/torchvision/image.so\n",
      "  Reason: tried: '/opt/anaconda3/envs/reid-attack/lib/python3.11/site-packages/torchvision/../../../libjpeg.9.dylib' (no such file), '/opt/anaconda3/envs/reid-attack/lib/python3.11/site-packages/torchvision/../../../libjpeg.9.dylib' (no such file), '/opt/anaconda3/envs/reid-attack/lib/python3.11/lib-dynload/../../libjpeg.9.dylib' (no such file), '/opt/anaconda3/envs/reid-attack/bin/../lib/libjpeg.9.dylib' (no such file)'If you don't plan on using image functionality from `torchvision.io`, you can ignore this warning. Otherwise, there might be something wrong with your environment. Did you have `libjpeg` or `libpng` installed before building `torchvision` from source?\n",
      "  warn(\n",
      "/opt/anaconda3/envs/reid-attack/lib/python3.11/site-packages/torchvision/io/image.py:14: UserWarning: Failed to load image Python extension: 'dlopen(/opt/anaconda3/envs/reid-attack/lib/python3.11/site-packages/torchvision/image.so, 0x0006): Library not loaded: @rpath/libjpeg.9.dylib\n",
      "  Referenced from: <EB3FF92A-5EB1-3EE8-AF8B-5923C1265422> /opt/anaconda3/envs/reid-attack/lib/python3.11/site-packages/torchvision/image.so\n",
      "  Reason: tried: '/opt/anaconda3/envs/reid-attack/lib/python3.11/site-packages/torchvision/../../../libjpeg.9.dylib' (no such file), '/opt/anaconda3/envs/reid-attack/lib/python3.11/site-packages/torchvision/../../../libjpeg.9.dylib' (no such file), '/opt/anaconda3/envs/reid-attack/lib/python3.11/lib-dynload/../../libjpeg.9.dylib' (no such file), '/opt/anaconda3/envs/reid-attack/bin/../lib/libjpeg.9.dylib' (no such file)'If you don't plan on using image functionality from `torchvision.io`, you can ignore this warning. Otherwise, there might be something wrong with your environment. Did you have `libjpeg` or `libpng` installed before building `torchvision` from source?\n",
      "  warn(\n",
      "/opt/anaconda3/envs/reid-attack/lib/python3.11/site-packages/torchvision/io/image.py:14: UserWarning: Failed to load image Python extension: 'dlopen(/opt/anaconda3/envs/reid-attack/lib/python3.11/site-packages/torchvision/image.so, 0x0006): Library not loaded: @rpath/libjpeg.9.dylib\n",
      "  Referenced from: <EB3FF92A-5EB1-3EE8-AF8B-5923C1265422> /opt/anaconda3/envs/reid-attack/lib/python3.11/site-packages/torchvision/image.so\n",
      "  Reason: tried: '/opt/anaconda3/envs/reid-attack/lib/python3.11/site-packages/torchvision/../../../libjpeg.9.dylib' (no such file), '/opt/anaconda3/envs/reid-attack/lib/python3.11/site-packages/torchvision/../../../libjpeg.9.dylib' (no such file), '/opt/anaconda3/envs/reid-attack/lib/python3.11/lib-dynload/../../libjpeg.9.dylib' (no such file), '/opt/anaconda3/envs/reid-attack/bin/../lib/libjpeg.9.dylib' (no such file)'If you don't plan on using image functionality from `torchvision.io`, you can ignore this warning. Otherwise, there might be something wrong with your environment. Did you have `libjpeg` or `libpng` installed before building `torchvision` from source?\n",
      "  warn(\n",
      "100%|██████████| 2810/2810 [13:07<00:00,  3.57it/s]\n"
     ]
    },
    {
     "name": "stdout",
     "output_type": "stream",
     "text": [
      "Train Loss: 33.2005\n",
      "Train Task Losses: {'age': 33.0300835706161, 'sex': 0.1704652588562609}\n",
      "Train Metrics:   {'age_mae': 4.558973310341615, 'sex': 0.9319928825750046}\n",
      "Val Loss: 45.0985\n",
      "Val Task Losses:  {'age': 44.97263007067809, 'sex': 0.1259113131335907}\n",
      "Val Metrics: {'age_mae': 5.120145191720308, 'sex': 0.9499279538904899}\n",
      "Val AUC:  {'sex': np.float64(0.9909050570250231)}\n",
      "Val MAE (age): 5.12\n",
      "Val RMSE (age): 6.71\n",
      "Val R^2 (age): 0.842\n",
      "\n",
      "Epoch 10/10\n"
     ]
    },
    {
     "name": "stderr",
     "output_type": "stream",
     "text": [
      "  0%|          | 0/2810 [00:00<?, ?it/s]/opt/anaconda3/envs/reid-attack/lib/python3.11/site-packages/torchvision/io/image.py:14: UserWarning: Failed to load image Python extension: 'dlopen(/opt/anaconda3/envs/reid-attack/lib/python3.11/site-packages/torchvision/image.so, 0x0006): Library not loaded: @rpath/libjpeg.9.dylib\n",
      "  Referenced from: <EB3FF92A-5EB1-3EE8-AF8B-5923C1265422> /opt/anaconda3/envs/reid-attack/lib/python3.11/site-packages/torchvision/image.so\n",
      "  Reason: tried: '/opt/anaconda3/envs/reid-attack/lib/python3.11/site-packages/torchvision/../../../libjpeg.9.dylib' (no such file), '/opt/anaconda3/envs/reid-attack/lib/python3.11/site-packages/torchvision/../../../libjpeg.9.dylib' (no such file), '/opt/anaconda3/envs/reid-attack/lib/python3.11/lib-dynload/../../libjpeg.9.dylib' (no such file), '/opt/anaconda3/envs/reid-attack/bin/../lib/libjpeg.9.dylib' (no such file)'If you don't plan on using image functionality from `torchvision.io`, you can ignore this warning. Otherwise, there might be something wrong with your environment. Did you have `libjpeg` or `libpng` installed before building `torchvision` from source?\n",
      "  warn(\n",
      "/opt/anaconda3/envs/reid-attack/lib/python3.11/site-packages/torchvision/io/image.py:14: UserWarning: Failed to load image Python extension: 'dlopen(/opt/anaconda3/envs/reid-attack/lib/python3.11/site-packages/torchvision/image.so, 0x0006): Library not loaded: @rpath/libjpeg.9.dylib\n",
      "  Referenced from: <EB3FF92A-5EB1-3EE8-AF8B-5923C1265422> /opt/anaconda3/envs/reid-attack/lib/python3.11/site-packages/torchvision/image.so\n",
      "  Reason: tried: '/opt/anaconda3/envs/reid-attack/lib/python3.11/site-packages/torchvision/../../../libjpeg.9.dylib' (no such file), '/opt/anaconda3/envs/reid-attack/lib/python3.11/site-packages/torchvision/../../../libjpeg.9.dylib' (no such file), '/opt/anaconda3/envs/reid-attack/lib/python3.11/lib-dynload/../../libjpeg.9.dylib' (no such file), '/opt/anaconda3/envs/reid-attack/bin/../lib/libjpeg.9.dylib' (no such file)'If you don't plan on using image functionality from `torchvision.io`, you can ignore this warning. Otherwise, there might be something wrong with your environment. Did you have `libjpeg` or `libpng` installed before building `torchvision` from source?\n",
      "  warn(\n",
      "/opt/anaconda3/envs/reid-attack/lib/python3.11/site-packages/torchvision/io/image.py:14: UserWarning: Failed to load image Python extension: 'dlopen(/opt/anaconda3/envs/reid-attack/lib/python3.11/site-packages/torchvision/image.so, 0x0006): Library not loaded: @rpath/libjpeg.9.dylib\n",
      "  Referenced from: <EB3FF92A-5EB1-3EE8-AF8B-5923C1265422> /opt/anaconda3/envs/reid-attack/lib/python3.11/site-packages/torchvision/image.so\n",
      "  Reason: tried: '/opt/anaconda3/envs/reid-attack/lib/python3.11/site-packages/torchvision/../../../libjpeg.9.dylib' (no such file), '/opt/anaconda3/envs/reid-attack/lib/python3.11/site-packages/torchvision/../../../libjpeg.9.dylib' (no such file), '/opt/anaconda3/envs/reid-attack/lib/python3.11/lib-dynload/../../libjpeg.9.dylib' (no such file), '/opt/anaconda3/envs/reid-attack/bin/../lib/libjpeg.9.dylib' (no such file)'If you don't plan on using image functionality from `torchvision.io`, you can ignore this warning. Otherwise, there might be something wrong with your environment. Did you have `libjpeg` or `libpng` installed before building `torchvision` from source?\n",
      "  warn(\n",
      "/opt/anaconda3/envs/reid-attack/lib/python3.11/site-packages/torchvision/io/image.py:14: UserWarning: Failed to load image Python extension: 'dlopen(/opt/anaconda3/envs/reid-attack/lib/python3.11/site-packages/torchvision/image.so, 0x0006): Library not loaded: @rpath/libjpeg.9.dylib\n",
      "  Referenced from: <EB3FF92A-5EB1-3EE8-AF8B-5923C1265422> /opt/anaconda3/envs/reid-attack/lib/python3.11/site-packages/torchvision/image.so\n",
      "  Reason: tried: '/opt/anaconda3/envs/reid-attack/lib/python3.11/site-packages/torchvision/../../../libjpeg.9.dylib' (no such file), '/opt/anaconda3/envs/reid-attack/lib/python3.11/site-packages/torchvision/../../../libjpeg.9.dylib' (no such file), '/opt/anaconda3/envs/reid-attack/lib/python3.11/lib-dynload/../../libjpeg.9.dylib' (no such file), '/opt/anaconda3/envs/reid-attack/bin/../lib/libjpeg.9.dylib' (no such file)'If you don't plan on using image functionality from `torchvision.io`, you can ignore this warning. Otherwise, there might be something wrong with your environment. Did you have `libjpeg` or `libpng` installed before building `torchvision` from source?\n",
      "  warn(\n",
      "100%|██████████| 2810/2810 [13:08<00:00,  3.56it/s]\n"
     ]
    },
    {
     "name": "stdout",
     "output_type": "stream",
     "text": [
      "Train Loss: 33.4947\n",
      "Train Task Losses: {'age': 33.33512585969158, 'sex': 0.159583343016282}\n",
      "Train Metrics:   {'age_mae': 4.580872781930021, 'sex': 0.9369328291814947}\n",
      "Val Loss: 47.5608\n",
      "Val Task Losses:  {'age': 47.42798915307872, 'sex': 0.1328281889091211}\n",
      "Val Metrics: {'age_mae': 5.281442279602677, 'sex': 0.947136167146974}\n",
      "Val AUC:  {'sex': np.float64(0.9893220797957443)}\n",
      "Val MAE (age): 5.28\n",
      "Val RMSE (age): 6.89\n",
      "Val R^2 (age): 0.833\n"
     ]
    }
   ],
   "source": [
    "model = DemographicModel().to(device)\n",
    "optimizer = torch.optim.Adam(model.parameters(), lr=1e-4, weight_decay=1e-4)\n",
    "\n",
    "num_epochs=10\n",
    "best_r2 = -float(\"inf\")\n",
    "\n",
    "history = {\n",
    "    \"train_loss\": [],\n",
    "    \"train_loss_per_task\": [],\n",
    "    \"val_loss\": [],\n",
    "    \"val_loss_per_task\": [],\n",
    "    \"train_acc_sex\": [],\n",
    "    \"val_acc_sex\": [],\n",
    "    \"val_auc_sex\": [],\n",
    "    \"train_mae_age\": [],\n",
    "    \"val_mae_age\": [],\n",
    "    \"val_rmse_age\": [],\n",
    "    \"val_r2_age\": []\n",
    "}\n",
    "\n",
    "for epoch in range(num_epochs):\n",
    "    print(f\"\\nEpoch {epoch+1}/{num_epochs}\")\n",
    "\n",
    "    train_loss, train_losses, train_metrics = train(model, train_loader, optimizer, device)\n",
    "    val_loss, val_losses, val_metrics, val_aucs, val_mae, val_rmse, r2 = evaluate(\n",
    "        model, val_loader, device\n",
    "    )\n",
    "\n",
    "    if r2 > best_r2:\n",
    "        best_r2 = r2\n",
    "        torch.save(model.state_dict(), 'demographic_model.pt')\n",
    "\n",
    "    print(f\"Train Loss: {train_loss:.4f}\")\n",
    "    print(\"Train Task Losses:\", train_losses)\n",
    "    print(\"Train Metrics:  \", train_metrics)\n",
    "\n",
    "    print(f\"Val Loss: {val_loss:.4f}\")\n",
    "    print(\"Val Task Losses: \", val_losses)\n",
    "    print(\"Val Metrics:\", val_metrics)\n",
    "    print(\"Val AUC: \", val_aucs)\n",
    "    print(f\"Val MAE (age): {val_mae:.2f}\")\n",
    "    print(f\"Val RMSE (age): {val_rmse:.2f}\")\n",
    "    print(f\"Val R^2 (age): {r2:.3f}\")\n",
    "\n",
    "    history[\"train_loss\"].append(train_loss)\n",
    "    history[\"train_loss_per_task\"].append(train_losses)\n",
    "    history[\"val_loss\"].append(val_loss)\n",
    "    history[\"val_loss_per_task\"].append(val_losses)\n",
    "\n",
    "    history[\"train_acc_sex\"].append(train_metrics[\"sex\"])\n",
    "    history[\"val_acc_sex\"].append(val_metrics[\"sex\"])\n",
    "\n",
    "    history[\"val_auc_sex\"].append(val_aucs[\"sex\"])\n",
    "    history[\"train_mae_age\"].append(train_metrics[\"age_mae\"])\n",
    "    history[\"val_mae_age\"].append(val_mae)\n",
    "    history[\"val_rmse_age\"].append(val_rmse)\n",
    "    history[\"val_r2_age\"].append(r2)"
   ]
  },
  {
   "cell_type": "markdown",
   "id": "02c1cbd1",
   "metadata": {},
   "source": [
    "## Visualize"
   ]
  },
  {
   "cell_type": "code",
   "execution_count": 29,
   "id": "5bd6b8b5",
   "metadata": {},
   "outputs": [
    {
     "data": {
      "image/png": "[encoded data removed]",
      "text/plain": [
       "<Figure size 1000x500 with 1 Axes>"
      ]
     },
     "metadata": {},
     "output_type": "display_data"
    },
    {
     "data": {
      "image/png": "[encoded data removed]",
      "text/plain": [
       "<Figure size 1000x500 with 1 Axes>"
      ]
     },
     "metadata": {},
     "output_type": "display_data"
    }
   ],
   "source": [
    "import matplotlib.pyplot as plt\n",
    "\n",
    "epochs = list(range(1, num_epochs + 1))\n",
    "\n",
    "# Plot sex classification\n",
    "plt.figure(figsize=(10, 5))\n",
    "plt.plot(epochs, history[\"val_acc_sex\"], label=\"Accuracy\")\n",
    "plt.plot(epochs, history[\"val_auc_sex\"], label=\"AUC\")\n",
    "plt.xlabel(\"Epoch\")\n",
    "plt.ylabel(\"Score\")\n",
    "plt.title(\"Validation - Sex Classification Metrics\")\n",
    "plt.legend()\n",
    "plt.grid(True)\n",
    "plt.tight_layout()\n",
    "plt.show()\n",
    "\n",
    "# Plot age regression\n",
    "plt.figure(figsize=(10, 5))\n",
    "plt.plot(epochs, history[\"val_mae_age\"], label=\"MAE\")\n",
    "plt.plot(epochs, history[\"val_rmse_age\"], label=\"RMSE\")\n",
    "plt.plot(epochs, history[\"val_r2_age\"], label=\"R^2\")\n",
    "plt.xlabel(\"Epoch\")\n",
    "plt.ylabel(\"Score\")\n",
    "plt.title(\"Validation - Age Regression Metrics\")\n",
    "plt.legend()\n",
    "plt.grid(True)\n",
    "plt.tight_layout()\n",
    "plt.show()"
   ]
  },
  {
   "cell_type": "markdown",
   "id": "a0429dfa",
   "metadata": {},
   "source": [
    "## Results"
   ]
  },
  {
   "cell_type": "code",
   "execution_count": 44,
   "id": "0df0963f",
   "metadata": {},
   "outputs": [
    {
     "name": "stdout",
     "output_type": "stream",
     "text": [
      "Predicted age: 60.8 vs. Ground truth age: 68.0\n",
      "Predicted sex: Female vs. Ground truth sex: Female\n"
     ]
    }
   ],
   "source": [
    "# Testing for single image from validation set\n",
    "\n",
    "# Get batch\n",
    "images, agebin_labels, sex_labels, true_ages = next(iter(val_loader))\n",
    "\n",
    "# Pick one sample\n",
    "image = images[1].unsqueeze(0).to(device)\n",
    "sex_label = sex_labels[1].item()\n",
    "true_age = true_ages[1].item()\n",
    "\n",
    "# Run through model\n",
    "model.eval()\n",
    "with torch.no_grad():\n",
    "    age_pred, sex_logits = model(image)\n",
    "    age_pred = age_pred.item()\n",
    "    sex_pred = torch.sigmoid(sex_logits).item() > 0.65\n",
    "\n",
    "# Decode\n",
    "sex_map = {0.0: \"Female\", 1.0: \"Male\"}\n",
    "pred_sex = \"Male\" if sex_pred else \"Female\"\n",
    "true_sex = sex_map.get(sex_label, \"Unknown\")\n",
    "\n",
    "print(f\"Predicted age: {age_pred:.1f} vs. Ground truth age: {true_age:.1f}\")\n",
    "print(f\"Predicted sex: {pred_sex} vs. Ground truth sex: {true_sex}\")"
   ]
  },
  {
   "cell_type": "code",
   "execution_count": null,
   "id": "5c880728",
   "metadata": {},
   "outputs": [
    {
     "data": {
      "text/html": [
       "<div>\n",
       "<style scoped>\n",
       "    .dataframe tbody tr th:only-of-type {\n",
       "        vertical-align: middle;\n",
       "    }\n",
       "\n",
       "    .dataframe tbody tr th {\n",
       "        vertical-align: top;\n",
       "    }\n",
       "\n",
       "    .dataframe thead th {\n",
       "        text-align: right;\n",
       "    }\n",
       "</style>\n",
       "<table border=\"1\" class=\"dataframe\">\n",
       "  <thead>\n",
       "    <tr style=\"text-align: right;\">\n",
       "      <th></th>\n",
       "      <th>PredictedAge</th>\n",
       "      <th>TrueAge</th>\n",
       "      <th>AbsoluteError</th>\n",
       "      <th>PredictedSex</th>\n",
       "      <th>TrueSex</th>\n",
       "      <th>SexConfidence</th>\n",
       "    </tr>\n",
       "  </thead>\n",
       "  <tbody>\n",
       "    <tr>\n",
       "      <th>0</th>\n",
       "      <td>76.932083</td>\n",
       "      <td>82.0</td>\n",
       "      <td>5.067917</td>\n",
       "      <td>Male</td>\n",
       "      <td>Male</td>\n",
       "      <td>0.730987</td>\n",
       "    </tr>\n",
       "    <tr>\n",
       "      <th>1</th>\n",
       "      <td>60.810730</td>\n",
       "      <td>68.0</td>\n",
       "      <td>7.189270</td>\n",
       "      <td>Female</td>\n",
       "      <td>Female</td>\n",
       "      <td>0.500010</td>\n",
       "    </tr>\n",
       "    <tr>\n",
       "      <th>2</th>\n",
       "      <td>64.533279</td>\n",
       "      <td>70.0</td>\n",
       "      <td>5.466721</td>\n",
       "      <td>Female</td>\n",
       "      <td>Female</td>\n",
       "      <td>0.500124</td>\n",
       "    </tr>\n",
       "    <tr>\n",
       "      <th>3</th>\n",
       "      <td>66.547943</td>\n",
       "      <td>72.0</td>\n",
       "      <td>5.452057</td>\n",
       "      <td>Female</td>\n",
       "      <td>Female</td>\n",
       "      <td>0.501175</td>\n",
       "    </tr>\n",
       "    <tr>\n",
       "      <th>4</th>\n",
       "      <td>71.268768</td>\n",
       "      <td>75.0</td>\n",
       "      <td>3.731232</td>\n",
       "      <td>Male</td>\n",
       "      <td>Male</td>\n",
       "      <td>0.729667</td>\n",
       "    </tr>\n",
       "  </tbody>\n",
       "</table>\n",
       "</div>"
      ],
      "text/plain": [
       "   PredictedAge  TrueAge  AbsoluteError PredictedSex TrueSex  SexConfidence\n",
       "0     76.932083     82.0       5.067917         Male    Male       0.730987\n",
       "1     60.810730     68.0       7.189270       Female  Female       0.500010\n",
       "2     64.533279     70.0       5.466721       Female  Female       0.500124\n",
       "3     66.547943     72.0       5.452057       Female  Female       0.501175\n",
       "4     71.268768     75.0       3.731232         Male    Male       0.729667"
      ]
     },
     "execution_count": 45,
     "metadata": {},
     "output_type": "execute_result"
    }
   ],
   "source": [
    "# Predicting for entire validation set\n",
    "import pandas as pd\n",
    "\n",
    "model.eval()\n",
    "predictions = []\n",
    "\n",
    "all_true_ages = []\n",
    "all_pred_ages = []\n",
    "\n",
    "with torch.no_grad():\n",
    "    for images, age_bins, sex_labels, true_ages in val_loader:\n",
    "        images = images.to(device)\n",
    "        true_ages = true_ages.to(device)\n",
    "\n",
    "        # Run model\n",
    "        age_preds, sex_logits = model(images)\n",
    "\n",
    "        sex_probs = torch.sigmoid(sex_logits.view(-1))\n",
    "        sex_preds = (sex_probs > 0.65).long()\n",
    "\n",
    "        for i in range(images.size(0)):\n",
    "            pred_age = age_preds[i].item()\n",
    "            true_age = true_ages[i].item()\n",
    "            pred_sex = \"Male\" if sex_preds[i].item() == 1 else \"Female\"\n",
    "            true_sex = \"Male\" if sex_labels[i].item() == 1 else \"Female\"\n",
    "            sex_conf = float(sex_probs[i].item())\n",
    "\n",
    "            predictions.append({\n",
    "                \"PredictedAge\": pred_age,\n",
    "                \"TrueAge\": true_age,\n",
    "                \"AbsoluteError\": abs(pred_age - true_age),\n",
    "                \"PredictedSex\": pred_sex,\n",
    "                \"TrueSex\": true_sex,\n",
    "                \"SexConfidence\": sex_conf\n",
    "            })\n",
    "\n",
    "# Create dataframe\n",
    "results_df = pd.DataFrame(predictions)\n",
    "\n",
    "# Show sample\n",
    "results_df.head()"
   ]
  },
  {
   "cell_type": "code",
   "execution_count": 42,
   "id": "b9d29593",
   "metadata": {},
   "outputs": [
    {
     "name": "stdout",
     "output_type": "stream",
     "text": [
      "Threshold 0.10 → F1: 0.714, Accuracy: 0.555\n",
      "Threshold 0.15 → F1: 0.714, Accuracy: 0.555\n",
      "Threshold 0.20 → F1: 0.714, Accuracy: 0.555\n",
      "Threshold 0.25 → F1: 0.714, Accuracy: 0.555\n",
      "Threshold 0.30 → F1: 0.714, Accuracy: 0.555\n",
      "Threshold 0.35 → F1: 0.714, Accuracy: 0.555\n",
      "Threshold 0.40 → F1: 0.714, Accuracy: 0.555\n",
      "Threshold 0.45 → F1: 0.714, Accuracy: 0.555\n",
      "Threshold 0.50 → F1: 0.714, Accuracy: 0.555\n",
      "Threshold 0.55 → F1: 0.935, Accuracy: 0.924\n",
      "Threshold 0.60 → F1: 0.950, Accuracy: 0.943\n",
      "Threshold 0.65 → F1: 0.952, Accuracy: 0.948\n",
      "Threshold 0.70 → F1: 0.934, Accuracy: 0.930\n",
      "Threshold 0.75 → F1: 0.000, Accuracy: 0.445\n",
      "Threshold 0.80 → F1: 0.000, Accuracy: 0.445\n",
      "Threshold 0.85 → F1: 0.000, Accuracy: 0.445\n",
      "Best threshold: 0.65 (F1 = 0.952)\n"
     ]
    }
   ],
   "source": [
    "# Finding the optimal threshold for sex classification\n",
    "from sklearn.metrics import f1_score, accuracy_score\n",
    "\n",
    "thresholds = np.arange(0.1, 0.9, 0.05)\n",
    "best_threshold = 0.5\n",
    "best_f1 = 0\n",
    "\n",
    "for t in thresholds:\n",
    "    preds = (results_df[\"SexConfidence\"] > t).astype(int)\n",
    "    true = results_df[\"TrueSex\"].map({\"Male\": 1, \"Female\": 0})\n",
    "    f1 = f1_score(true, preds)\n",
    "    acc = accuracy_score(true, preds)\n",
    "    print(f\"Threshold {t:.2f} → F1: {f1:.3f}, Accuracy: {acc:.3f}\")\n",
    "    if f1 > best_f1:\n",
    "        best_f1 = f1\n",
    "        best_threshold = t\n",
    "\n",
    "print(f\"Best threshold: {best_threshold:.2f} (F1 = {best_f1:.3f})\")"
   ]
  },
  {
   "cell_type": "code",
   "execution_count": 46,
   "id": "b408c484",
   "metadata": {},
   "outputs": [
    {
     "data": {
      "text/plain": [
       "<sklearn.metrics._plot.confusion_matrix.ConfusionMatrixDisplay at 0x3c9d1a410>"
      ]
     },
     "execution_count": 46,
     "metadata": {},
     "output_type": "execute_result"
    },
    {
     "data": {
      "image/png": "[encoded data removed]",
      "text/plain": [
       "<Figure size 640x480 with 2 Axes>"
      ]
     },
     "metadata": {},
     "output_type": "display_data"
    }
   ],
   "source": [
    "# Plot confusion matrices for sex classification\n",
    "from sklearn.metrics import confusion_matrix, ConfusionMatrixDisplay\n",
    "\n",
    "# Convert predicted and true labels to arrays\n",
    "true_sex_labels = [1 if p[\"TrueSex\"] == \"Male\" else 0 for p in predictions]\n",
    "pred_sex_labels = [1 if p[\"PredictedSex\"] == \"Male\" else 0 for p in predictions]\n",
    "\n",
    "cm = confusion_matrix(true_sex_labels, pred_sex_labels)\n",
    "disp = ConfusionMatrixDisplay(confusion_matrix=cm, display_labels=[\"Female\", \"Male\"])\n",
    "disp.plot(cmap=\"Blues\")"
   ]
  },
  {
   "cell_type": "markdown",
   "id": "ed42640c",
   "metadata": {},
   "source": [
    "Computing cohort statistics for validation set; comparing distributions between ground truth and predictions"
   ]
  },
  {
   "cell_type": "code",
   "execution_count": null,
   "id": "f5f2a7b5",
   "metadata": {},
   "outputs": [
    {
     "name": "stdout",
     "output_type": "stream",
     "text": [
      "Ground Truth Sex Distribution (%):\n",
      " TrueSex\n",
      "Male      55.525036\n",
      "Female    44.474964\n",
      "Name: proportion, dtype: float64\n",
      "\n",
      "Predicted Sex Distribution (%):\n",
      " PredictedSex\n",
      "Male      54.863112\n",
      "Female    45.136888\n",
      "Name: proportion, dtype: float64\n"
     ]
    },
    {
     "data": {
      "image/png": "[encoded data removed]",
      "text/plain": [
       "<Figure size 640x480 with 1 Axes>"
      ]
     },
     "metadata": {},
     "output_type": "display_data"
    }
   ],
   "source": [
    "# Sex\n",
    "\n",
    "# Ground truth\n",
    "gt_sex_dist = results_df[\"TrueSex\"].value_counts(normalize=True) * 100\n",
    "# Predicted\n",
    "pred_sex_dist = results_df[\"PredictedSex\"].value_counts(normalize=True) * 100\n",
    "\n",
    "print(\"Ground Truth Sex Distribution (%):\\n\", gt_sex_dist)\n",
    "print(\"\\nPredicted Sex Distribution (%):\\n\", pred_sex_dist)\n",
    "\n",
    "# Categories\n",
    "labels = [\"Female\", \"Male\"]\n",
    "\n",
    "# Values\n",
    "gt_values = gt_sex_dist.loc[labels].values\n",
    "pred_values = pred_sex_dist.loc[labels].values\n",
    "\n",
    "# Bar width and positions\n",
    "x = np.arange(len(labels))  # label locations\n",
    "width = 0.35  # width of bars\n",
    "\n",
    "# Colors\n",
    "color_gt = \"#9AD0F7\"\n",
    "color_pred = \"#094E7F\"\n",
    "\n",
    "# Plot\n",
    "fig, ax = plt.subplots()\n",
    "bars1 = ax.bar(x - width/2, gt_values, width, label='Ground Truth', color=color_gt)\n",
    "bars2 = ax.bar(x + width/2, pred_values, width, label='Predicted', color=color_pred)\n",
    "\n",
    "ax.set_ylabel('Percentage')\n",
    "ax.set_title('Sex Distribution: Ground Truth vs Predicted')\n",
    "ax.set_xticks(x)\n",
    "ax.set_xticklabels(labels)\n",
    "ax.legend()\n",
    "\n",
    "# Add value labels on bars\n",
    "for bar in bars1 + bars2:\n",
    "    height = bar.get_height()\n",
    "    ax.annotate(f'{height:.1f}%',\n",
    "                xy=(bar.get_x() + bar.get_width() / 2, height),\n",
    "                xytext=(0, 3),  # offset\n",
    "                textcoords=\"offset points\",\n",
    "                ha='center', va='bottom')\n",
    "\n",
    "plt.tight_layout()\n",
    "plt.show()"
   ]
  },
  {
   "cell_type": "code",
   "execution_count": 56,
   "id": "a8b18f01",
   "metadata": {},
   "outputs": [
    {
     "name": "stdout",
     "output_type": "stream",
     "text": [
      "Ground Truth Age Distribution (%):\n",
      " True Age Bin\n",
      "(0, 10]       1.873199\n",
      "(10, 20]      5.034222\n",
      "(20, 30]     13.387068\n",
      "(30, 40]     14.265130\n",
      "(40, 50]     19.056196\n",
      "(50, 60]     24.117435\n",
      "(60, 70]     15.958213\n",
      "(70, 80]      5.583573\n",
      "(80, 90]      0.720461\n",
      "(90, 100]     0.004503\n",
      "Name: proportion, dtype: float64\n",
      "\n",
      "Predicted Age Distribution (%):\n",
      " Predicted Age Bin\n",
      "(0, 10]       1.310339\n",
      "(10, 20]      3.759906\n",
      "(20, 30]     10.036924\n",
      "(30, 40]     14.918048\n",
      "(40, 50]     18.831052\n",
      "(50, 60]     23.369957\n",
      "(60, 70]     20.825829\n",
      "(70, 80]      6.461635\n",
      "(80, 90]      0.486311\n",
      "(90, 100]     0.000000\n",
      "Name: proportion, dtype: float64\n"
     ]
    },
    {
     "data": {
      "image/png": "[encoded data removed]",
      "text/plain": [
       "<Figure size 1200x600 with 1 Axes>"
      ]
     },
     "metadata": {},
     "output_type": "display_data"
    }
   ],
   "source": [
    "# Age\n",
    "\n",
    "# Binning for age\n",
    "bins = np.arange(0, 101, 10)  # 0–10, 10–20, ..., 90–100\n",
    "results_df[\"True Age Bin\"] = pd.cut(results_df[\"TrueAge\"], bins=bins)\n",
    "results_df[\"Predicted Age Bin\"] = pd.cut(results_df[\"PredictedAge\"], bins=bins)\n",
    "\n",
    "# Compute percentage per bin\n",
    "true_age_dist = results_df[\"True Age Bin\"].value_counts(normalize=True).sort_index() * 100\n",
    "pred_age_dist = results_df[\"Predicted Age Bin\"].value_counts(normalize=True).sort_index() * 100\n",
    "\n",
    "print(\"Ground Truth Age Distribution (%):\\n\", true_age_dist)\n",
    "print(\"\\nPredicted Age Distribution (%):\\n\", pred_age_dist)\n",
    "\n",
    "# Labels\n",
    "labels = true_age_dist.index.astype(str)\n",
    "x = np.arange(len(labels))\n",
    "width = 0.35\n",
    "\n",
    "# Colors\n",
    "color_gt = \"#9AD0F7\"\n",
    "color_pred = \"#094E7F\"\n",
    "\n",
    "# Plot\n",
    "fig, ax = plt.subplots(figsize=(12, 6))\n",
    "bars1 = ax.bar(x - width/2, true_age_dist.values, width, label='Ground Truth', color=color_gt)\n",
    "bars2 = ax.bar(x + width/2, pred_age_dist.values, width, label='Predicted', color=color_pred)\n",
    "\n",
    "ax.set_ylabel(\"Percentage\")\n",
    "ax.set_title(\"Age Distribution: Ground Truth vs Predicted\")\n",
    "ax.set_xticks(x)\n",
    "ax.set_xticklabels(labels, rotation=45)\n",
    "ax.legend()\n",
    "\n",
    "# Add value labels\n",
    "for bar in bars1 + bars2:\n",
    "    height = bar.get_height()\n",
    "    ax.annotate(f'{height:.1f}%',\n",
    "                xy=(bar.get_x() + bar.get_width() / 2, height),\n",
    "                xytext=(0, 3),\n",
    "                textcoords=\"offset points\",\n",
    "                ha='center', va='bottom')\n",
    "\n",
    "plt.tight_layout()\n",
    "plt.show()"
   ]
  },
  {
   "cell_type": "markdown",
   "id": "0658df3d",
   "metadata": {},
   "source": [
    "## Statistical tests\n",
    "\n",
    "Comparing statistical differences between predicted vs. true distributions\n",
    "\n",
    "- Chi-square - sex (categorical)\n",
    "- KS test and Wasserstein distance - age (ordinal)\n",
    "- t-test - age mean/median"
   ]
  },
  {
   "cell_type": "code",
   "execution_count": 57,
   "id": "85182163",
   "metadata": {},
   "outputs": [
    {
     "name": "stdout",
     "output_type": "stream",
     "text": [
      "Chi-square p-value (sex): 0.0000\n"
     ]
    }
   ],
   "source": [
    "# Chi-square for sex distribution\n",
    "\n",
    "from scipy.stats import chi2_contingency\n",
    "\n",
    "# Contingency table: rows = [True, Predicted], cols = [Female, Male]\n",
    "sex_counts = pd.crosstab(index=results_df[\"TrueSex\"], columns=results_df[\"PredictedSex\"])\n",
    "chi2, p, dof, expected = chi2_contingency(sex_counts)\n",
    "\n",
    "print(f\"Chi-square p-value (sex): {p:.4f}\")"
   ]
  },
  {
   "cell_type": "code",
   "execution_count": 59,
   "id": "975a0256",
   "metadata": {},
   "outputs": [
    {
     "name": "stdout",
     "output_type": "stream",
     "text": [
      "KS test p-value (age): 0.0000\n"
     ]
    }
   ],
   "source": [
    "# KS test for age\n",
    "\n",
    "from scipy.stats import ks_2samp\n",
    "\n",
    "ks_stat, p_val = ks_2samp(results_df[\"TrueAge\"], results_df[\"PredictedAge\"])\n",
    "print(f\"KS test p-value (age): {p_val:.4f}\")"
   ]
  },
  {
   "cell_type": "code",
   "execution_count": 60,
   "id": "0c37e804",
   "metadata": {},
   "outputs": [
    {
     "name": "stdout",
     "output_type": "stream",
     "text": [
      "Wasserstein distance (age): 1.93\n"
     ]
    }
   ],
   "source": [
    "# Wasserstein distance for age\n",
    "\n",
    "from scipy.stats import wasserstein_distance\n",
    "\n",
    "wd = wasserstein_distance(results_df[\"TrueAge\"], results_df[\"PredictedAge\"])\n",
    "print(f\"Wasserstein distance (age): {wd:.2f}\")"
   ]
  },
  {
   "cell_type": "code",
   "execution_count": 61,
   "id": "8ce309ea",
   "metadata": {},
   "outputs": [
    {
     "name": "stdout",
     "output_type": "stream",
     "text": [
      "t-test p-value: 0.0000\n"
     ]
    }
   ],
   "source": [
    "# t-test for age mean/median\n",
    "\n",
    "from scipy.stats import ttest_ind\n",
    "\n",
    "t_stat, t_p = ttest_ind(results_df[\"TrueAge\"], results_df[\"PredictedAge\"])\n",
    "print(f\"t-test p-value: {t_p:.4f}\")"
   ]
  },
  {
   "cell_type": "markdown",
   "id": "6813ec51",
   "metadata": {},
   "source": [
    "## Privacy tests\n",
    "- JS divergence\n",
    "- KL divergence"
   ]
  },
  {
   "cell_type": "code",
   "execution_count": 64,
   "id": "b2087df6",
   "metadata": {},
   "outputs": [
    {
     "name": "stdout",
     "output_type": "stream",
     "text": [
      "Age JS divergence: 0.0039\n"
     ]
    }
   ],
   "source": [
    "from scipy.stats import entropy\n",
    "import numpy as np\n",
    "\n",
    "p = true_age_dist.values / 100\n",
    "q = pred_age_dist.values / 100\n",
    "js = 0.5 * entropy(p, (p+q)/2) + 0.5 * entropy(q, (p+q)/2)\n",
    "print(f\"Age JS divergence: {js:.4f}\")"
   ]
  },
  {
   "cell_type": "code",
   "execution_count": 65,
   "id": "184ca1b0",
   "metadata": {},
   "outputs": [
    {
     "name": "stdout",
     "output_type": "stream",
     "text": [
      "Age KL divergence (P || Q): 0.0160\n"
     ]
    }
   ],
   "source": [
    "from scipy.special import rel_entr  # for KL\n",
    "import numpy as np\n",
    "\n",
    "p = true_age_dist.values / true_age_dist.values.sum()     # Ground truth distribution\n",
    "q = pred_age_dist.values / pred_age_dist.values.sum()     # Predicted distribution\n",
    "\n",
    "# Replace zeros to avoid log(0); add small epsilon\n",
    "epsilon = 1e-8\n",
    "p = np.clip(p, epsilon, 1)\n",
    "q = np.clip(q, epsilon, 1)\n",
    "\n",
    "# KL Divergence: KL(P || Q)\n",
    "kld = np.sum(rel_entr(p, q))\n",
    "print(f\"Age KL divergence (P || Q): {kld:.4f}\")"
   ]
  },
  {
   "cell_type": "code",
   "execution_count": 66,
   "id": "fe191e0c",
   "metadata": {},
   "outputs": [
    {
     "name": "stdout",
     "output_type": "stream",
     "text": [
      "Sex JS divergence: 0.0000\n"
     ]
    }
   ],
   "source": [
    "true_sex_dist = results_df[\"TrueSex\"].value_counts(normalize=True).sort_index()\n",
    "pred_sex_dist = results_df[\"PredictedSex\"].value_counts(normalize=True).sort_index()\n",
    "\n",
    "true_sex_dist = true_sex_dist.reindex([\"Female\", \"Male\"], fill_value=0)\n",
    "pred_sex_dist = pred_sex_dist.reindex([\"Female\", \"Male\"], fill_value=0)\n",
    "\n",
    "p = true_sex_dist.values / 100\n",
    "q = pred_sex_dist.values / 100\n",
    "js = 0.5 * entropy(p, (p+q)/2) + 0.5 * entropy(q, (p+q)/2)\n",
    "print(f\"Sex JS divergence: {js:.4f}\")"
   ]
  },
  {
   "cell_type": "code",
   "execution_count": 67,
   "id": "812ae6a0",
   "metadata": {},
   "outputs": [
    {
     "name": "stdout",
     "output_type": "stream",
     "text": [
      "Sex KL divergence (P || Q): 0.0000\n"
     ]
    }
   ],
   "source": [
    "p = true_sex_dist.values / true_sex_dist.values.sum()     # Ground truth distribution\n",
    "q = true_sex_dist.values / true_sex_dist.values.sum()     # Predicted distribution\n",
    "\n",
    "# Replace zeros to avoid log(0); add small epsilon\n",
    "epsilon = 1e-8\n",
    "p = np.clip(p, epsilon, 1)\n",
    "q = np.clip(q, epsilon, 1)\n",
    "\n",
    "# KL Divergence: KL(P || Q)\n",
    "kld = np.sum(rel_entr(p, q))\n",
    "print(f\"Sex KL divergence (P || Q): {kld:.4f}\")"
   ]
  },
  {
   "cell_type": "code",
   "execution_count": null,
   "id": "4c00cd8f",
   "metadata": {},
   "outputs": [],
   "source": []
  },
  {
   "cell_type": "code",
   "execution_count": null,
   "id": "796b1b99",
   "metadata": {},
   "outputs": [],
   "source": []
  },
  {
   "cell_type": "code",
   "execution_count": null,
   "id": "766839d2",
   "metadata": {},
   "outputs": [],
   "source": []
  },
  {
   "cell_type": "code",
   "execution_count": 15,
   "id": "f8805ca2",
   "metadata": {},
   "outputs": [
    {
     "name": "stderr",
     "output_type": "stream",
     "text": [
      "/opt/anaconda3/envs/reid-attack/lib/python3.11/site-packages/torchvision/models/_utils.py:208: UserWarning: The parameter 'pretrained' is deprecated since 0.13 and may be removed in the future, please use 'weights' instead.\n",
      "  warnings.warn(\n",
      "/opt/anaconda3/envs/reid-attack/lib/python3.11/site-packages/torchvision/models/_utils.py:223: UserWarning: Arguments other than a weight enum or `None` for 'weights' are deprecated since 0.13 and may be removed in the future. The current behavior is equivalent to passing `weights=DenseNet121_Weights.IMAGENET1K_V1`. You can also use `weights=DenseNet121_Weights.DEFAULT` to get the most up-to-date weights.\n",
      "  warnings.warn(msg)\n",
      "/var/folders/3w/wbtzr_qn1vsd0q77hb8f34tr0000gn/T/ipykernel_93166/1461558358.py:5: FutureWarning: You are using `torch.load` with `weights_only=False` (the current default value), which uses the default pickle module implicitly. It is possible to construct malicious pickle data which will execute arbitrary code during unpickling (See https://github.com/pytorch/pytorch/blob/main/SECURITY.md#untrusted-models for more details). In a future release, the default value for `weights_only` will be flipped to `True`. This limits the functions that could be executed during unpickling. Arbitrary objects will no longer be allowed to be loaded via this mode unless they are explicitly allowlisted by the user via `torch.serialization.add_safe_globals`. We recommend you start setting `weights_only=True` for any use case where you don't have full control of the loaded file. Please open an issue on GitHub for any issues related to this experimental feature.\n",
      "  model.load_state_dict(torch.load('demographic_model.pt'))\n"
     ]
    },
    {
     "data": {
      "text/plain": [
       "<All keys matched successfully>"
      ]
     },
     "execution_count": 15,
     "metadata": {},
     "output_type": "execute_result"
    }
   ],
   "source": [
    "import torch\n",
    "device = torch.device('mps' if torch.backends.mps.is_available() else \"cpu\")\n",
    "\n",
    "model = DemographicModel().eval().to(device)\n",
    "model.load_state_dict(torch.load('demographic_model.pt'))"
   ]
  },
  {
   "cell_type": "code",
   "execution_count": 16,
   "id": "2edfa45c",
   "metadata": {},
   "outputs": [
    {
     "data": {
      "text/html": [
       "<div>\n",
       "<style scoped>\n",
       "    .dataframe tbody tr th:only-of-type {\n",
       "        vertical-align: middle;\n",
       "    }\n",
       "\n",
       "    .dataframe tbody tr th {\n",
       "        vertical-align: top;\n",
       "    }\n",
       "\n",
       "    .dataframe thead th {\n",
       "        text-align: right;\n",
       "    }\n",
       "</style>\n",
       "<table border=\"1\" class=\"dataframe\">\n",
       "  <thead>\n",
       "    <tr style=\"text-align: right;\">\n",
       "      <th></th>\n",
       "      <th>PredictedAge</th>\n",
       "      <th>TrueAge</th>\n",
       "      <th>AbsoluteError</th>\n",
       "      <th>PredictedSex</th>\n",
       "      <th>TrueSex</th>\n",
       "      <th>SexConfidence</th>\n",
       "    </tr>\n",
       "  </thead>\n",
       "  <tbody>\n",
       "    <tr>\n",
       "      <th>0</th>\n",
       "      <td>79.250244</td>\n",
       "      <td>82.0</td>\n",
       "      <td>2.749756</td>\n",
       "      <td>Male</td>\n",
       "      <td>Male</td>\n",
       "      <td>0.730732</td>\n",
       "    </tr>\n",
       "    <tr>\n",
       "      <th>1</th>\n",
       "      <td>57.575317</td>\n",
       "      <td>68.0</td>\n",
       "      <td>10.424683</td>\n",
       "      <td>Female</td>\n",
       "      <td>Female</td>\n",
       "      <td>0.500044</td>\n",
       "    </tr>\n",
       "    <tr>\n",
       "      <th>2</th>\n",
       "      <td>64.151466</td>\n",
       "      <td>70.0</td>\n",
       "      <td>5.848534</td>\n",
       "      <td>Female</td>\n",
       "      <td>Female</td>\n",
       "      <td>0.500408</td>\n",
       "    </tr>\n",
       "    <tr>\n",
       "      <th>3</th>\n",
       "      <td>64.184273</td>\n",
       "      <td>72.0</td>\n",
       "      <td>7.815727</td>\n",
       "      <td>Female</td>\n",
       "      <td>Female</td>\n",
       "      <td>0.504061</td>\n",
       "    </tr>\n",
       "    <tr>\n",
       "      <th>4</th>\n",
       "      <td>67.803452</td>\n",
       "      <td>75.0</td>\n",
       "      <td>7.196548</td>\n",
       "      <td>Male</td>\n",
       "      <td>Male</td>\n",
       "      <td>0.720032</td>\n",
       "    </tr>\n",
       "  </tbody>\n",
       "</table>\n",
       "</div>"
      ],
      "text/plain": [
       "   PredictedAge  TrueAge  AbsoluteError PredictedSex TrueSex  SexConfidence\n",
       "0     79.250244     82.0       2.749756         Male    Male       0.730732\n",
       "1     57.575317     68.0      10.424683       Female  Female       0.500044\n",
       "2     64.151466     70.0       5.848534       Female  Female       0.500408\n",
       "3     64.184273     72.0       7.815727       Female  Female       0.504061\n",
       "4     67.803452     75.0       7.196548         Male    Male       0.720032"
      ]
     },
     "execution_count": 16,
     "metadata": {},
     "output_type": "execute_result"
    }
   ],
   "source": [
    "# Predicting for entire validation set\n",
    "import pandas as pd\n",
    "\n",
    "model.eval()\n",
    "predictions = []\n",
    "\n",
    "all_true_ages = []\n",
    "all_pred_ages = []\n",
    "\n",
    "with torch.no_grad():\n",
    "    for images, age_bins, sex_labels, true_ages in val_loader:\n",
    "        images = images.to(device)\n",
    "        true_ages = true_ages.to(device)\n",
    "\n",
    "        # Run model\n",
    "        age_preds, sex_logits = model(images)\n",
    "\n",
    "        sex_probs = torch.sigmoid(sex_logits.view(-1))\n",
    "        sex_preds = (sex_probs > 0.65).long()\n",
    "\n",
    "        for i in range(images.size(0)):\n",
    "            pred_age = age_preds[i].item()\n",
    "            true_age = true_ages[i].item()\n",
    "            pred_sex = \"Male\" if sex_preds[i].item() == 1 else \"Female\"\n",
    "            true_sex = \"Male\" if sex_labels[i].item() == 1 else \"Female\"\n",
    "            sex_conf = float(sex_probs[i].item())\n",
    "\n",
    "            predictions.append({\n",
    "                \"PredictedAge\": pred_age,\n",
    "                \"TrueAge\": true_age,\n",
    "                \"AbsoluteError\": abs(pred_age - true_age),\n",
    "                \"PredictedSex\": pred_sex,\n",
    "                \"TrueSex\": true_sex,\n",
    "                \"SexConfidence\": sex_conf\n",
    "            })\n",
    "\n",
    "# Create dataframe\n",
    "results_df = pd.DataFrame(predictions)\n",
    "\n",
    "# Show sample\n",
    "results_df.head()"
   ]
  },
  {
   "cell_type": "code",
   "execution_count": 18,
   "id": "a1ba7671",
   "metadata": {},
   "outputs": [
    {
     "data": {
      "image/png": "[encoded data removed]",
      "text/plain": [
       "<Figure size 640x480 with 2 Axes>"
      ]
     },
     "metadata": {},
     "output_type": "display_data"
    }
   ],
   "source": [
    "# Plot confusion matrices for sex classification\n",
    "from sklearn.metrics import confusion_matrix, ConfusionMatrixDisplay\n",
    "import matplotlib.pyplot as plt\n",
    "\n",
    "# Convert predicted and true labels to arrays\n",
    "true_sex_labels = [1 if p[\"TrueSex\"] == \"Male\" else 0 for p in predictions]\n",
    "pred_sex_labels = [1 if p[\"PredictedSex\"] == \"Male\" else 0 for p in predictions]\n",
    "\n",
    "cm = confusion_matrix(true_sex_labels, pred_sex_labels)\n",
    "disp = ConfusionMatrixDisplay(confusion_matrix=cm, display_labels=[\"Female\", \"Male\"])\n",
    "ax = disp.plot(cmap=\"Blues\")\n",
    "\n",
    "ax.ax_.set_facecolor('none')\n",
    "ax.ax_.set_title(\"Sex Classification Confusion Matrix\")\n",
    "\n",
    "plt.savefig(\"output/confusion_matrix.png\", transparent=True, dpi=300)\n",
    "plt.show()"
   ]
  },
  {
   "cell_type": "code",
   "execution_count": 19,
   "id": "44ea4c3e",
   "metadata": {},
   "outputs": [
    {
     "name": "stdout",
     "output_type": "stream",
     "text": [
      "Ground Truth Sex Distribution (%):\n",
      " TrueSex\n",
      "Male      55.525036\n",
      "Female    44.474964\n",
      "Name: proportion, dtype: float64\n",
      "\n",
      "Predicted Sex Distribution (%):\n",
      " PredictedSex\n",
      "Male      56.610231\n",
      "Female    43.389769\n",
      "Name: proportion, dtype: float64\n"
     ]
    },
    {
     "data": {
      "image/png": "[encoded data removed]",
      "text/plain": [
       "<Figure size 640x480 with 1 Axes>"
      ]
     },
     "metadata": {},
     "output_type": "display_data"
    }
   ],
   "source": [
    "# Sex\n",
    "\n",
    "# Ground truth\n",
    "gt_sex_dist = results_df[\"TrueSex\"].value_counts(normalize=True) * 100\n",
    "# Predicted\n",
    "pred_sex_dist = results_df[\"PredictedSex\"].value_counts(normalize=True) * 100\n",
    "\n",
    "print(\"Ground Truth Sex Distribution (%):\\n\", gt_sex_dist)\n",
    "print(\"\\nPredicted Sex Distribution (%):\\n\", pred_sex_dist)\n",
    "\n",
    "# Categories\n",
    "labels = [\"Female\", \"Male\"]\n",
    "\n",
    "# Values\n",
    "gt_values = gt_sex_dist.loc[labels].values\n",
    "pred_values = pred_sex_dist.loc[labels].values\n",
    "\n",
    "# Bar width and positions\n",
    "x = np.arange(len(labels))  # label locations\n",
    "width = 0.35  # width of bars\n",
    "\n",
    "# Colors\n",
    "color_gt = \"#9AD0F7\"\n",
    "color_pred = \"#094E7F\"\n",
    "\n",
    "# Plot\n",
    "fig, ax = plt.subplots()\n",
    "bars1 = ax.bar(x - width/2, gt_values, width, label='Ground Truth', color=color_gt)\n",
    "bars2 = ax.bar(x + width/2, pred_values, width, label='Predicted', color=color_pred)\n",
    "\n",
    "ax.set_ylabel('Percentage')\n",
    "ax.set_title('Sex Distribution: Ground Truth vs Predicted')\n",
    "ax.set_xticks(x)\n",
    "ax.set_xticklabels(labels)\n",
    "ax.legend()\n",
    "\n",
    "# Add value labels on bars\n",
    "for bar in bars1 + bars2:\n",
    "    height = bar.get_height()\n",
    "    ax.annotate(f'{height:.1f}%',\n",
    "                xy=(bar.get_x() + bar.get_width() / 2, height),\n",
    "                xytext=(0, 3),  # offset\n",
    "                textcoords=\"offset points\",\n",
    "                ha='center', va='bottom')\n",
    "\n",
    "plt.tight_layout()\n",
    "plt.savefig('output/cohort_sex2.png', transparent=True, dpi=300)\n",
    "plt.show()"
   ]
  },
  {
   "cell_type": "code",
   "execution_count": 20,
   "id": "5e019925",
   "metadata": {},
   "outputs": [
    {
     "name": "stdout",
     "output_type": "stream",
     "text": [
      "Ground Truth Age Distribution (%):\n",
      " True Age Bin\n",
      "(0, 10]       1.873199\n",
      "(10, 20]      5.034222\n",
      "(20, 30]     13.387068\n",
      "(30, 40]     14.265130\n",
      "(40, 50]     19.056196\n",
      "(50, 60]     24.117435\n",
      "(60, 70]     15.958213\n",
      "(70, 80]      5.583573\n",
      "(80, 90]      0.720461\n",
      "(90, 100]     0.004503\n",
      "Name: proportion, dtype: float64\n",
      "\n",
      "Predicted Age Distribution (%):\n",
      " Predicted Age Bin\n",
      "(0, 10]       0.486311\n",
      "(10, 20]      3.363653\n",
      "(20, 30]     10.770893\n",
      "(30, 40]     17.912464\n",
      "(40, 50]     21.676873\n",
      "(50, 60]     24.211996\n",
      "(60, 70]     16.993876\n",
      "(70, 80]      4.327269\n",
      "(80, 90]      0.256664\n",
      "(90, 100]     0.000000\n",
      "Name: proportion, dtype: float64\n"
     ]
    },
    {
     "data": {
      "image/png": "[encoded data removed]",
      "text/plain": [
       "<Figure size 1200x600 with 1 Axes>"
      ]
     },
     "metadata": {},
     "output_type": "display_data"
    }
   ],
   "source": [
    "# Age\n",
    "\n",
    "# Binning for age\n",
    "bins = np.arange(0, 101, 10)  # 0–10, 10–20, ..., 90–100\n",
    "results_df[\"True Age Bin\"] = pd.cut(results_df[\"TrueAge\"], bins=bins)\n",
    "results_df[\"Predicted Age Bin\"] = pd.cut(results_df[\"PredictedAge\"], bins=bins)\n",
    "\n",
    "# Compute percentage per bin\n",
    "true_age_dist = results_df[\"True Age Bin\"].value_counts(normalize=True).sort_index() * 100\n",
    "pred_age_dist = results_df[\"Predicted Age Bin\"].value_counts(normalize=True).sort_index() * 100\n",
    "\n",
    "print(\"Ground Truth Age Distribution (%):\\n\", true_age_dist)\n",
    "print(\"\\nPredicted Age Distribution (%):\\n\", pred_age_dist)\n",
    "\n",
    "# Labels\n",
    "labels = true_age_dist.index.astype(str)\n",
    "x = np.arange(len(labels))\n",
    "width = 0.35\n",
    "\n",
    "# Colors\n",
    "color_gt = \"#9AD0F7\"\n",
    "color_pred = \"#094E7F\"\n",
    "\n",
    "# Plot\n",
    "fig, ax = plt.subplots(figsize=(12, 6))\n",
    "bars1 = ax.bar(x - width/2, true_age_dist.values, width, label='Ground Truth', color=color_gt)\n",
    "bars2 = ax.bar(x + width/2, pred_age_dist.values, width, label='Predicted', color=color_pred)\n",
    "\n",
    "ax.set_ylabel(\"Percentage\")\n",
    "ax.set_title(\"Age Distribution: Ground Truth vs Predicted\")\n",
    "ax.set_xticks(x)\n",
    "ax.set_xticklabels(labels, rotation=45)\n",
    "ax.legend()\n",
    "\n",
    "# Add value labels\n",
    "for bar in bars1 + bars2:\n",
    "    height = bar.get_height()\n",
    "    ax.annotate(f'{height:.1f}%',\n",
    "                xy=(bar.get_x() + bar.get_width() / 2, height),\n",
    "                xytext=(0, 3),\n",
    "                textcoords=\"offset points\",\n",
    "                ha='center', va='bottom')\n",
    "\n",
    "plt.tight_layout()\n",
    "plt.savefig('output/cohort_age2.png', transparent=True, dpi=300)\n",
    "plt.show()"
   ]
  },
  {
   "cell_type": "code",
   "execution_count": null,
   "id": "e18ffbb2",
   "metadata": {},
   "outputs": [],
   "source": []
  }
 ],
 "metadata": {
  "kernelspec": {
   "display_name": "reid-attack",
   "language": "python",
   "name": "python3"
  },
  "language_info": {
   "codemirror_mode": {
    "name": "ipython",
    "version": 3
   },
   "file_extension": ".py",
   "mimetype": "text/x-python",
   "name": "python",
   "nbconvert_exporter": "python",
   "pygments_lexer": "ipython3",
   "version": "3.11.12"
  }
 },
 "nbformat": 4,
 "nbformat_minor": 5
}
