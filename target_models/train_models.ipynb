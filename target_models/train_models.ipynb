{
 "cells": [
  {
   "cell_type": "markdown",
   "id": "7547819c",
   "metadata": {},
   "source": [
    "# Train target models"
   ]
  },
  {
   "cell_type": "markdown",
   "id": "ffcef802",
   "metadata": {},
   "source": [
    "**Models**\n",
    "\n",
    "Dataset: CheXpert PNG\n",
    "\n",
    "- 2D CNN: `torchvision` ResNet18\n",
    "- Overfit 2D CNN: `torchvision` ResNet18\n",
    "- 2D ViT: `torchvision` vit_b_16\n",
    "- Overfit 2D ViT: `torchvision` vit_b_16\n",
    "- Regression CNN: `torchvision` ResNet18 modified for regression\n",
    "\n",
    "Binary classification task: Cardiomegaly vs. No Finding\n",
    "\n",
    "Regression task: age"
   ]
  },
  {
   "cell_type": "markdown",
   "id": "998cd07d",
   "metadata": {},
   "source": [
    "## Imports and setup"
   ]
  },
  {
   "cell_type": "code",
   "execution_count": 1,
   "id": "ac805b31",
   "metadata": {},
   "outputs": [
    {
     "name": "stderr",
     "output_type": "stream",
     "text": [
      "/opt/anaconda3/envs/reid-attack/lib/python3.11/site-packages/torchvision/io/image.py:14: UserWarning: Failed to load image Python extension: 'dlopen(/opt/anaconda3/envs/reid-attack/lib/python3.11/site-packages/torchvision/image.so, 0x0006): Library not loaded: @rpath/libjpeg.9.dylib\n",
      "  Referenced from: <EB3FF92A-5EB1-3EE8-AF8B-5923C1265422> /opt/anaconda3/envs/reid-attack/lib/python3.11/site-packages/torchvision/image.so\n",
      "  Reason: tried: '/opt/anaconda3/envs/reid-attack/lib/python3.11/site-packages/torchvision/../../../libjpeg.9.dylib' (no such file), '/opt/anaconda3/envs/reid-attack/lib/python3.11/site-packages/torchvision/../../../libjpeg.9.dylib' (no such file), '/opt/anaconda3/envs/reid-attack/lib/python3.11/lib-dynload/../../libjpeg.9.dylib' (no such file), '/opt/anaconda3/envs/reid-attack/bin/../lib/libjpeg.9.dylib' (no such file)'If you don't plan on using image functionality from `torchvision.io`, you can ignore this warning. Otherwise, there might be something wrong with your environment. Did you have `libjpeg` or `libpng` installed before building `torchvision` from source?\n",
      "  warn(\n"
     ]
    }
   ],
   "source": [
    "import torch\n",
    "import torch.nn as nn\n",
    "import torch.optim as optim\n",
    "from torch.utils.data import DataLoader, Dataset\n",
    "from torchvision import transforms\n",
    "from PIL import Image\n",
    "\n",
    "import numpy as np\n",
    "import matplotlib.pyplot as plt\n",
    "import pandas as pd\n",
    "import random\n",
    "import os\n",
    "import json"
   ]
  },
  {
   "cell_type": "code",
   "execution_count": 2,
   "id": "0f808c5d",
   "metadata": {},
   "outputs": [],
   "source": [
    "# Set seeds\n",
    "\n",
    "def set_seed(seed=42):\n",
    "    torch.manual_seed(seed)\n",
    "    np.random.seed(seed)\n",
    "    random.seed(seed)\n",
    "    torch.backends.cudnn.deterministic = True\n",
    "    torch.backends.cudnn.benchmark = False\n",
    "\n",
    "set_seed()"
   ]
  },
  {
   "cell_type": "code",
   "execution_count": 3,
   "id": "081ffbc0",
   "metadata": {},
   "outputs": [],
   "source": [
    "# Defining two devices: CPU for transformers, MPS for all others\n",
    "\n",
    "mps_device = torch.device( \"mps\" if torch.backends.mps.is_available() else \"cpu\")\n",
    "cpu_device = torch.device(\"cpu\")"
   ]
  },
  {
   "cell_type": "markdown",
   "id": "71ba148d",
   "metadata": {},
   "source": [
    "## Load data"
   ]
  },
  {
   "cell_type": "code",
   "execution_count": 4,
   "id": "bbcd722d",
   "metadata": {},
   "outputs": [
    {
     "data": {
      "text/html": [
       "<div>\n",
       "<style scoped>\n",
       "    .dataframe tbody tr th:only-of-type {\n",
       "        vertical-align: middle;\n",
       "    }\n",
       "\n",
       "    .dataframe tbody tr th {\n",
       "        vertical-align: top;\n",
       "    }\n",
       "\n",
       "    .dataframe thead th {\n",
       "        text-align: right;\n",
       "    }\n",
       "</style>\n",
       "<table border=\"1\" class=\"dataframe\">\n",
       "  <thead>\n",
       "    <tr style=\"text-align: right;\">\n",
       "      <th></th>\n",
       "      <th>Path</th>\n",
       "      <th>Sex</th>\n",
       "      <th>Age</th>\n",
       "      <th>Frontal/Lateral</th>\n",
       "      <th>AP/PA</th>\n",
       "      <th>No Finding</th>\n",
       "      <th>Enlarged Cardiomediastinum</th>\n",
       "      <th>Cardiomegaly</th>\n",
       "      <th>Lung Opacity</th>\n",
       "      <th>Lung Lesion</th>\n",
       "      <th>...</th>\n",
       "      <th>Consolidation</th>\n",
       "      <th>Pneumonia</th>\n",
       "      <th>Atelectasis</th>\n",
       "      <th>Pneumothorax</th>\n",
       "      <th>Pleural Effusion</th>\n",
       "      <th>Pleural Other</th>\n",
       "      <th>Fracture</th>\n",
       "      <th>Support Devices</th>\n",
       "      <th>label</th>\n",
       "      <th>PatientID</th>\n",
       "    </tr>\n",
       "  </thead>\n",
       "  <tbody>\n",
       "    <tr>\n",
       "      <th>0</th>\n",
       "      <td>train/patient00001/study1/view1_frontal.jpg</td>\n",
       "      <td>Female</td>\n",
       "      <td>68</td>\n",
       "      <td>Frontal</td>\n",
       "      <td>AP</td>\n",
       "      <td>1</td>\n",
       "      <td>NaN</td>\n",
       "      <td>0</td>\n",
       "      <td>NaN</td>\n",
       "      <td>NaN</td>\n",
       "      <td>...</td>\n",
       "      <td>NaN</td>\n",
       "      <td>NaN</td>\n",
       "      <td>NaN</td>\n",
       "      <td>0.0</td>\n",
       "      <td>NaN</td>\n",
       "      <td>NaN</td>\n",
       "      <td>NaN</td>\n",
       "      <td>1.0</td>\n",
       "      <td>1</td>\n",
       "      <td>patient00001</td>\n",
       "    </tr>\n",
       "    <tr>\n",
       "      <th>5</th>\n",
       "      <td>train/patient00004/study1/view1_frontal.jpg</td>\n",
       "      <td>Female</td>\n",
       "      <td>20</td>\n",
       "      <td>Frontal</td>\n",
       "      <td>PA</td>\n",
       "      <td>1</td>\n",
       "      <td>0.0</td>\n",
       "      <td>0</td>\n",
       "      <td>NaN</td>\n",
       "      <td>NaN</td>\n",
       "      <td>...</td>\n",
       "      <td>0.0</td>\n",
       "      <td>NaN</td>\n",
       "      <td>NaN</td>\n",
       "      <td>NaN</td>\n",
       "      <td>0.0</td>\n",
       "      <td>NaN</td>\n",
       "      <td>NaN</td>\n",
       "      <td>NaN</td>\n",
       "      <td>1</td>\n",
       "      <td>patient00004</td>\n",
       "    </tr>\n",
       "    <tr>\n",
       "      <th>7</th>\n",
       "      <td>train/patient00005/study1/view1_frontal.jpg</td>\n",
       "      <td>Male</td>\n",
       "      <td>33</td>\n",
       "      <td>Frontal</td>\n",
       "      <td>PA</td>\n",
       "      <td>1</td>\n",
       "      <td>NaN</td>\n",
       "      <td>0</td>\n",
       "      <td>NaN</td>\n",
       "      <td>NaN</td>\n",
       "      <td>...</td>\n",
       "      <td>0.0</td>\n",
       "      <td>NaN</td>\n",
       "      <td>NaN</td>\n",
       "      <td>NaN</td>\n",
       "      <td>0.0</td>\n",
       "      <td>NaN</td>\n",
       "      <td>NaN</td>\n",
       "      <td>1.0</td>\n",
       "      <td>1</td>\n",
       "      <td>patient00005</td>\n",
       "    </tr>\n",
       "    <tr>\n",
       "      <th>11</th>\n",
       "      <td>train/patient00006/study1/view1_frontal.jpg</td>\n",
       "      <td>Female</td>\n",
       "      <td>42</td>\n",
       "      <td>Frontal</td>\n",
       "      <td>AP</td>\n",
       "      <td>1</td>\n",
       "      <td>0.0</td>\n",
       "      <td>0</td>\n",
       "      <td>NaN</td>\n",
       "      <td>NaN</td>\n",
       "      <td>...</td>\n",
       "      <td>NaN</td>\n",
       "      <td>NaN</td>\n",
       "      <td>NaN</td>\n",
       "      <td>NaN</td>\n",
       "      <td>0.0</td>\n",
       "      <td>NaN</td>\n",
       "      <td>NaN</td>\n",
       "      <td>NaN</td>\n",
       "      <td>1</td>\n",
       "      <td>patient00006</td>\n",
       "    </tr>\n",
       "    <tr>\n",
       "      <th>12</th>\n",
       "      <td>train/patient00007/study1/view1_frontal.jpg</td>\n",
       "      <td>Male</td>\n",
       "      <td>69</td>\n",
       "      <td>Frontal</td>\n",
       "      <td>AP</td>\n",
       "      <td>0</td>\n",
       "      <td>NaN</td>\n",
       "      <td>1</td>\n",
       "      <td>1.0</td>\n",
       "      <td>NaN</td>\n",
       "      <td>...</td>\n",
       "      <td>NaN</td>\n",
       "      <td>NaN</td>\n",
       "      <td>1.0</td>\n",
       "      <td>1.0</td>\n",
       "      <td>0.0</td>\n",
       "      <td>NaN</td>\n",
       "      <td>0.0</td>\n",
       "      <td>1.0</td>\n",
       "      <td>0</td>\n",
       "      <td>patient00007</td>\n",
       "    </tr>\n",
       "  </tbody>\n",
       "</table>\n",
       "<p>5 rows × 21 columns</p>\n",
       "</div>"
      ],
      "text/plain": [
       "                                           Path     Sex  Age Frontal/Lateral  \\\n",
       "0   train/patient00001/study1/view1_frontal.jpg  Female   68         Frontal   \n",
       "5   train/patient00004/study1/view1_frontal.jpg  Female   20         Frontal   \n",
       "7   train/patient00005/study1/view1_frontal.jpg    Male   33         Frontal   \n",
       "11  train/patient00006/study1/view1_frontal.jpg  Female   42         Frontal   \n",
       "12  train/patient00007/study1/view1_frontal.jpg    Male   69         Frontal   \n",
       "\n",
       "   AP/PA  No Finding  Enlarged Cardiomediastinum  Cardiomegaly  Lung Opacity  \\\n",
       "0     AP           1                         NaN             0           NaN   \n",
       "5     PA           1                         0.0             0           NaN   \n",
       "7     PA           1                         NaN             0           NaN   \n",
       "11    AP           1                         0.0             0           NaN   \n",
       "12    AP           0                         NaN             1           1.0   \n",
       "\n",
       "    Lung Lesion  ...  Consolidation  Pneumonia  Atelectasis  Pneumothorax  \\\n",
       "0           NaN  ...            NaN        NaN          NaN           0.0   \n",
       "5           NaN  ...            0.0        NaN          NaN           NaN   \n",
       "7           NaN  ...            0.0        NaN          NaN           NaN   \n",
       "11          NaN  ...            NaN        NaN          NaN           NaN   \n",
       "12          NaN  ...            NaN        NaN          1.0           1.0   \n",
       "\n",
       "    Pleural Effusion  Pleural Other  Fracture  Support Devices  label  \\\n",
       "0                NaN            NaN       NaN              1.0      1   \n",
       "5                0.0            NaN       NaN              NaN      1   \n",
       "7                0.0            NaN       NaN              1.0      1   \n",
       "11               0.0            NaN       NaN              NaN      1   \n",
       "12               0.0            NaN       0.0              1.0      0   \n",
       "\n",
       "       PatientID  \n",
       "0   patient00001  \n",
       "5   patient00004  \n",
       "7   patient00005  \n",
       "11  patient00006  \n",
       "12  patient00007  \n",
       "\n",
       "[5 rows x 21 columns]"
      ]
     },
     "execution_count": 4,
     "metadata": {},
     "output_type": "execute_result"
    }
   ],
   "source": [
    "# Clean dataframe\n",
    "\n",
    "df = pd.read_csv('../data/CheXpert_Sample/train/train.csv')\n",
    "\n",
    "# Standardize path\n",
    "df[\"Path\"] = df[\"Path\"].str.replace(\"CheXpert-v1.0-small/\", \"\", regex=False)\n",
    "\n",
    "# Filter to frontal images only\n",
    "df = df[df[\"Frontal/Lateral\"] == \"Frontal\"]\n",
    "\n",
    "# filter to AP/PA images only\n",
    "df = df[df[\"AP/PA\"].isin([\"PA\", \"AP\"])]\n",
    "\n",
    "# Filtering out 'Unknown' values in sex\n",
    "df = df[df[\"Sex\"].isin([\"Male\", \"Female\"])]\n",
    "\n",
    "# Dropping NAs in sex and age\n",
    "df = df.dropna(subset=[\"Sex\", \"Age\"])\n",
    "\n",
    "# Filling NAs and replacing -1 (uncertain) with 0 in selected labels\n",
    "label_cols = [\"Cardiomegaly\", \"No Finding\"]\n",
    "df[label_cols] = df[label_cols].fillna(0).replace(-1, 0).astype(int)\n",
    "\n",
    "# Keep only rows with one positive label\n",
    "df = df[df[label_cols].sum(axis=1) == 1].copy()\n",
    "\n",
    "# Adding integer class label column\n",
    "df[\"label\"] = df[label_cols].values.argmax(axis=1).astype(int)\n",
    "\n",
    "# Add patient ID for split\n",
    "df[\"PatientID\"] = df[\"Path\"].apply(lambda x: x.split(\"/\")[1])\n",
    "\n",
    "df.head()"
   ]
  },
  {
   "cell_type": "code",
   "execution_count": 5,
   "id": "b82503aa",
   "metadata": {},
   "outputs": [],
   "source": [
    "# Simple binary task - Cardiomegaly vs. No Finding\n",
    "\n",
    "binary_df = df[df[[\"Cardiomegaly\",\"No Finding\"]].sum(axis=1)==1].copy()\n",
    "binary_df[\"label\"] = (binary_df[\"Cardiomegaly\"] == 1).astype(int)"
   ]
  },
  {
   "cell_type": "markdown",
   "id": "505a27eb",
   "metadata": {},
   "source": [
    "## 2D CNN"
   ]
  },
  {
   "cell_type": "code",
   "execution_count": 6,
   "id": "4f7ac659",
   "metadata": {},
   "outputs": [],
   "source": [
    "from func import make_train_val_split\n",
    "\n",
    "image_root = '../data/CheXpert_Sample/'\n",
    "\n",
    "small_df = pd.concat([\n",
    "    binary_df[binary_df.label==0].sample(2000, random_state=0),\n",
    "    binary_df[binary_df.label==1].sample(2000, random_state=0)\n",
    "]).reset_index(drop=True)\n",
    "\n",
    "train_df, val_df = make_train_val_split(\n",
    "    small_df, \n",
    "    image_root=image_root,\n",
    "    save_prefix=\"cnn\",\n",
    "    label_col=\"label\",\n",
    "    group_col=\"PatientID\"\n",
    ")"
   ]
  },
  {
   "cell_type": "code",
   "execution_count": 22,
   "id": "53fd32d7",
   "metadata": {},
   "outputs": [
    {
     "name": "stdout",
     "output_type": "stream",
     "text": [
      "Number of images: 4000\n"
     ]
    }
   ],
   "source": [
    "# Confirm number of images\n",
    "\n",
    "with open(\"images/cnn_images.json\", \"r\") as f:\n",
    "    data = json.load(f)\n",
    "\n",
    "print(f\"Number of images: {len(data)}\")"
   ]
  },
  {
   "cell_type": "code",
   "execution_count": 7,
   "id": "720f961b",
   "metadata": {},
   "outputs": [],
   "source": [
    "from dataset import CheXpertBinary\n",
    "\n",
    "image_root = '../data/CheXpert_Sample/'\n",
    "selected_labels = [\"Cardiomegaly\", \"No Finding\"]\n",
    "\n",
    "transform = transforms.Compose([\n",
    "    transforms.Resize((224, 224)),\n",
    "    transforms.ToTensor(),\n",
    "    transforms.Lambda(lambda x: x.repeat(3, 1, 1)), # ResNet18 expects 3-channel input\n",
    "    transforms.Normalize([0.5], [0.5]) # [-1, 1]\n",
    "])\n",
    "\n",
    "train_dataset = CheXpertBinary(train_df, label_cols=selected_labels, image_root=image_root, transform=transform)\n",
    "val_dataset = CheXpertBinary(val_df, label_cols=selected_labels, image_root=image_root, transform=transform)\n",
    "\n",
    "train_loader = DataLoader(train_dataset, batch_size=32, shuffle=True)\n",
    "val_loader = DataLoader(val_dataset, batch_size=32, shuffle=False)"
   ]
  },
  {
   "cell_type": "code",
   "execution_count": 11,
   "id": "93061a37",
   "metadata": {},
   "outputs": [
    {
     "name": "stdout",
     "output_type": "stream",
     "text": [
      "Epoch 1/10: Loss = 0.4695, Train Acc = 0.7916, Val Acc = 0.8295, Val AUC (avg) = 0.9097\n",
      "Epoch 2/10: Loss = 0.3678, Train Acc = 0.8432, Val Acc = 0.8397, Val AUC (avg) = 0.9115\n",
      "Epoch 3/10: Loss = 0.3620, Train Acc = 0.8488, Val Acc = 0.8205, Val AUC (avg) = 0.8944\n",
      "Epoch 4/10: Loss = 0.3508, Train Acc = 0.8562, Val Acc = 0.8128, Val AUC (avg) = 0.9074\n",
      "Epoch 5/10: Loss = 0.3322, Train Acc = 0.8618, Val Acc = 0.8295, Val AUC (avg) = 0.9078\n",
      "Epoch 6/10: Loss = 0.3240, Train Acc = 0.8671, Val Acc = 0.6551, Val AUC (avg) = 0.9030\n",
      "Epoch 7/10: Loss = 0.3403, Train Acc = 0.8550, Val Acc = 0.7462, Val AUC (avg) = 0.9082\n",
      "Epoch 8/10: Loss = 0.2985, Train Acc = 0.8752, Val Acc = 0.8346, Val AUC (avg) = 0.9004\n",
      "Epoch 9/10: Loss = 0.3058, Train Acc = 0.8677, Val Acc = 0.6244, Val AUC (avg) = 0.8738\n",
      "Epoch 10/10: Loss = 0.2750, Train Acc = 0.8860, Val Acc = 0.8013, Val AUC (avg) = 0.8895\n"
     ]
    }
   ],
   "source": [
    "from train import train_target\n",
    "from torchvision.models import resnet18, ResNet18_Weights\n",
    "\n",
    "target_model = resnet18(weights=ResNet18_Weights.IMAGENET1K_V1)\n",
    "features = target_model.fc.in_features\n",
    "target_model.fc = nn.Sequential(\n",
    "    nn.Dropout(0.5),\n",
    "    nn.Linear(features, 1) # binary classification\n",
    ")\n",
    "target_model.to(mps_device)\n",
    "\n",
    "target_optimizer = optim.Adam(target_model.parameters(), lr=1e-3, weight_decay=1e-3)\n",
    "target_criterion = nn.BCEWithLogitsLoss()\n",
    "\n",
    "trained_model, train_history = train_target(\n",
    "    model=target_model,\n",
    "    train_loader=train_loader,\n",
    "    eval_loader=val_loader,\n",
    "    criterion=target_criterion,\n",
    "    optimizer=target_optimizer,\n",
    "    num_epochs=10,\n",
    "    device=mps_device,\n",
    "    save_path='models/chest2d_cnn.pt',\n",
    "    verbose=True\n",
    ")"
   ]
  },
  {
   "cell_type": "markdown",
   "id": "6bf7d015",
   "metadata": {},
   "source": [
    "## Overfit 2D CNN"
   ]
  },
  {
   "cell_type": "code",
   "execution_count": 6,
   "id": "64eedbf9",
   "metadata": {},
   "outputs": [],
   "source": [
    "from func import make_train_val_split\n",
    "\n",
    "image_root = '../data/CheXpert_Sample/'\n",
    "\n",
    "# Force overfitting\n",
    "small_df = pd.concat([\n",
    "    binary_df[binary_df.label==0].sample(20, random_state=0),\n",
    "    binary_df[binary_df.label==1].sample(20, random_state=0)\n",
    "])\n",
    "\n",
    "train_df, val_df = make_train_val_split(\n",
    "    small_df,\n",
    "    image_root=image_root,\n",
    "    save_prefix=\"cnn_overfit\",\n",
    "    label_col=\"label\",\n",
    "    group_col=\"PatientID\"\n",
    ")"
   ]
  },
  {
   "cell_type": "code",
   "execution_count": 7,
   "id": "dbb57154",
   "metadata": {},
   "outputs": [
    {
     "name": "stdout",
     "output_type": "stream",
     "text": [
      "Number of images: 40\n"
     ]
    }
   ],
   "source": [
    "# Confirm number of images\n",
    "\n",
    "with open(\"images/cnn_overfit_images.json\", \"r\") as f:\n",
    "    data = json.load(f)\n",
    "\n",
    "print(f\"Number of images: {len(data)}\")"
   ]
  },
  {
   "cell_type": "code",
   "execution_count": 8,
   "id": "6b872ebd",
   "metadata": {},
   "outputs": [],
   "source": [
    "from dataset import CheXpertBinary\n",
    "\n",
    "image_root = '../data/CheXpert_Sample/'\n",
    "selected_labels = [\"Cardiomegaly\", \"No Finding\"]\n",
    "\n",
    "transform = transforms.Compose([\n",
    "    transforms.Resize((224, 224)),\n",
    "    transforms.ToTensor(),\n",
    "    transforms.Lambda(lambda x: x.repeat(3, 1, 1)), # ResNet18 expects 3-channel input\n",
    "    transforms.Normalize([0.5], [0.5]) # [-1, 1]\n",
    "])\n",
    "\n",
    "train_dataset = CheXpertBinary(train_df, label_cols=selected_labels, image_root=image_root, transform=transform)\n",
    "val_dataset = CheXpertBinary(val_df, label_cols=selected_labels, image_root=image_root, transform=transform)\n",
    "\n",
    "train_loader = DataLoader(train_dataset, batch_size=1, shuffle=True)\n",
    "val_loader = DataLoader(val_dataset, batch_size=1, shuffle=False)"
   ]
  },
  {
   "cell_type": "code",
   "execution_count": 9,
   "id": "e7395fc5",
   "metadata": {},
   "outputs": [
    {
     "name": "stdout",
     "output_type": "stream",
     "text": [
      "Epoch 1/20: Loss = 0.6940, Train Acc = 0.5625, Val Acc = 0.2500, Val AUC (avg) = 0.8333\n",
      "Epoch 2/20: Loss = 0.6179, Train Acc = 0.5938, Val Acc = 0.5000, Val AUC (avg) = 0.6667\n",
      "Epoch 3/20: Loss = 0.5283, Train Acc = 1.0000, Val Acc = 0.7500, Val AUC (avg) = 1.0000\n",
      "Epoch 4/20: Loss = 0.4503, Train Acc = 1.0000, Val Acc = 0.8750, Val AUC (avg) = 0.9167\n",
      "Epoch 5/20: Loss = 0.3763, Train Acc = 1.0000, Val Acc = 0.7500, Val AUC (avg) = 0.9167\n",
      "Epoch 6/20: Loss = 0.3197, Train Acc = 1.0000, Val Acc = 0.7500, Val AUC (avg) = 0.9167\n",
      "Epoch 7/20: Loss = 0.2697, Train Acc = 1.0000, Val Acc = 0.8750, Val AUC (avg) = 0.9167\n",
      "Epoch 8/20: Loss = 0.2221, Train Acc = 1.0000, Val Acc = 0.8750, Val AUC (avg) = 1.0000\n",
      "Epoch 9/20: Loss = 0.1873, Train Acc = 1.0000, Val Acc = 0.8750, Val AUC (avg) = 1.0000\n",
      "Epoch 10/20: Loss = 0.1592, Train Acc = 1.0000, Val Acc = 0.8750, Val AUC (avg) = 1.0000\n",
      "Epoch 11/20: Loss = 0.1340, Train Acc = 1.0000, Val Acc = 0.7500, Val AUC (avg) = 0.9167\n",
      "Epoch 12/20: Loss = 0.1131, Train Acc = 1.0000, Val Acc = 0.7500, Val AUC (avg) = 0.9167\n",
      "Epoch 13/20: Loss = 0.0962, Train Acc = 1.0000, Val Acc = 0.7500, Val AUC (avg) = 0.8333\n",
      "Epoch 14/20: Loss = 0.0818, Train Acc = 1.0000, Val Acc = 0.7500, Val AUC (avg) = 0.8333\n",
      "Epoch 15/20: Loss = 0.0728, Train Acc = 1.0000, Val Acc = 0.6250, Val AUC (avg) = 0.6667\n",
      "Epoch 16/20: Loss = 0.0646, Train Acc = 1.0000, Val Acc = 0.7500, Val AUC (avg) = 0.7500\n",
      "Epoch 17/20: Loss = 0.0570, Train Acc = 1.0000, Val Acc = 0.7500, Val AUC (avg) = 0.5000\n",
      "Epoch 18/20: Loss = 0.0510, Train Acc = 1.0000, Val Acc = 0.7500, Val AUC (avg) = 0.6667\n",
      "Epoch 19/20: Loss = 0.0457, Train Acc = 1.0000, Val Acc = 0.7500, Val AUC (avg) = 0.6667\n",
      "Epoch 20/20: Loss = 0.0416, Train Acc = 1.0000, Val Acc = 0.7500, Val AUC (avg) = 0.5833\n"
     ]
    }
   ],
   "source": [
    "from train import train_target\n",
    "from torchvision.models import resnet18, ResNet18_Weights\n",
    "\n",
    "target_model = resnet18(weights=ResNet18_Weights.IMAGENET1K_V1)\n",
    "features = target_model.fc.in_features\n",
    "target_model.fc = nn.Linear(features, 1) # binary classification\n",
    "target_model.to(mps_device)\n",
    "\n",
    "target_optimizer = optim.Adam(target_model.parameters(), lr=1e-4)\n",
    "target_criterion = nn.BCEWithLogitsLoss()\n",
    "\n",
    "trained_model, train_history = train_target(\n",
    "    model=target_model,\n",
    "    train_loader=train_loader,\n",
    "    eval_loader=val_loader,\n",
    "    criterion=target_criterion,\n",
    "    optimizer=target_optimizer,\n",
    "    num_epochs=20,\n",
    "    device=mps_device,\n",
    "    save_path='models/chest2d_cnn_overfit.pt',\n",
    "    verbose=True\n",
    ")"
   ]
  },
  {
   "cell_type": "code",
   "execution_count": 10,
   "id": "d64078ec",
   "metadata": {},
   "outputs": [],
   "source": [
    "torch.save(target_model.state_dict(), 'models/chest2d_cnn_overfit.pt')"
   ]
  },
  {
   "cell_type": "markdown",
   "id": "ba50e4a6",
   "metadata": {},
   "source": [
    "## 2D ViT"
   ]
  },
  {
   "cell_type": "code",
   "execution_count": 20,
   "id": "30e515dc",
   "metadata": {},
   "outputs": [],
   "source": [
    "small_df = pd.concat([\n",
    "    binary_df[binary_df.label==0].sample(2000, random_state=0),\n",
    "    binary_df[binary_df.label==1].sample(2000, random_state=0)\n",
    "])\n",
    "\n",
    "train_df, val_df = make_train_val_split(\n",
    "    small_df,\n",
    "    image_root=image_root,\n",
    "    save_prefix=\"vit\",\n",
    "    label_col=\"label\",\n",
    "    group_col=\"PatientID\"\n",
    ")"
   ]
  },
  {
   "cell_type": "code",
   "execution_count": 21,
   "id": "cbb19777",
   "metadata": {},
   "outputs": [
    {
     "name": "stdout",
     "output_type": "stream",
     "text": [
      "Number of images: 4000\n"
     ]
    }
   ],
   "source": [
    "# Confirm number of images\n",
    "\n",
    "with open(\"images/vit_images.json\", \"r\") as f:\n",
    "    data = json.load(f)\n",
    "\n",
    "print(f\"Number of images: {len(data)}\")"
   ]
  },
  {
   "cell_type": "code",
   "execution_count": 24,
   "id": "3d10e60d",
   "metadata": {},
   "outputs": [],
   "source": [
    "from dataset import CheXpertBinary\n",
    "\n",
    "image_root = '../data/CheXpert_Sample/'\n",
    "selected_labels = [\"Cardiomegaly\", \"No Finding\"]\n",
    "\n",
    "transform = transforms.Compose([\n",
    "    transforms.Resize((224, 224)),\n",
    "    transforms.ToTensor(),\n",
    "    transforms.Lambda(lambda x: x.repeat(3, 1, 1)), # ResNet18 expects 3-channel input\n",
    "    transforms.Normalize([0.5], [0.5]) # [-1, 1]\n",
    "])\n",
    "\n",
    "train_dataset = CheXpertBinary(train_df, label_cols=selected_labels, image_root=image_root, transform=transform)\n",
    "val_dataset = CheXpertBinary(val_df, label_cols=selected_labels, image_root=image_root, transform=transform)\n",
    "\n",
    "train_loader = DataLoader(train_dataset, batch_size=64, shuffle=True)\n",
    "val_loader = DataLoader(val_dataset, batch_size=64, shuffle=False)"
   ]
  },
  {
   "cell_type": "code",
   "execution_count": null,
   "id": "924972bc",
   "metadata": {},
   "outputs": [
    {
     "name": "stdout",
     "output_type": "stream",
     "text": [
      "Epoch 1/30: Loss = 0.6224, Train Acc = 0.6640, Val Acc = 0.7731, Val AUC (avg) = 0.8682\n",
      "Epoch 2/30: Loss = 0.3959, Train Acc = 0.8317, Val Acc = 0.8372, Val AUC (avg) = 0.9044\n",
      "Epoch 3/30: Loss = 0.3314, Train Acc = 0.8621, Val Acc = 0.8051, Val AUC (avg) = 0.8919\n",
      "Epoch 4/30: Loss = 0.2641, Train Acc = 0.8913, Val Acc = 0.8385, Val AUC (avg) = 0.8984\n",
      "Epoch 5/30: Loss = 0.1808, Train Acc = 0.9267, Val Acc = 0.8090, Val AUC (avg) = 0.8792\n"
     ]
    },
    {
     "ename": "KeyboardInterrupt",
     "evalue": "",
     "output_type": "error",
     "traceback": [
      "\u001b[31m---------------------------------------------------------------------------\u001b[39m",
      "\u001b[31mKeyboardInterrupt\u001b[39m                         Traceback (most recent call last)",
      "\u001b[36mCell\u001b[39m\u001b[36m \u001b[39m\u001b[32mIn[26]\u001b[39m\u001b[32m, line 12\u001b[39m\n\u001b[32m      9\u001b[39m target_optimizer = optim.Adam(target_model.parameters(), lr=\u001b[32m1e-4\u001b[39m)\n\u001b[32m     10\u001b[39m target_criterion = nn.BCEWithLogitsLoss()\n\u001b[32m---> \u001b[39m\u001b[32m12\u001b[39m trained_model, train_history = \u001b[43mtrain_target\u001b[49m\u001b[43m(\u001b[49m\n\u001b[32m     13\u001b[39m \u001b[43m    \u001b[49m\u001b[43mmodel\u001b[49m\u001b[43m=\u001b[49m\u001b[43mtarget_model\u001b[49m\u001b[43m,\u001b[49m\n\u001b[32m     14\u001b[39m \u001b[43m    \u001b[49m\u001b[43mtrain_loader\u001b[49m\u001b[43m=\u001b[49m\u001b[43mtrain_loader\u001b[49m\u001b[43m,\u001b[49m\n\u001b[32m     15\u001b[39m \u001b[43m    \u001b[49m\u001b[43meval_loader\u001b[49m\u001b[43m=\u001b[49m\u001b[43mval_loader\u001b[49m\u001b[43m,\u001b[49m\n\u001b[32m     16\u001b[39m \u001b[43m    \u001b[49m\u001b[43mcriterion\u001b[49m\u001b[43m=\u001b[49m\u001b[43mtarget_criterion\u001b[49m\u001b[43m,\u001b[49m\n\u001b[32m     17\u001b[39m \u001b[43m    \u001b[49m\u001b[43moptimizer\u001b[49m\u001b[43m=\u001b[49m\u001b[43mtarget_optimizer\u001b[49m\u001b[43m,\u001b[49m\n\u001b[32m     18\u001b[39m \u001b[43m    \u001b[49m\u001b[43mnum_epochs\u001b[49m\u001b[43m=\u001b[49m\u001b[32;43m30\u001b[39;49m\u001b[43m,\u001b[49m\n\u001b[32m     19\u001b[39m \u001b[43m    \u001b[49m\u001b[43mdevice\u001b[49m\u001b[43m=\u001b[49m\u001b[43mcpu_device\u001b[49m\u001b[43m,\u001b[49m\n\u001b[32m     20\u001b[39m \u001b[43m    \u001b[49m\u001b[43msave_path\u001b[49m\u001b[43m=\u001b[49m\u001b[33;43m'\u001b[39;49m\u001b[33;43mmodels/chest2d_vit.pt\u001b[39;49m\u001b[33;43m'\u001b[39;49m\u001b[43m,\u001b[49m\n\u001b[32m     21\u001b[39m \u001b[43m    \u001b[49m\u001b[43mverbose\u001b[49m\u001b[43m=\u001b[49m\u001b[38;5;28;43;01mTrue\u001b[39;49;00m\n\u001b[32m     22\u001b[39m \u001b[43m)\u001b[49m\n",
      "\u001b[36mFile \u001b[39m\u001b[32m~/Documents/COGS_402/final/target_models/train.py:53\u001b[39m, in \u001b[36mtrain_target\u001b[39m\u001b[34m(model, train_loader, eval_loader, criterion, optimizer, device, num_epochs, save_path, verbose)\u001b[39m\n\u001b[32m     50\u001b[39m loss = criterion(preds, labels)\n\u001b[32m     52\u001b[39m optimizer.zero_grad()\n\u001b[32m---> \u001b[39m\u001b[32m53\u001b[39m \u001b[43mloss\u001b[49m\u001b[43m.\u001b[49m\u001b[43mbackward\u001b[49m\u001b[43m(\u001b[49m\u001b[43m)\u001b[49m\n\u001b[32m     54\u001b[39m optimizer.step()\n\u001b[32m     56\u001b[39m total_loss += loss.item()\n",
      "\u001b[36mFile \u001b[39m\u001b[32m/opt/anaconda3/envs/reid-attack/lib/python3.11/site-packages/torch/_tensor.py:581\u001b[39m, in \u001b[36mTensor.backward\u001b[39m\u001b[34m(self, gradient, retain_graph, create_graph, inputs)\u001b[39m\n\u001b[32m    571\u001b[39m \u001b[38;5;28;01mif\u001b[39;00m has_torch_function_unary(\u001b[38;5;28mself\u001b[39m):\n\u001b[32m    572\u001b[39m     \u001b[38;5;28;01mreturn\u001b[39;00m handle_torch_function(\n\u001b[32m    573\u001b[39m         Tensor.backward,\n\u001b[32m    574\u001b[39m         (\u001b[38;5;28mself\u001b[39m,),\n\u001b[32m   (...)\u001b[39m\u001b[32m    579\u001b[39m         inputs=inputs,\n\u001b[32m    580\u001b[39m     )\n\u001b[32m--> \u001b[39m\u001b[32m581\u001b[39m \u001b[43mtorch\u001b[49m\u001b[43m.\u001b[49m\u001b[43mautograd\u001b[49m\u001b[43m.\u001b[49m\u001b[43mbackward\u001b[49m\u001b[43m(\u001b[49m\n\u001b[32m    582\u001b[39m \u001b[43m    \u001b[49m\u001b[38;5;28;43mself\u001b[39;49m\u001b[43m,\u001b[49m\u001b[43m \u001b[49m\u001b[43mgradient\u001b[49m\u001b[43m,\u001b[49m\u001b[43m \u001b[49m\u001b[43mretain_graph\u001b[49m\u001b[43m,\u001b[49m\u001b[43m \u001b[49m\u001b[43mcreate_graph\u001b[49m\u001b[43m,\u001b[49m\u001b[43m \u001b[49m\u001b[43minputs\u001b[49m\u001b[43m=\u001b[49m\u001b[43minputs\u001b[49m\n\u001b[32m    583\u001b[39m \u001b[43m\u001b[49m\u001b[43m)\u001b[49m\n",
      "\u001b[36mFile \u001b[39m\u001b[32m/opt/anaconda3/envs/reid-attack/lib/python3.11/site-packages/torch/autograd/__init__.py:347\u001b[39m, in \u001b[36mbackward\u001b[39m\u001b[34m(tensors, grad_tensors, retain_graph, create_graph, grad_variables, inputs)\u001b[39m\n\u001b[32m    342\u001b[39m     retain_graph = create_graph\n\u001b[32m    344\u001b[39m \u001b[38;5;66;03m# The reason we repeat the same comment below is that\u001b[39;00m\n\u001b[32m    345\u001b[39m \u001b[38;5;66;03m# some Python versions print out the first line of a multi-line function\u001b[39;00m\n\u001b[32m    346\u001b[39m \u001b[38;5;66;03m# calls in the traceback and some print out the last line\u001b[39;00m\n\u001b[32m--> \u001b[39m\u001b[32m347\u001b[39m \u001b[43m_engine_run_backward\u001b[49m\u001b[43m(\u001b[49m\n\u001b[32m    348\u001b[39m \u001b[43m    \u001b[49m\u001b[43mtensors\u001b[49m\u001b[43m,\u001b[49m\n\u001b[32m    349\u001b[39m \u001b[43m    \u001b[49m\u001b[43mgrad_tensors_\u001b[49m\u001b[43m,\u001b[49m\n\u001b[32m    350\u001b[39m \u001b[43m    \u001b[49m\u001b[43mretain_graph\u001b[49m\u001b[43m,\u001b[49m\n\u001b[32m    351\u001b[39m \u001b[43m    \u001b[49m\u001b[43mcreate_graph\u001b[49m\u001b[43m,\u001b[49m\n\u001b[32m    352\u001b[39m \u001b[43m    \u001b[49m\u001b[43minputs\u001b[49m\u001b[43m,\u001b[49m\n\u001b[32m    353\u001b[39m \u001b[43m    \u001b[49m\u001b[43mallow_unreachable\u001b[49m\u001b[43m=\u001b[49m\u001b[38;5;28;43;01mTrue\u001b[39;49;00m\u001b[43m,\u001b[49m\n\u001b[32m    354\u001b[39m \u001b[43m    \u001b[49m\u001b[43maccumulate_grad\u001b[49m\u001b[43m=\u001b[49m\u001b[38;5;28;43;01mTrue\u001b[39;49;00m\u001b[43m,\u001b[49m\n\u001b[32m    355\u001b[39m \u001b[43m\u001b[49m\u001b[43m)\u001b[49m\n",
      "\u001b[36mFile \u001b[39m\u001b[32m/opt/anaconda3/envs/reid-attack/lib/python3.11/site-packages/torch/autograd/graph.py:825\u001b[39m, in \u001b[36m_engine_run_backward\u001b[39m\u001b[34m(t_outputs, *args, **kwargs)\u001b[39m\n\u001b[32m    823\u001b[39m     unregister_hooks = _register_logging_hooks_on_whole_graph(t_outputs)\n\u001b[32m    824\u001b[39m \u001b[38;5;28;01mtry\u001b[39;00m:\n\u001b[32m--> \u001b[39m\u001b[32m825\u001b[39m     \u001b[38;5;28;01mreturn\u001b[39;00m \u001b[43mVariable\u001b[49m\u001b[43m.\u001b[49m\u001b[43m_execution_engine\u001b[49m\u001b[43m.\u001b[49m\u001b[43mrun_backward\u001b[49m\u001b[43m(\u001b[49m\u001b[43m  \u001b[49m\u001b[38;5;66;43;03m# Calls into the C++ engine to run the backward pass\u001b[39;49;00m\n\u001b[32m    826\u001b[39m \u001b[43m        \u001b[49m\u001b[43mt_outputs\u001b[49m\u001b[43m,\u001b[49m\u001b[43m \u001b[49m\u001b[43m*\u001b[49m\u001b[43margs\u001b[49m\u001b[43m,\u001b[49m\u001b[43m \u001b[49m\u001b[43m*\u001b[49m\u001b[43m*\u001b[49m\u001b[43mkwargs\u001b[49m\n\u001b[32m    827\u001b[39m \u001b[43m    \u001b[49m\u001b[43m)\u001b[49m  \u001b[38;5;66;03m# Calls into the C++ engine to run the backward pass\u001b[39;00m\n\u001b[32m    828\u001b[39m \u001b[38;5;28;01mfinally\u001b[39;00m:\n\u001b[32m    829\u001b[39m     \u001b[38;5;28;01mif\u001b[39;00m attach_logging_hooks:\n",
      "\u001b[31mKeyboardInterrupt\u001b[39m: "
     ]
    }
   ],
   "source": [
    "from train import train_target\n",
    "from torchvision.models import vit_b_16, ViT_B_16_Weights\n",
    "\n",
    "target_model = vit_b_16(weights=ViT_B_16_Weights.DEFAULT)\n",
    "in_features = target_model.heads.head.in_features\n",
    "target_model.heads.head = nn.Linear(in_features, 1) # binary classification\n",
    "target_model.to(cpu_device)\n",
    "\n",
    "target_optimizer = optim.Adam(target_model.parameters(), lr=1e-4)\n",
    "target_criterion = nn.BCEWithLogitsLoss()\n",
    "\n",
    "trained_model, train_history = train_target(\n",
    "    model=target_model,\n",
    "    train_loader=train_loader,\n",
    "    eval_loader=val_loader,\n",
    "    criterion=target_criterion,\n",
    "    optimizer=target_optimizer,\n",
    "    num_epochs=5,\n",
    "    device=cpu_device,\n",
    "    save_path='models/chest2d_vit.pt',\n",
    "    verbose=True\n",
    ")"
   ]
  },
  {
   "cell_type": "markdown",
   "id": "44caaa28",
   "metadata": {},
   "source": [
    "## Overfit 2D ViT"
   ]
  },
  {
   "cell_type": "code",
   "execution_count": 15,
   "id": "edeab6f7",
   "metadata": {},
   "outputs": [],
   "source": [
    "from func import make_train_val_split\n",
    "\n",
    "image_root = '../data/CheXpert_Sample/'\n",
    "\n",
    "# Force overfitting\n",
    "small_df = pd.concat([\n",
    "    binary_df[binary_df.label==0].sample(50, random_state=0),\n",
    "    binary_df[binary_df.label==1].sample(50, random_state=0)\n",
    "])\n",
    "\n",
    "train_df, val_df = make_train_val_split(\n",
    "    small_df,\n",
    "    image_root=image_root,\n",
    "    save_prefix=\"vit_overfit\",\n",
    "    label_col=\"label\",\n",
    "    group_col=\"PatientID\"\n",
    ")"
   ]
  },
  {
   "cell_type": "code",
   "execution_count": 16,
   "id": "05b264e1",
   "metadata": {},
   "outputs": [
    {
     "name": "stdout",
     "output_type": "stream",
     "text": [
      "Number of images: 100\n"
     ]
    }
   ],
   "source": [
    "# Confirm number of images\n",
    "\n",
    "with open(\"images/vit_overfit_images.json\", \"r\") as f:\n",
    "    data = json.load(f)\n",
    "\n",
    "print(f\"Number of images: {len(data)}\")"
   ]
  },
  {
   "cell_type": "code",
   "execution_count": 17,
   "id": "baa076b3",
   "metadata": {},
   "outputs": [],
   "source": [
    "from dataset import CheXpertBinary\n",
    "\n",
    "image_root = '../data/CheXpert_Sample/'\n",
    "selected_labels = [\"Cardiomegaly\", \"No Finding\"]\n",
    "\n",
    "transform = transforms.Compose([\n",
    "    transforms.Resize((224, 224)),\n",
    "    transforms.ToTensor(),\n",
    "    transforms.Lambda(lambda x: x.repeat(3, 1, 1)), # ResNet18 expects 3-channel input\n",
    "    transforms.Normalize([0.5], [0.5]) # [-1, 1]\n",
    "])\n",
    "\n",
    "train_dataset = CheXpertBinary(train_df, label_cols=selected_labels, image_root=image_root, transform=transform)\n",
    "val_dataset = CheXpertBinary(val_df, label_cols=selected_labels, image_root=image_root, transform=transform)\n",
    "\n",
    "train_loader = DataLoader(train_dataset, batch_size=1, shuffle=True)\n",
    "val_loader = DataLoader(val_dataset, batch_size=1, shuffle=False)"
   ]
  },
  {
   "cell_type": "code",
   "execution_count": 20,
   "id": "c5fe08c8",
   "metadata": {},
   "outputs": [
    {
     "name": "stdout",
     "output_type": "stream",
     "text": [
      "Epoch 1/30: Loss = 0.7251, Train Acc = 0.5000, Val Acc = 0.8000, Val AUC (avg) = 0.8438\n",
      "Epoch 2/30: Loss = 0.5712, Train Acc = 0.7250, Val Acc = 0.8500, Val AUC (avg) = 0.8750\n",
      "Epoch 3/30: Loss = 0.4966, Train Acc = 0.7375, Val Acc = 0.8500, Val AUC (avg) = 0.8854\n",
      "Epoch 4/30: Loss = 0.4571, Train Acc = 0.7625, Val Acc = 0.8000, Val AUC (avg) = 0.8958\n",
      "Epoch 5/30: Loss = 0.4053, Train Acc = 0.8250, Val Acc = 0.9000, Val AUC (avg) = 0.8750\n",
      "Epoch 6/30: Loss = 0.3530, Train Acc = 0.8750, Val Acc = 0.9000, Val AUC (avg) = 0.8854\n",
      "Epoch 7/30: Loss = 0.3250, Train Acc = 0.9000, Val Acc = 0.8000, Val AUC (avg) = 0.8854\n",
      "Epoch 8/30: Loss = 0.3056, Train Acc = 0.9375, Val Acc = 0.9000, Val AUC (avg) = 0.8854\n",
      "Epoch 9/30: Loss = 0.2799, Train Acc = 0.9375, Val Acc = 0.9000, Val AUC (avg) = 0.8958\n",
      "Epoch 10/30: Loss = 0.2599, Train Acc = 0.9500, Val Acc = 0.9000, Val AUC (avg) = 0.8958\n",
      "Epoch 11/30: Loss = 0.2275, Train Acc = 0.9625, Val Acc = 0.9000, Val AUC (avg) = 0.8854\n",
      "Epoch 12/30: Loss = 0.2142, Train Acc = 0.9625, Val Acc = 0.9000, Val AUC (avg) = 0.8854\n",
      "Epoch 13/30: Loss = 0.1990, Train Acc = 0.9875, Val Acc = 0.8000, Val AUC (avg) = 0.8750\n",
      "Epoch 14/30: Loss = 0.1833, Train Acc = 1.0000, Val Acc = 0.8500, Val AUC (avg) = 0.8750\n",
      "Epoch 15/30: Loss = 0.1663, Train Acc = 1.0000, Val Acc = 0.8000, Val AUC (avg) = 0.8750\n",
      "Epoch 16/30: Loss = 0.1565, Train Acc = 1.0000, Val Acc = 0.9000, Val AUC (avg) = 0.8750\n",
      "Epoch 17/30: Loss = 0.1491, Train Acc = 1.0000, Val Acc = 0.8500, Val AUC (avg) = 0.8750\n",
      "Epoch 18/30: Loss = 0.1394, Train Acc = 1.0000, Val Acc = 0.8500, Val AUC (avg) = 0.8750\n",
      "Epoch 19/30: Loss = 0.1429, Train Acc = 1.0000, Val Acc = 0.8500, Val AUC (avg) = 0.8854\n",
      "Epoch 20/30: Loss = 0.1217, Train Acc = 1.0000, Val Acc = 0.8500, Val AUC (avg) = 0.8750\n",
      "Epoch 21/30: Loss = 0.1185, Train Acc = 1.0000, Val Acc = 0.9000, Val AUC (avg) = 0.8854\n",
      "Epoch 22/30: Loss = 0.1050, Train Acc = 1.0000, Val Acc = 0.8500, Val AUC (avg) = 0.8854\n",
      "Epoch 23/30: Loss = 0.0943, Train Acc = 1.0000, Val Acc = 0.9000, Val AUC (avg) = 0.8854\n",
      "Epoch 24/30: Loss = 0.0981, Train Acc = 1.0000, Val Acc = 0.8500, Val AUC (avg) = 0.8750\n",
      "Epoch 25/30: Loss = 0.0922, Train Acc = 1.0000, Val Acc = 0.8500, Val AUC (avg) = 0.8750\n",
      "Epoch 26/30: Loss = 0.0859, Train Acc = 1.0000, Val Acc = 0.8500, Val AUC (avg) = 0.8750\n",
      "Epoch 27/30: Loss = 0.0777, Train Acc = 1.0000, Val Acc = 0.8000, Val AUC (avg) = 0.8750\n",
      "Epoch 28/30: Loss = 0.0738, Train Acc = 1.0000, Val Acc = 0.8500, Val AUC (avg) = 0.8750\n",
      "Epoch 29/30: Loss = 0.0731, Train Acc = 1.0000, Val Acc = 0.8500, Val AUC (avg) = 0.8750\n",
      "Epoch 30/30: Loss = 0.0699, Train Acc = 1.0000, Val Acc = 0.8500, Val AUC (avg) = 0.8750\n"
     ]
    }
   ],
   "source": [
    "from train import train_target\n",
    "from torchvision.models import vit_b_16, ViT_B_16_Weights\n",
    "\n",
    "target_model = vit_b_16(weights=ViT_B_16_Weights.DEFAULT)\n",
    "# Disable all dropout\n",
    "target_model.encoder.dropout.p = 0.0\n",
    "target_model.encoder.encoder_norm = nn.Identity()\n",
    "target_model.heads.dropout = nn.Identity()\n",
    "\n",
    "# Replace head for binary\n",
    "in_feats = target_model.heads.head.in_features\n",
    "target_model.heads.head = nn.Linear(in_feats, 1)\n",
    "\n",
    "# Freeze backbone and train only head\n",
    "for name, param in target_model.named_parameters():\n",
    "    if \"heads\" not in name:\n",
    "        param.requires_grad = False\n",
    "\n",
    "target_model = target_model.to(cpu_device)\n",
    "\n",
    "target_optimizer = optim.Adam(filter(lambda p: p.requires_grad, target_model.parameters()),\n",
    "                 lr=1e-3, weight_decay=0.0)\n",
    "target_criterion = nn.BCEWithLogitsLoss()\n",
    "\n",
    "trained_model, train_history = train_target(\n",
    "    model=target_model,\n",
    "    train_loader=train_loader,\n",
    "    eval_loader=val_loader,\n",
    "    criterion=target_criterion,\n",
    "    optimizer=target_optimizer,\n",
    "    num_epochs=30,\n",
    "    device=cpu_device,\n",
    "    save_path='models/chest2d_vit_overfit.pt',\n",
    "    verbose=True\n",
    ")"
   ]
  },
  {
   "cell_type": "code",
   "execution_count": 21,
   "id": "b6cdb43f",
   "metadata": {},
   "outputs": [],
   "source": [
    "torch.save(target_model.state_dict(), 'models/chest2d_vit_overfit.pt')"
   ]
  },
  {
   "cell_type": "markdown",
   "id": "c142d885",
   "metadata": {},
   "source": [
    "## 2D CNN Regression"
   ]
  },
  {
   "cell_type": "code",
   "execution_count": 7,
   "id": "4ecb466b",
   "metadata": {},
   "outputs": [
    {
     "name": "stderr",
     "output_type": "stream",
     "text": [
      "/var/folders/3w/wbtzr_qn1vsd0q77hb8f34tr0000gn/T/ipykernel_34701/1057129779.py:7: DeprecationWarning: DataFrameGroupBy.apply operated on the grouping columns. This behavior is deprecated, and in a future version of pandas the grouping columns will be excluded from the operation. Either pass `include_groups=False` to exclude the groupings or explicitly select the grouping columns after groupby to silence this warning.\n",
      "  small_df = df.groupby(\"age_bin\", group_keys=False).apply(\n"
     ]
    }
   ],
   "source": [
    "from func import make_train_val_split\n",
    "\n",
    "image_root = '../data/CheXpert_Sample/'\n",
    "\n",
    "df[\"age_bin\"] = pd.cut(df[\"Age\"], bins=[0, 20, 40, 60, 80, 100], labels=False)\n",
    "\n",
    "small_df = df.groupby(\"age_bin\", group_keys=False).apply(\n",
    "    lambda x: x.sample(min(len(x), 500), random_state=0)\n",
    ").reset_index(drop=True)\n",
    "\n",
    "train_df, val_df = make_train_val_split(\n",
    "    small_df,\n",
    "    image_root=image_root,\n",
    "    save_prefix=\"reg\",\n",
    "    label_col=\"label\",\n",
    "    group_col=\"PatientID\"\n",
    ")"
   ]
  },
  {
   "cell_type": "code",
   "execution_count": 8,
   "id": "1f28ee91",
   "metadata": {},
   "outputs": [
    {
     "name": "stdout",
     "output_type": "stream",
     "text": [
      "Number of images: 2500\n"
     ]
    }
   ],
   "source": [
    "# Confirm number of images\n",
    "\n",
    "with open(\"images/reg_images.json\", \"r\") as f:\n",
    "    data = json.load(f)\n",
    "\n",
    "print(f\"Number of images: {len(data)}\")"
   ]
  },
  {
   "cell_type": "code",
   "execution_count": 9,
   "id": "a6a3ce94",
   "metadata": {},
   "outputs": [],
   "source": [
    "from dataset import CheXpertAgeDataset\n",
    "\n",
    "image_root = '../data/CheXpert_Sample/'\n",
    "selected_labels = [\"Cardiomegaly\", \"No Finding\"]\n",
    "\n",
    "transform = transforms.Compose([\n",
    "    transforms.Resize((224, 224)),\n",
    "    transforms.ToTensor(),\n",
    "    transforms.Lambda(lambda x: x.repeat(3, 1, 1)), # ResNet18 expects 3-channel input\n",
    "    transforms.Normalize([0.5], [0.5]) # [-1, 1]\n",
    "])\n",
    "\n",
    "train_dataset = CheXpertAgeDataset(train_df, root_dir=image_root, transform=transform)\n",
    "val_dataset = CheXpertAgeDataset(val_df, root_dir=image_root, transform=transform)\n",
    "\n",
    "train_loader = DataLoader(train_dataset, batch_size=32, shuffle=True)\n",
    "val_loader = DataLoader(val_dataset, batch_size=32, shuffle=False)"
   ]
  },
  {
   "cell_type": "code",
   "execution_count": 14,
   "id": "1a930593",
   "metadata": {},
   "outputs": [],
   "source": [
    "from torchvision.models import resnet18, ResNet18_Weights\n",
    "import torch.nn as nn\n",
    "\n",
    "class AgeRegressionResNet(nn.Module):\n",
    "    def __init__(self, pretrained=True):\n",
    "        super().__init__()\n",
    "        weights = ResNet18_Weights.DEFAULT if pretrained else None\n",
    "        self.backbone = resnet18(weights=weights)\n",
    "        self.backbone.fc = nn.Sequential(\n",
    "            nn.Dropout(p=0.5),\n",
    "            nn.Linear(self.backbone.fc.in_features, 1)  # Output one value\n",
    "        )\n",
    "\n",
    "    def forward(self, x):\n",
    "        return self.backbone(x)"
   ]
  },
  {
   "cell_type": "code",
   "execution_count": 15,
   "id": "559dd746",
   "metadata": {},
   "outputs": [
    {
     "name": "stdout",
     "output_type": "stream",
     "text": [
      "Epoch 1/20: Train Loss = 2947.7907, Val Loss = 2287.8198, MAE = 43.83, RMSE = 47.83, R^2: -2.4848\n",
      "Epoch 2/20: Train Loss = 2345.5803, Val Loss = 2435.9880, MAE = 45.94, RMSE = 49.36, R^2: -2.7105\n",
      "Epoch 3/20: Train Loss = 1989.6397, Val Loss = 1860.9496, MAE = 40.44, RMSE = 43.14, R^2: -1.8346\n",
      "Epoch 4/20: Train Loss = 1678.5200, Val Loss = 1535.6041, MAE = 36.49, RMSE = 39.19, R^2: -1.3391\n",
      "Epoch 5/20: Train Loss = 1399.3459, Val Loss = 1513.9017, MAE = 36.18, RMSE = 38.91, R^2: -1.3060\n",
      "Epoch 6/20: Train Loss = 1155.4701, Val Loss = 1216.5946, MAE = 32.43, RMSE = 34.88, R^2: -0.8531\n",
      "Epoch 7/20: Train Loss = 944.1166, Val Loss = 798.5410, MAE = 25.71, RMSE = 28.26, R^2: -0.2164\n",
      "Epoch 8/20: Train Loss = 757.7398, Val Loss = 1236.1139, MAE = 32.46, RMSE = 35.16, R^2: -0.8829\n",
      "Epoch 9/20: Train Loss = 610.5696, Val Loss = 518.4506, MAE = 20.10, RMSE = 22.77, R^2: 0.2103\n",
      "Epoch 10/20: Train Loss = 468.6300, Val Loss = 478.5889, MAE = 19.39, RMSE = 21.88, R^2: 0.2710\n",
      "Epoch 11/20: Train Loss = 363.6443, Val Loss = 428.0218, MAE = 17.69, RMSE = 20.69, R^2: 0.3480\n",
      "Epoch 12/20: Train Loss = 256.0317, Val Loss = 254.9383, MAE = 13.57, RMSE = 15.97, R^2: 0.6117\n",
      "Epoch 13/20: Train Loss = 193.3931, Val Loss = 224.5105, MAE = 12.70, RMSE = 14.98, R^2: 0.6580\n",
      "Epoch 14/20: Train Loss = 138.3271, Val Loss = 199.4100, MAE = 11.75, RMSE = 14.12, R^2: 0.6963\n",
      "Epoch 15/20: Train Loss = 105.3827, Val Loss = 136.8864, MAE = 9.51, RMSE = 11.70, R^2: 0.7915\n",
      "Epoch 16/20: Train Loss = 74.0065, Val Loss = 137.5434, MAE = 9.51, RMSE = 11.73, R^2: 0.7905\n",
      "Epoch 17/20: Train Loss = 53.8001, Val Loss = 139.7144, MAE = 9.50, RMSE = 11.82, R^2: 0.7872\n",
      "Epoch 18/20: Train Loss = 52.2859, Val Loss = 132.9072, MAE = 9.25, RMSE = 11.53, R^2: 0.7976\n",
      "Epoch 19/20: Train Loss = 46.0921, Val Loss = 115.1836, MAE = 8.24, RMSE = 10.73, R^2: 0.8246\n",
      "Epoch 20/20: Train Loss = 46.1589, Val Loss = 131.7457, MAE = 9.18, RMSE = 11.48, R^2: 0.7993\n"
     ]
    }
   ],
   "source": [
    "from train import train_regression\n",
    "\n",
    "target_model = AgeRegressionResNet(pretrained=True).to(mps_device)\n",
    "criterion = nn.MSELoss()\n",
    "optimizer = optim.Adam(target_model.parameters(), lr=1e-4, weight_decay=1e-4)\n",
    "\n",
    "trained_model, train_history = train_regression(\n",
    "    model=target_model,\n",
    "    train_loader=train_loader,\n",
    "    eval_loader=val_loader,\n",
    "    criterion=criterion,\n",
    "    optimizer=optimizer,\n",
    "    num_epochs=20,\n",
    "    device=mps_device,\n",
    "    save_path='models/chest2d_regression.pt',\n",
    "    verbose=True\n",
    ")"
   ]
  },
  {
   "cell_type": "markdown",
   "id": "763a30bb",
   "metadata": {},
   "source": [
    "## Overfit CNN - Distinctive Features"
   ]
  },
  {
   "cell_type": "code",
   "execution_count": 7,
   "id": "efb2da92",
   "metadata": {},
   "outputs": [],
   "source": [
    "from dataset import FeatsDataset\n",
    "\n",
    "# Load JSON\n",
    "with open(\"images/feats_images.json\", \"r\") as f:\n",
    "    json_data = json.load(f)\n",
    "\n",
    "transform = transforms.Compose([\n",
    "    transforms.Resize((224, 224)),\n",
    "    transforms.ToTensor(),\n",
    "    transforms.Normalize([0.5], [0.5])\n",
    "])\n",
    "\n",
    "image_root = '../data/CheXpert_Feats/'\n",
    "\n",
    "train_dataset = FeatsDataset(json_data, image_root, split=\"train\", transform=transform)\n",
    "val_dataset = FeatsDataset(json_data, image_root, split=\"val\", transform=transform)\n",
    "\n",
    "train_loader = DataLoader(train_dataset, batch_size=1, shuffle=True)\n",
    "val_loader = DataLoader(val_dataset, batch_size=1, shuffle=False)"
   ]
  },
  {
   "cell_type": "code",
   "execution_count": 8,
   "id": "c8005cea",
   "metadata": {},
   "outputs": [
    {
     "data": {
      "image/png": "[encoded data removed]",
      "text/plain": [
       "<Figure size 640x480 with 1 Axes>"
      ]
     },
     "metadata": {},
     "output_type": "display_data"
    }
   ],
   "source": [
    "import torchvision.transforms.functional as TF\n",
    "\n",
    "img, label, age, sex = train_dataset[0]\n",
    "\n",
    "if isinstance(img, torch.Tensor):\n",
    "    img_show = TF.to_pil_image(img)\n",
    "else:\n",
    "    img_show = img\n",
    "\n",
    "plt.imshow(img_show)\n",
    "plt.title(f\"Label: {int(label.item())}, Age: {int(age.item())}, Sex: {'Male' if sex.item() == 1.0 else 'Female'}\")\n",
    "plt.axis('off')\n",
    "plt.show()"
   ]
  },
  {
   "cell_type": "code",
   "execution_count": 10,
   "id": "e46f312e",
   "metadata": {},
   "outputs": [
    {
     "name": "stdout",
     "output_type": "stream",
     "text": [
      "Epoch 1/10: Loss = 0.6989, Train Acc = 0.5625, Val Acc = 0.1250, Val AUC (avg) = 0.1667\n",
      "Epoch 2/10: Loss = 0.6360, Train Acc = 0.7188, Val Acc = 0.2500, Val AUC (avg) = 0.0833\n",
      "Epoch 3/10: Loss = 0.5412, Train Acc = 0.7500, Val Acc = 0.1250, Val AUC (avg) = 0.0000\n",
      "Epoch 4/10: Loss = 0.4671, Train Acc = 1.0000, Val Acc = 0.5000, Val AUC (avg) = 0.3333\n",
      "Epoch 5/10: Loss = 0.3970, Train Acc = 1.0000, Val Acc = 0.5000, Val AUC (avg) = 0.1667\n",
      "Epoch 6/10: Loss = 0.3431, Train Acc = 1.0000, Val Acc = 0.5000, Val AUC (avg) = 0.5000\n",
      "Epoch 7/10: Loss = 0.2990, Train Acc = 1.0000, Val Acc = 0.2500, Val AUC (avg) = 0.0833\n",
      "Epoch 8/10: Loss = 0.2572, Train Acc = 1.0000, Val Acc = 0.3750, Val AUC (avg) = 0.1667\n",
      "Epoch 9/10: Loss = 0.2195, Train Acc = 1.0000, Val Acc = 0.2500, Val AUC (avg) = 0.0833\n",
      "Epoch 10/10: Loss = 0.1893, Train Acc = 1.0000, Val Acc = 0.3750, Val AUC (avg) = 0.3333\n"
     ]
    }
   ],
   "source": [
    "from train import train_target\n",
    "from torchvision.models import resnet18, ResNet18_Weights\n",
    "\n",
    "target_model = resnet18(weights=ResNet18_Weights.IMAGENET1K_V1)\n",
    "features = target_model.fc.in_features\n",
    "target_model.fc = nn.Linear(features, 1) # binary classification\n",
    "target_model.to(mps_device)\n",
    "\n",
    "target_optimizer = optim.Adam(target_model.parameters(), lr=1e-4)\n",
    "target_criterion = nn.BCEWithLogitsLoss()\n",
    "\n",
    "trained_model, train_history = train_target(\n",
    "    model=target_model,\n",
    "    train_loader=train_loader,\n",
    "    eval_loader=val_loader,\n",
    "    criterion=target_criterion,\n",
    "    optimizer=target_optimizer,\n",
    "    num_epochs=10,\n",
    "    device=mps_device,\n",
    "    save_path='models/chest2d_cnn_overfit_feats.pt',\n",
    "    verbose=True\n",
    ")"
   ]
  },
  {
   "cell_type": "code",
   "execution_count": null,
   "id": "71dc4699",
   "metadata": {},
   "outputs": [],
   "source": []
  }
 ],
 "metadata": {
  "kernelspec": {
   "display_name": "reid-attack",
   "language": "python",
   "name": "python3"
  },
  "language_info": {
   "codemirror_mode": {
    "name": "ipython",
    "version": 3
   },
   "file_extension": ".py",
   "mimetype": "text/x-python",
   "name": "python",
   "nbconvert_exporter": "python",
   "pygments_lexer": "ipython3",
   "version": "3.11.12"
  }
 },
 "nbformat": 4,
 "nbformat_minor": 5
}
